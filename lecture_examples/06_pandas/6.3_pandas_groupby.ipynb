{
 "cells": [
  {
   "cell_type": "markdown",
   "metadata": {},
   "source": [
    "# Pandas groupby\n",
    "\n",
    "Pandas groupby can make it easy to perform statistics on relevant groupings of data. \n",
    "\n",
    "The groupby feature combines filtering, looping, and running statistics into one line. Your main job is to make sure you are using it correctly and to test it is working as you would expect.\n",
    "\n",
    "<a href=https://pandas.pydata.org/docs/user_guide/groupby.html>Pandas groupby examples</a>\n",
    "\n",
    "## Demonstrating groupby on the SPC tornado dataset:\n",
    "\n",
    "If we wanted to get statistics for each year, we might be tempted to use filtering:"
   ]
  },
  {
   "cell_type": "code",
   "execution_count": 1,
   "metadata": {},
   "outputs": [
    {
     "name": "stdout",
     "output_type": "stream",
     "text": [
      "Count for 1950 201\n",
      "Count for 1951 260\n"
     ]
    }
   ],
   "source": [
    "import pandas as pd\n",
    "\n",
    "tor = pd.read_csv(\"1950-2022_actual_tornadoes.csv\")\n",
    "\n",
    "# DO NOT DO THIS!\n",
    "yr_1950 = tor[tor.yr==1950]\n",
    "yr_1951 = tor[tor.yr==1951]\n",
    "\n",
    "print(\"Count for 1950\", len(yr_1950))\n",
    "print(\"Count for 1951\", len(yr_1951))"
   ]
  },
  {
   "cell_type": "markdown",
   "metadata": {},
   "source": [
    "As you can imagine, if we try this on a dataset of 100s or 1000s of years, this will become overwhelmingly complicated.\n",
    "\n",
    "Let's examine a better way with some example data:"
   ]
  },
  {
   "cell_type": "code",
   "execution_count": 2,
   "metadata": {},
   "outputs": [
    {
     "data": {
      "text/html": [
       "<div>\n",
       "<style scoped>\n",
       "    .dataframe tbody tr th:only-of-type {\n",
       "        vertical-align: middle;\n",
       "    }\n",
       "\n",
       "    .dataframe tbody tr th {\n",
       "        vertical-align: top;\n",
       "    }\n",
       "\n",
       "    .dataframe thead th {\n",
       "        text-align: right;\n",
       "    }\n",
       "</style>\n",
       "<table border=\"1\" class=\"dataframe\">\n",
       "  <thead>\n",
       "    <tr style=\"text-align: right;\">\n",
       "      <th></th>\n",
       "      <th>month</th>\n",
       "      <th>data_value</th>\n",
       "    </tr>\n",
       "  </thead>\n",
       "  <tbody>\n",
       "    <tr>\n",
       "      <th>0</th>\n",
       "      <td>1</td>\n",
       "      <td>18.1</td>\n",
       "    </tr>\n",
       "    <tr>\n",
       "      <th>1</th>\n",
       "      <td>1</td>\n",
       "      <td>9.1</td>\n",
       "    </tr>\n",
       "    <tr>\n",
       "      <th>2</th>\n",
       "      <td>1</td>\n",
       "      <td>0.5</td>\n",
       "    </tr>\n",
       "    <tr>\n",
       "      <th>3</th>\n",
       "      <td>4</td>\n",
       "      <td>1.0</td>\n",
       "    </tr>\n",
       "    <tr>\n",
       "      <th>4</th>\n",
       "      <td>5</td>\n",
       "      <td>5.4</td>\n",
       "    </tr>\n",
       "    <tr>\n",
       "      <th>5</th>\n",
       "      <td>8</td>\n",
       "      <td>9.0</td>\n",
       "    </tr>\n",
       "    <tr>\n",
       "      <th>6</th>\n",
       "      <td>8</td>\n",
       "      <td>10.4</td>\n",
       "    </tr>\n",
       "    <tr>\n",
       "      <th>7</th>\n",
       "      <td>10</td>\n",
       "      <td>9.5</td>\n",
       "    </tr>\n",
       "  </tbody>\n",
       "</table>\n",
       "</div>"
      ],
      "text/plain": [
       "   month  data_value\n",
       "0      1        18.1\n",
       "1      1         9.1\n",
       "2      1         0.5\n",
       "3      4         1.0\n",
       "4      5         5.4\n",
       "5      8         9.0\n",
       "6      8        10.4\n",
       "7     10         9.5"
      ]
     },
     "execution_count": 2,
     "metadata": {},
     "output_type": "execute_result"
    }
   ],
   "source": [
    "test_data = {'month': [1, 1, 1, 4, 5, 8, 8, 10], 'data_value': [18.1, 9.1, 0.5, 1.0, 5.4, 9.0, 10.4, 9.5]}\n",
    "\n",
    "df = pd.DataFrame.from_dict(test_data)\n",
    "\n",
    "df"
   ]
  },
  {
   "cell_type": "markdown",
   "metadata": {},
   "source": [
    "If we wanted to find the mean ```data_value``` for each month, we could try and filter the data:"
   ]
  },
  {
   "cell_type": "code",
   "execution_count": 3,
   "metadata": {},
   "outputs": [
    {
     "data": {
      "text/html": [
       "<div>\n",
       "<style scoped>\n",
       "    .dataframe tbody tr th:only-of-type {\n",
       "        vertical-align: middle;\n",
       "    }\n",
       "\n",
       "    .dataframe tbody tr th {\n",
       "        vertical-align: top;\n",
       "    }\n",
       "\n",
       "    .dataframe thead th {\n",
       "        text-align: right;\n",
       "    }\n",
       "</style>\n",
       "<table border=\"1\" class=\"dataframe\">\n",
       "  <thead>\n",
       "    <tr style=\"text-align: right;\">\n",
       "      <th></th>\n",
       "      <th>month</th>\n",
       "      <th>data_value</th>\n",
       "    </tr>\n",
       "  </thead>\n",
       "  <tbody>\n",
       "    <tr>\n",
       "      <th>0</th>\n",
       "      <td>1</td>\n",
       "      <td>18.1</td>\n",
       "    </tr>\n",
       "    <tr>\n",
       "      <th>1</th>\n",
       "      <td>1</td>\n",
       "      <td>9.1</td>\n",
       "    </tr>\n",
       "    <tr>\n",
       "      <th>2</th>\n",
       "      <td>1</td>\n",
       "      <td>0.5</td>\n",
       "    </tr>\n",
       "  </tbody>\n",
       "</table>\n",
       "</div>"
      ],
      "text/plain": [
       "   month  data_value\n",
       "0      1        18.1\n",
       "1      1         9.1\n",
       "2      1         0.5"
      ]
     },
     "execution_count": 3,
     "metadata": {},
     "output_type": "execute_result"
    }
   ],
   "source": [
    "df[df.month==1]"
   ]
  },
  {
   "cell_type": "markdown",
   "metadata": {},
   "source": [
    "and then find the mean"
   ]
  },
  {
   "cell_type": "code",
   "execution_count": 4,
   "metadata": {},
   "outputs": [
    {
     "data": {
      "text/plain": [
       "9.233333333333334"
      ]
     },
     "execution_count": 4,
     "metadata": {},
     "output_type": "execute_result"
    }
   ],
   "source": [
    "df[df.month==1]['data_value'].mean()"
   ]
  },
  {
   "cell_type": "markdown",
   "metadata": {},
   "source": [
    "and then repeat this for each month"
   ]
  },
  {
   "cell_type": "code",
   "execution_count": 5,
   "metadata": {},
   "outputs": [
    {
     "name": "stdout",
     "output_type": "stream",
     "text": [
      "Month 1 mean is 9.233333333333334\n",
      "Month 4 mean is 1.0\n",
      "Month 5 mean is 5.4\n",
      "Month 8 mean is 9.7\n",
      "Month 10 mean is 9.5\n"
     ]
    }
   ],
   "source": [
    "print(\"Month 1 mean is\", df[df.month==1]['data_value'].mean())\n",
    "print(\"Month 4 mean is\", df[df.month==4]['data_value'].mean())\n",
    "print(\"Month 5 mean is\", df[df.month==5]['data_value'].mean())\n",
    "print(\"Month 8 mean is\", df[df.month==8]['data_value'].mean())\n",
    "print(\"Month 10 mean is\", df[df.month==10]['data_value'].mean())"
   ]
  },
  {
   "cell_type": "markdown",
   "metadata": {},
   "source": [
    "we could even turn this into a loop"
   ]
  },
  {
   "cell_type": "code",
   "execution_count": 6,
   "metadata": {},
   "outputs": [
    {
     "name": "stdout",
     "output_type": "stream",
     "text": [
      "The mean for month 1 is 9.23\n",
      "The mean for month 4 is 1.00\n",
      "The mean for month 5 is 5.40\n",
      "The mean for month 8 is 9.70\n",
      "The mean for month 10 is 9.50\n"
     ]
    }
   ],
   "source": [
    "for month_int in df['month'].unique():\n",
    "\n",
    "    condition = df.month==month_int\n",
    "\n",
    "    df_filter = df[condition]\n",
    "\n",
    "    mean_result = df_filter['data_value'].mean()\n",
    "\n",
    "    print(f\"The mean for month {month_int} is {mean_result:.2f}\")"
   ]
  },
  {
   "cell_type": "markdown",
   "metadata": {},
   "source": [
    "### However, this is way too complicated. Groupby can do this all for you!"
   ]
  },
  {
   "cell_type": "code",
   "execution_count": 7,
   "metadata": {},
   "outputs": [
    {
     "data": {
      "text/html": [
       "<div>\n",
       "<style scoped>\n",
       "    .dataframe tbody tr th:only-of-type {\n",
       "        vertical-align: middle;\n",
       "    }\n",
       "\n",
       "    .dataframe tbody tr th {\n",
       "        vertical-align: top;\n",
       "    }\n",
       "\n",
       "    .dataframe thead th {\n",
       "        text-align: right;\n",
       "    }\n",
       "</style>\n",
       "<table border=\"1\" class=\"dataframe\">\n",
       "  <thead>\n",
       "    <tr style=\"text-align: right;\">\n",
       "      <th></th>\n",
       "      <th>data_value</th>\n",
       "    </tr>\n",
       "    <tr>\n",
       "      <th>month</th>\n",
       "      <th></th>\n",
       "    </tr>\n",
       "  </thead>\n",
       "  <tbody>\n",
       "    <tr>\n",
       "      <th>1</th>\n",
       "      <td>9.233333</td>\n",
       "    </tr>\n",
       "    <tr>\n",
       "      <th>4</th>\n",
       "      <td>1.000000</td>\n",
       "    </tr>\n",
       "    <tr>\n",
       "      <th>5</th>\n",
       "      <td>5.400000</td>\n",
       "    </tr>\n",
       "    <tr>\n",
       "      <th>8</th>\n",
       "      <td>9.700000</td>\n",
       "    </tr>\n",
       "    <tr>\n",
       "      <th>10</th>\n",
       "      <td>9.500000</td>\n",
       "    </tr>\n",
       "  </tbody>\n",
       "</table>\n",
       "</div>"
      ],
      "text/plain": [
       "       data_value\n",
       "month            \n",
       "1        9.233333\n",
       "4        1.000000\n",
       "5        5.400000\n",
       "8        9.700000\n",
       "10       9.500000"
      ]
     },
     "execution_count": 7,
     "metadata": {},
     "output_type": "execute_result"
    }
   ],
   "source": [
    "group_means = df.groupby('month').mean()\n",
    "\n",
    "group_means"
   ]
  },
  {
   "cell_type": "markdown",
   "metadata": {},
   "source": [
    "### Groupby 'yr' in the tornado dataset\n",
    "\n",
    "We can easily get the count of tornadoes from each year using the groupby and ```count``` method:"
   ]
  },
  {
   "cell_type": "code",
   "execution_count": 8,
   "metadata": {},
   "outputs": [
    {
     "data": {
      "image/png": "[encoded data removed]",
      "text/plain": [
       "<Figure size 640x480 with 1 Axes>"
      ]
     },
     "metadata": {},
     "output_type": "display_data"
    }
   ],
   "source": [
    "import matplotlib.pyplot as plt\n",
    "\n",
    "yr_counts = tor.groupby('yr').count()\n",
    "\n",
    "# for count you can pick any column, I picked 'om'.\n",
    "# this will not work for sum, mean, median, etc.\n",
    "plt.bar(yr_counts.index, yr_counts['om'])\n",
    "\n",
    "plt.title(\"Tornado Counts per Year\")\n",
    "plt.ylabel(\"Count\")\n",
    "plt.xlabel(\"Year\")\n",
    "plt.show()"
   ]
  },
  {
   "cell_type": "markdown",
   "metadata": {},
   "source": [
    "You can also loop through lists and run statistics.\n",
    "\n",
    "Example 1: Number of fatalities per year"
   ]
  },
  {
   "cell_type": "code",
   "execution_count": 9,
   "metadata": {},
   "outputs": [
    {
     "name": "stdout",
     "output_type": "stream",
     "text": [
      "tornado fatalities in 1950 = 70\n",
      "tornado fatalities in 1951 = 34\n",
      "tornado fatalities in 1952 = 230\n",
      "tornado fatalities in 1953 = 523\n",
      "tornado fatalities in 1954 = 36\n",
      "tornado fatalities in 1955 = 129\n",
      "tornado fatalities in 1956 = 81\n",
      "tornado fatalities in 1957 = 192\n",
      "tornado fatalities in 1958 = 67\n",
      "tornado fatalities in 1959 = 58\n",
      "tornado fatalities in 1960 = 46\n",
      "tornado fatalities in 1961 = 52\n",
      "tornado fatalities in 1962 = 30\n",
      "tornado fatalities in 1963 = 31\n",
      "tornado fatalities in 1964 = 73\n",
      "tornado fatalities in 1965 = 301\n",
      "tornado fatalities in 1966 = 98\n",
      "tornado fatalities in 1967 = 114\n",
      "tornado fatalities in 1968 = 131\n",
      "tornado fatalities in 1969 = 66\n",
      "tornado fatalities in 1970 = 73\n",
      "tornado fatalities in 1971 = 159\n",
      "tornado fatalities in 1972 = 27\n",
      "tornado fatalities in 1973 = 89\n",
      "tornado fatalities in 1974 = 366\n",
      "tornado fatalities in 1975 = 60\n",
      "tornado fatalities in 1976 = 44\n",
      "tornado fatalities in 1977 = 43\n",
      "tornado fatalities in 1978 = 53\n",
      "tornado fatalities in 1979 = 84\n",
      "tornado fatalities in 1980 = 28\n",
      "tornado fatalities in 1981 = 24\n",
      "tornado fatalities in 1982 = 64\n",
      "tornado fatalities in 1983 = 34\n",
      "tornado fatalities in 1984 = 122\n",
      "tornado fatalities in 1985 = 94\n",
      "tornado fatalities in 1986 = 15\n",
      "tornado fatalities in 1987 = 59\n",
      "tornado fatalities in 1988 = 32\n",
      "tornado fatalities in 1989 = 50\n",
      "tornado fatalities in 1990 = 53\n",
      "tornado fatalities in 1991 = 39\n",
      "tornado fatalities in 1992 = 39\n",
      "tornado fatalities in 1993 = 33\n",
      "tornado fatalities in 1994 = 69\n",
      "tornado fatalities in 1995 = 30\n",
      "tornado fatalities in 1996 = 26\n",
      "tornado fatalities in 1997 = 68\n",
      "tornado fatalities in 1998 = 130\n",
      "tornado fatalities in 1999 = 94\n",
      "tornado fatalities in 2000 = 41\n",
      "tornado fatalities in 2001 = 40\n",
      "tornado fatalities in 2002 = 55\n",
      "tornado fatalities in 2003 = 54\n",
      "tornado fatalities in 2004 = 35\n",
      "tornado fatalities in 2005 = 38\n",
      "tornado fatalities in 2006 = 67\n",
      "tornado fatalities in 2007 = 81\n",
      "tornado fatalities in 2008 = 126\n",
      "tornado fatalities in 2009 = 22\n",
      "tornado fatalities in 2010 = 45\n",
      "tornado fatalities in 2011 = 553\n",
      "tornado fatalities in 2012 = 69\n",
      "tornado fatalities in 2013 = 55\n",
      "tornado fatalities in 2014 = 47\n",
      "tornado fatalities in 2015 = 36\n",
      "tornado fatalities in 2016 = 18\n",
      "tornado fatalities in 2017 = 35\n",
      "tornado fatalities in 2018 = 10\n",
      "tornado fatalities in 2019 = 42\n",
      "tornado fatalities in 2020 = 76\n",
      "tornado fatalities in 2021 = 104\n",
      "tornado fatalities in 2022 = 23\n",
      "Average month in 1950 5.208955223880597\n",
      "Average month in 1951 6.211538461538462\n",
      "Average month in 1952 4.770833333333333\n",
      "Average month in 1953 5.67458432304038\n",
      "Average month in 1954 5.6054545454545455\n",
      "Average month in 1955 5.776649746192893\n",
      "Average month in 1956 5.779761904761905\n",
      "Average month in 1957 5.839160839160839\n",
      "Average month in 1958 6.2695035460992905\n",
      "Average month in 1959 5.836092715231788\n",
      "Average month in 1960 5.711038961038961\n",
      "Average month in 1961 5.764705882352941\n",
      "Average month in 1962 5.665144596651446\n",
      "Average month in 1963 5.695464362850972\n",
      "Average month in 1964 5.919034090909091\n",
      "Average month in 1965 5.800445930880714\n",
      "Average month in 1966 6.2615384615384615\n",
      "Average month in 1967 6.37108953613808\n",
      "Average month in 1968 6.377473363774734\n",
      "Average month in 1969 6.370065789473684\n",
      "Average month in 1970 6.277182235834609\n",
      "Average month in 1971 6.0517435320584925\n",
      "Average month in 1972 5.887989203778678\n",
      "Average month in 1973 6.1751361161524505\n",
      "Average month in 1974 5.622222222222222\n",
      "Average month in 1975 5.542981501632209\n",
      "Average month in 1976 5.028776978417266\n",
      "Average month in 1977 6.14906103286385\n",
      "Average month in 1978 5.955640050697085\n",
      "Average month in 1979 6.330994152046784\n",
      "Average month in 1980 5.856812933025404\n",
      "Average month in 1981 5.883631713554987\n",
      "Average month in 1982 6.069723018147087\n",
      "Average month in 1983 6.136559139784946\n",
      "Average month in 1984 5.706725468577729\n",
      "Average month in 1985 5.956140350877193\n",
      "Average month in 1986 5.930718954248366\n",
      "Average month in 1987 6.492378048780488\n",
      "Average month in 1988 7.169515669515669\n",
      "Average month in 1989 5.977803738317757\n",
      "Average month in 1990 5.824360105913504\n",
      "Average month in 1991 5.145759717314488\n",
      "Average month in 1992 6.827293754818813\n",
      "Average month in 1993 6.258532423208191\n",
      "Average month in 1994 6.0711645101663585\n",
      "Average month in 1995 6.092966855295069\n",
      "Average month in 1996 6.215686274509804\n",
      "Average month in 1997 5.954703832752613\n",
      "Average month in 1998 5.728230337078652\n",
      "Average month in 1999 4.985063480209111\n",
      "Average month in 2000 5.933953488372093\n",
      "Average month in 2001 6.74320987654321\n",
      "Average month in 2002 7.183083511777302\n",
      "Average month in 2003 5.760553129548763\n",
      "Average month in 2004 6.896532746285085\n",
      "Average month in 2005 6.77513855898654\n",
      "Average month in 2006 5.906618313689936\n",
      "Average month in 2007 5.502283105022831\n",
      "Average month in 2008 5.308466548253405\n",
      "Average month in 2009 5.698096885813149\n",
      "Average month in 2010 6.373926619828259\n",
      "Average month in 2011 5.046717918391485\n",
      "Average month in 2012 5.0554371002132195\n",
      "Average month in 2013 5.947019867549669\n",
      "Average month in 2014 6.186230248306997\n",
      "Average month in 2015 6.425658453695837\n",
      "Average month in 2016 5.585040983606557\n",
      "Average month in 2017 5.156162464985995\n",
      "Average month in 2018 6.904973357015986\n",
      "Average month in 2019 5.736980883322347\n",
      "Average month in 2020 5.472273567467653\n",
      "Average month in 2021 7.254185692541857\n",
      "Average month in 2022 5.4776902887139105\n"
     ]
    }
   ],
   "source": [
    "for group_id, group_data in tor.groupby('yr'):\n",
    "\n",
    "    print(\"tornado fatalities in\", group_id, \"=\", group_data['fat'].sum())\n",
    "\n",
    "for group_id, group_data in tor.groupby('yr'):\n",
    "\n",
    "    print(\"Average month in\", group_id, group_data['mo'].mean())"
   ]
  },
  {
   "cell_type": "markdown",
   "metadata": {},
   "source": [
    "But, it is usually easier to do it in one line:"
   ]
  },
  {
   "cell_type": "code",
   "execution_count": 10,
   "metadata": {},
   "outputs": [
    {
     "data": {
      "text/plain": [
       "Text(0.5, 0, 'Year')"
      ]
     },
     "execution_count": 10,
     "metadata": {},
     "output_type": "execute_result"
    },
    {
     "data": {
      "image/png": "[encoded data removed]",
      "text/plain": [
       "<Figure size 640x480 with 1 Axes>"
      ]
     },
     "metadata": {},
     "output_type": "display_data"
    }
   ],
   "source": [
    "fatality_by_year = tor.groupby('yr').sum()\n",
    "\n",
    "plt.bar(fatality_by_year.index, fatality_by_year['fat'])\n",
    "\n",
    "plt.title(\"Annual Tornado Fatalities\")\n",
    "plt.ylabel(\"Deaths\")\n",
    "plt.xlabel(\"Year\")"
   ]
  },
  {
   "cell_type": "markdown",
   "metadata": {},
   "source": [
    "## Examining the hurricane dataset using pandas and groupby\n",
    "\n",
    "We should always read in the dataset and examine some basic information about it:"
   ]
  },
  {
   "cell_type": "code",
   "execution_count": 11,
   "metadata": {},
   "outputs": [
    {
     "data": {
      "text/plain": [
       "Index(['SEASON', 'NUMBER', 'NAME', 'ISO_TIME', 'NATURE', 'LAT', 'LON',\n",
       "       'WMO_WIND', 'WMO_PRES', 'WMO_AGENCY',\n",
       "       ...\n",
       "       'BOM_GUST_PER', 'REUNION_GUST', 'REUNION_GUST_PER', 'USA_SEAHGT',\n",
       "       'USA_SEARAD_NE', 'USA_SEARAD_SE', 'USA_SEARAD_SW', 'USA_SEARAD_NW',\n",
       "       'STORM_SPEED', 'STORM_DIR'],\n",
       "      dtype='object', length=160)"
      ]
     },
     "execution_count": 11,
     "metadata": {},
     "output_type": "execute_result"
    }
   ],
   "source": [
    "## index_col sets that column name to the index\n",
    "hur = pd.read_csv(\"ibtracs_2020_final.csv\", index_col='SID')\n",
    "\n",
    "hur.columns"
   ]
  },
  {
   "cell_type": "markdown",
   "metadata": {},
   "source": [
    "There are several columns that we do not care about, so we can subset them by providing a list of the columns we do want:"
   ]
  },
  {
   "cell_type": "code",
   "execution_count": 12,
   "metadata": {},
   "outputs": [
    {
     "data": {
      "text/html": [
       "<div>\n",
       "<style scoped>\n",
       "    .dataframe tbody tr th:only-of-type {\n",
       "        vertical-align: middle;\n",
       "    }\n",
       "\n",
       "    .dataframe tbody tr th {\n",
       "        vertical-align: top;\n",
       "    }\n",
       "\n",
       "    .dataframe thead th {\n",
       "        text-align: right;\n",
       "    }\n",
       "</style>\n",
       "<table border=\"1\" class=\"dataframe\">\n",
       "  <thead>\n",
       "    <tr style=\"text-align: right;\">\n",
       "      <th></th>\n",
       "      <th>SEASON</th>\n",
       "      <th>NUMBER</th>\n",
       "      <th>NAME</th>\n",
       "      <th>ISO_TIME</th>\n",
       "      <th>NATURE</th>\n",
       "      <th>LAT</th>\n",
       "      <th>LON</th>\n",
       "      <th>USA_WIND</th>\n",
       "      <th>USA_PRES</th>\n",
       "      <th>USA_SSHS</th>\n",
       "    </tr>\n",
       "    <tr>\n",
       "      <th>SID</th>\n",
       "      <th></th>\n",
       "      <th></th>\n",
       "      <th></th>\n",
       "      <th></th>\n",
       "      <th></th>\n",
       "      <th></th>\n",
       "      <th></th>\n",
       "      <th></th>\n",
       "      <th></th>\n",
       "      <th></th>\n",
       "    </tr>\n",
       "  </thead>\n",
       "  <tbody>\n",
       "    <tr>\n",
       "      <th>2020137N24278</th>\n",
       "      <td>2020</td>\n",
       "      <td>25</td>\n",
       "      <td>ARTHUR</td>\n",
       "      <td>5/15/2020 12:00</td>\n",
       "      <td>DS</td>\n",
       "      <td>23.5000</td>\n",
       "      <td>-81.6000</td>\n",
       "      <td>25</td>\n",
       "      <td>1011</td>\n",
       "      <td>-3</td>\n",
       "    </tr>\n",
       "    <tr>\n",
       "      <th>2020137N24278</th>\n",
       "      <td>2020</td>\n",
       "      <td>25</td>\n",
       "      <td>ARTHUR</td>\n",
       "      <td>5/15/2020 15:00</td>\n",
       "      <td>DS</td>\n",
       "      <td>23.8552</td>\n",
       "      <td>-81.1955</td>\n",
       "      <td>25</td>\n",
       "      <td>1011</td>\n",
       "      <td>-3</td>\n",
       "    </tr>\n",
       "    <tr>\n",
       "      <th>2020137N24278</th>\n",
       "      <td>2020</td>\n",
       "      <td>25</td>\n",
       "      <td>ARTHUR</td>\n",
       "      <td>5/15/2020 18:00</td>\n",
       "      <td>DS</td>\n",
       "      <td>24.2000</td>\n",
       "      <td>-80.8000</td>\n",
       "      <td>25</td>\n",
       "      <td>1011</td>\n",
       "      <td>-3</td>\n",
       "    </tr>\n",
       "    <tr>\n",
       "      <th>2020137N24278</th>\n",
       "      <td>2020</td>\n",
       "      <td>25</td>\n",
       "      <td>ARTHUR</td>\n",
       "      <td>5/15/2020 21:00</td>\n",
       "      <td>DS</td>\n",
       "      <td>24.5350</td>\n",
       "      <td>-80.4273</td>\n",
       "      <td>25</td>\n",
       "      <td>1010</td>\n",
       "      <td>-3</td>\n",
       "    </tr>\n",
       "    <tr>\n",
       "      <th>2020137N24278</th>\n",
       "      <td>2020</td>\n",
       "      <td>25</td>\n",
       "      <td>ARTHUR</td>\n",
       "      <td>5/16/2020 0:00</td>\n",
       "      <td>DS</td>\n",
       "      <td>24.9000</td>\n",
       "      <td>-80.1000</td>\n",
       "      <td>25</td>\n",
       "      <td>1010</td>\n",
       "      <td>-3</td>\n",
       "    </tr>\n",
       "    <tr>\n",
       "      <th>...</th>\n",
       "      <td>...</td>\n",
       "      <td>...</td>\n",
       "      <td>...</td>\n",
       "      <td>...</td>\n",
       "      <td>...</td>\n",
       "      <td>...</td>\n",
       "      <td>...</td>\n",
       "      <td>...</td>\n",
       "      <td>...</td>\n",
       "      <td>...</td>\n",
       "    </tr>\n",
       "    <tr>\n",
       "      <th>2020318N16289</th>\n",
       "      <td>2020</td>\n",
       "      <td>101</td>\n",
       "      <td>IOTA</td>\n",
       "      <td>11/18/2020 0:00</td>\n",
       "      <td>TS</td>\n",
       "      <td>13.7333</td>\n",
       "      <td>-86.7667</td>\n",
       "      <td>40</td>\n",
       "      <td>1000</td>\n",
       "      <td>0</td>\n",
       "    </tr>\n",
       "    <tr>\n",
       "      <th>2020318N16289</th>\n",
       "      <td>2020</td>\n",
       "      <td>101</td>\n",
       "      <td>IOTA</td>\n",
       "      <td>11/18/2020 3:00</td>\n",
       "      <td>TS</td>\n",
       "      <td>13.7690</td>\n",
       "      <td>-87.2733</td>\n",
       "      <td>35</td>\n",
       "      <td>1002</td>\n",
       "      <td>0</td>\n",
       "    </tr>\n",
       "    <tr>\n",
       "      <th>2020318N16289</th>\n",
       "      <td>2020</td>\n",
       "      <td>101</td>\n",
       "      <td>IOTA</td>\n",
       "      <td>11/18/2020 6:00</td>\n",
       "      <td>TS</td>\n",
       "      <td>13.8000</td>\n",
       "      <td>-87.8000</td>\n",
       "      <td>30</td>\n",
       "      <td>1005</td>\n",
       "      <td>-1</td>\n",
       "    </tr>\n",
       "    <tr>\n",
       "      <th>2020318N16289</th>\n",
       "      <td>2020</td>\n",
       "      <td>101</td>\n",
       "      <td>IOTA</td>\n",
       "      <td>11/18/2020 9:00</td>\n",
       "      <td>TS</td>\n",
       "      <td>13.8079</td>\n",
       "      <td>-88.3825</td>\n",
       "      <td>27</td>\n",
       "      <td>1005</td>\n",
       "      <td>-1</td>\n",
       "    </tr>\n",
       "    <tr>\n",
       "      <th>2020318N16289</th>\n",
       "      <td>2020</td>\n",
       "      <td>101</td>\n",
       "      <td>IOTA</td>\n",
       "      <td>11/18/2020 12:00</td>\n",
       "      <td>NR</td>\n",
       "      <td>13.8000</td>\n",
       "      <td>-89.0000</td>\n",
       "      <td>25</td>\n",
       "      <td>1006</td>\n",
       "      <td>-3</td>\n",
       "    </tr>\n",
       "  </tbody>\n",
       "</table>\n",
       "<p>1964 rows × 10 columns</p>\n",
       "</div>"
      ],
      "text/plain": [
       "               SEASON  NUMBER    NAME          ISO_TIME NATURE      LAT  \\\n",
       "SID                                                                       \n",
       "2020137N24278    2020      25  ARTHUR   5/15/2020 12:00     DS  23.5000   \n",
       "2020137N24278    2020      25  ARTHUR   5/15/2020 15:00     DS  23.8552   \n",
       "2020137N24278    2020      25  ARTHUR   5/15/2020 18:00     DS  24.2000   \n",
       "2020137N24278    2020      25  ARTHUR   5/15/2020 21:00     DS  24.5350   \n",
       "2020137N24278    2020      25  ARTHUR    5/16/2020 0:00     DS  24.9000   \n",
       "...               ...     ...     ...               ...    ...      ...   \n",
       "2020318N16289    2020     101    IOTA   11/18/2020 0:00     TS  13.7333   \n",
       "2020318N16289    2020     101    IOTA   11/18/2020 3:00     TS  13.7690   \n",
       "2020318N16289    2020     101    IOTA   11/18/2020 6:00     TS  13.8000   \n",
       "2020318N16289    2020     101    IOTA   11/18/2020 9:00     TS  13.8079   \n",
       "2020318N16289    2020     101    IOTA  11/18/2020 12:00     NR  13.8000   \n",
       "\n",
       "                   LON  USA_WIND USA_PRES  USA_SSHS  \n",
       "SID                                                  \n",
       "2020137N24278 -81.6000        25     1011        -3  \n",
       "2020137N24278 -81.1955        25     1011        -3  \n",
       "2020137N24278 -80.8000        25     1011        -3  \n",
       "2020137N24278 -80.4273        25     1010        -3  \n",
       "2020137N24278 -80.1000        25     1010        -3  \n",
       "...                ...       ...      ...       ...  \n",
       "2020318N16289 -86.7667        40     1000         0  \n",
       "2020318N16289 -87.2733        35     1002         0  \n",
       "2020318N16289 -87.8000        30     1005        -1  \n",
       "2020318N16289 -88.3825        27     1005        -1  \n",
       "2020318N16289 -89.0000        25     1006        -3  \n",
       "\n",
       "[1964 rows x 10 columns]"
      ]
     },
     "execution_count": 12,
     "metadata": {},
     "output_type": "execute_result"
    }
   ],
   "source": [
    "cols_wanted = ['SEASON', 'NUMBER', 'NAME', 'ISO_TIME', 'NATURE', 'LAT', 'LON', 'USA_WIND', 'USA_PRES', 'USA_SSHS']\n",
    "\n",
    "hur_sub = hur[cols_wanted]\n",
    "\n",
    "hur_sub"
   ]
  },
  {
   "cell_type": "markdown",
   "metadata": {},
   "source": [
    "We can calculate per storm statistics by using a unique identifier.\n",
    "\n",
    "Why will 'NAME' work for one season, but not for many seasons?"
   ]
  },
  {
   "cell_type": "code",
   "execution_count": 13,
   "metadata": {},
   "outputs": [
    {
     "name": "stdout",
     "output_type": "stream",
     "text": [
      "2020137N24278\n",
      "2020147N27281\n",
      "2020150N09269\n",
      "2020173N34287\n",
      "2020185N32284\n",
      "2020187N28270\n",
      "2020203N09323\n",
      "2020204N25274\n",
      "2020206N11343\n",
      "2020212N13343\n",
      "2020223N10332\n",
      "2020226N35282\n",
      "2020227N10278\n",
      "2020228N12322\n",
      "2020230N11335\n",
      "2020243N32274\n",
      "2020244N12298\n",
      "2020248N12341\n",
      "2020250N15348\n",
      "2020254N11343\n",
      "2020254N25287\n",
      "2020256N14342\n",
      "2020259N09343\n",
      "2020259N47337\n",
      "2020260N21265\n",
      "2020275N14286\n",
      "2020277N13293\n",
      "2020290N31305\n",
      "2020294N12280\n",
      "2020303N12301\n",
      "2020313N28310\n",
      "2020318N16289\n"
     ]
    }
   ],
   "source": [
    "for sid, storm in hur_sub.groupby('SID'):\n",
    "\n",
    "    print(sid)"
   ]
  },
  {
   "cell_type": "markdown",
   "metadata": {},
   "source": [
    "Find the maximum wind speed for each storm name"
   ]
  },
  {
   "cell_type": "code",
   "execution_count": 14,
   "metadata": {},
   "outputs": [
    {
     "data": {
      "text/plain": [
       "NAME\n",
       "ALPHA                55\n",
       "AMANDA:CRISTOBAL     50\n",
       "ARTHUR               55\n",
       "BERTHA               45\n",
       "BETA                 50\n",
       "DELTA               120\n",
       "DOLLY                40\n",
       "EDOUARD              40\n",
       "EPSILON             100\n",
       "ETA                 130\n",
       "FAY                  50\n",
       "GAMMA                60\n",
       "GENEVIEVE            20\n",
       "GONZALO              55\n",
       "HANNA                75\n",
       "IOTA                140\n",
       "ISAIAS               75\n",
       "JOSEPHINE            40\n",
       "KYLE                 45\n",
       "LAURA               130\n",
       "MARCO                65\n",
       "NANA                 65\n",
       "NOT_NAMED            30\n",
       "OMAR                 35\n",
       "PAULETTE             90\n",
       "RENE                 45\n",
       "SALLY                90\n",
       "TEDDY               120\n",
       "THETA                60\n",
       "VICKY                45\n",
       "WILFRED              35\n",
       "ZETA                 90\n",
       "Name: USA_WIND, dtype: int64"
      ]
     },
     "execution_count": 14,
     "metadata": {},
     "output_type": "execute_result"
    }
   ],
   "source": [
    "max_values = hur_sub.groupby('NAME').max()\n",
    "\n",
    "max_values['USA_WIND']"
   ]
  },
  {
   "cell_type": "markdown",
   "metadata": {},
   "source": [
    "# Try it yourself\n",
    "\n",
    "Group the hurricane data by \"NAME\" and print the name of each group"
   ]
  },
  {
   "cell_type": "code",
   "execution_count": null,
   "metadata": {},
   "outputs": [],
   "source": []
  },
  {
   "cell_type": "markdown",
   "metadata": {},
   "source": [
    "Group the hurricane data by \"USA_SSHS\" (Saffir-Simpson scale), and print out the unique NAMEs in each group."
   ]
  },
  {
   "cell_type": "code",
   "execution_count": null,
   "metadata": {},
   "outputs": [],
   "source": []
  },
  {
   "cell_type": "markdown",
   "metadata": {},
   "source": [
    "Group the hurricane data by month (df.ISO_TIME.dt.month) and count the number of unique storms."
   ]
  },
  {
   "cell_type": "code",
   "execution_count": null,
   "metadata": {},
   "outputs": [],
   "source": []
  },
  {
   "cell_type": "markdown",
   "metadata": {},
   "source": [
    "Plot the \"tracks\" of storms that reached at least CAT 1. Hint, look at the metadata in slides 16, 17, and 18."
   ]
  },
  {
   "cell_type": "code",
   "execution_count": 15,
   "metadata": {},
   "outputs": [],
   "source": [
    "import matplotlib.pyplot as plt\n",
    "\n",
    "# your code here\n",
    "\n",
    "plt.show()"
   ]
  }
 ],
 "metadata": {
  "kernelspec": {
   "display_name": "Python 3 (ipykernel)",
   "language": "python",
   "name": "python3"
  },
  "language_info": {
   "codemirror_mode": {
    "name": "ipython",
    "version": 3
   },
   "file_extension": ".py",
   "mimetype": "text/x-python",
   "name": "python",
   "nbconvert_exporter": "python",
   "pygments_lexer": "ipython3",
   "version": "3.9.12"
  }
 },
 "nbformat": 4,
 "nbformat_minor": 4
}
