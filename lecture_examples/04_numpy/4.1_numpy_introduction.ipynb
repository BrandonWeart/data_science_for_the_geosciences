{
 "cells": [
  {
   "cell_type": "markdown",
   "id": "dcc773d5-776b-4161-b412-0709a5dfb76b",
   "metadata": {},
   "source": [
    "# numpy\n",
    "\n",
    "Thus far, we have explored the \"built-in\" functionality of Python.\n",
    "\n",
    "However, there is a large ecosystem of packages out there that do almost any task you can think of.\n",
    "\n",
    "numpy (pronounced num-pie) is one of those extremely useful packages. \n",
    "\n",
    "### Why numpy?\n",
    "\n",
    "You can think of numpy as a \"supercharged\" way of managing ```list``` data types.\n",
    "\n",
    "Under the hood, the method calls you will be using are powered by very fast programming languages (C/C++/Cython). What numpy does is basically pass your information to those tools and then waits for the result. Once completed, the result is made available in regular Python format.\n",
    "\n",
    "Due to this difference between ```lists``` and numpy data types, calculations on numerical data, particularly large amounts of numerical data, can be completed in a fraction of the time.\n",
    "\n",
    "We can use the built-in ```%timeit``` functionality in Jupyter to demonstrate how ```lists``` and numpy compare when calculating the sum of a large amount of numbers.\n",
    "\n",
    "First, build the ```list``` of integers and an ```numpy.ndarray``` of integers:"
   ]
  },
  {
   "cell_type": "code",
   "execution_count": 14,
   "id": "ebb1c9e4-2ee7-4ac6-8a6f-b54003d0a43e",
   "metadata": {},
   "outputs": [
    {
     "name": "stdout",
     "output_type": "stream",
     "text": [
      "[0, 1, 2, 3, 4, 5, 6, 7, 8, 9]\n",
      "[9990, 9991, 9992, 9993, 9994, 9995, 9996, 9997, 9998, 9999]\n",
      "10000\n"
     ]
    }
   ],
   "source": [
    "python_list = list(range(10000))\n",
    "\n",
    "print(python_list[:10]) # first ten ints\n",
    "print(python_list[-10:]) # last ten ints\n",
    "print(len(python_list)) # length of python list"
   ]
  },
  {
   "cell_type": "markdown",
   "id": "62dc77d8-1965-44bf-a1eb-668cbaca06e6",
   "metadata": {},
   "source": [
    "To use numpy, you first need to import the package (like we did with classes).\n",
    "\n",
    "When you use the ```as``` keyword, you are creating an *alias*. In almost all examples you will see online, the alias for numpy is ```np```.\n",
    "\n",
    "The combination looks like this:\n",
    "\n",
    "```\n",
    "import numpy as np\n",
    "```\n",
    "\n",
    "Which is equivalent to\n",
    "\n",
    "```\n",
    "import numpy\n",
    "```\n",
    "\n",
    "But instead of typing out ```numpy``` every time to use with dot notation, you just type ```np```\n",
    "\n",
    "For example:\n",
    "\n",
    "```\n",
    "import numpy as np\n",
    "\n",
    "numbers = np.arange(100)\n",
    "```\n",
    "\n",
    "vs.\n",
    "\n",
    "```\n",
    "import numpy\n",
    "\n",
    "numbers = numpy.arange(100)\n",
    "```\n",
    "\n",
    "Both are correct, and do the same thing, but the first example requires less typing, is more convenient, and matches up with most online examples and codebase formatting choices.\n",
    "\n",
    "Once imported, you can use dot notation to access numpy methods.\n",
    "\n",
    "One such method named ```arange``` is very similar to Python's ```range()``` method.\n",
    "\n",
    "In other words,\n",
    "\n",
    "```\n",
    "np.arange(10000)\n",
    "```\n",
    "\n",
    "is the same as\n",
    "\n",
    "```\n",
    "list(range(10000))\n",
    "```\n",
    "\n",
    "except the first case will give you an ```numpy.ndarray``` datatype, instead of a ```list``` data type. This is important, because ```numpy.ndarray``` is much more flexible than ```list``` when it comes to complex calculations. There are certainly cases where you will still use ```list``` in your career, but often it is just a *preprocessing* (i.e., preparing and cleaning data) step before converting the ```list``` to a ```numpy.ndarray``` (i.e., casting!). This is very easy to do and I will show examples later in the notebook.\n",
    "\n",
    "The following example creates a ```numpy.ndarray``` of ```int``` that range from 0 to 9999. numpy is also *not inclusive* on the last number for ```arange```. So I pass it 10000 to be equivalent with ```range``` that does not include the last number (i.e., 10000). The same slicing and indexing rules we learned with ```list``` generally apply (i.e., the last number in the slice in both ```list``` and ```numpy.ndarray``` is not inclusive), with some exceptions / nuances we will discuss and examine later."
   ]
  },
  {
   "cell_type": "code",
   "execution_count": 16,
   "id": "9480bcd1-1680-4fed-a424-0da93026e989",
   "metadata": {},
   "outputs": [
    {
     "name": "stdout",
     "output_type": "stream",
     "text": [
      "[0 1 2 3 4 5 6 7 8 9]\n",
      "[9990 9991 9992 9993 9994 9995 9996 9997 9998 9999]\n",
      "10000\n"
     ]
    }
   ],
   "source": [
    "import numpy as np\n",
    "\n",
    "numpy_array = np.arange(10000)\n",
    "\n",
    "print(numpy_array[:10]) # first ten ints\n",
    "print(numpy_array[-10:]) # last ten ints\n",
    "print(len(numpy_array)) # length of python list"
   ]
  },
  {
   "cell_type": "markdown",
   "id": "17ecd8fe-072a-4dba-b42b-ff80078787d0",
   "metadata": {},
   "source": [
    "Next, use ```%timeit``` to calculate the sum of a Python list: "
   ]
  },
  {
   "cell_type": "code",
   "execution_count": 17,
   "id": "c6b2cf55-7058-4d36-a374-5e0c5c788c9f",
   "metadata": {},
   "outputs": [
    {
     "name": "stdout",
     "output_type": "stream",
     "text": [
      "113 µs ± 16 µs per loop (mean ± std. dev. of 7 runs, 1,000 loops each)\n"
     ]
    }
   ],
   "source": [
    "%timeit sum(python_list)"
   ]
  },
  {
   "cell_type": "markdown",
   "id": "7bb344d4-f641-4d7b-99fd-37fc7d04fb9d",
   "metadata": {},
   "source": [
    "Similarly, use ```%timeit``` to calculate the sum of an ```numpy.ndarray```"
   ]
  },
  {
   "cell_type": "code",
   "execution_count": 18,
   "id": "6c33eda0-7de9-4ba9-b1f7-29895a7a28e3",
   "metadata": {},
   "outputs": [
    {
     "name": "stdout",
     "output_type": "stream",
     "text": [
      "16.1 µs ± 627 ns per loop (mean ± std. dev. of 7 runs, 100,000 loops each)\n"
     ]
    }
   ],
   "source": [
    "import numpy as np\n",
    "\n",
    "%timeit np.sum(numpy_array)"
   ]
  },
  {
   "cell_type": "markdown",
   "id": "c67a7b25-0a64-43d7-8d5d-1b84b4f490cb",
   "metadata": {},
   "source": [
    "For this simple example, the numpy version over 5 times faster, on average, compared to ```list```.\n",
    "\n",
    "A difference of ~100 microseconds (0.0001 seconds) might not mean much to you, but imagine doing this same calculation 1 billion times.\n",
    "\n",
    "This might seem like an impossible situation, but consider this. A ~4-km WRF (Weather Research and Forecasting Model) simulation containing the CONUS can have over 1 million grids, each with a ```float``` value.\n",
    "\n",
    "A climate change dataset called \"WRF BCC\" used by researchers in our department has simulation grid with ~1 million grid points. We have output every 15 minutes, and our study periods span 75 years.\n",
    "\n",
    "   - $1 x 10^{6} * 4$ = 4 million floats per hour\n",
    "\n",
    "   - $4 x 10^{6} * 24$ = 96 million floats per day\n",
    "\n",
    "   - $9.6 x 10^{7} * 365$ = 35 billion floats per year\n",
    "\n",
    "   - $3.5 x 10^{10} * 75$ = 2.6 trillion floats in the dataset\n",
    "\n",
    "In other words, if you would like to run a simple calculation like a temperature conversion on the entire dataset, you would need to run that calculation 2.6 trillion times. This can **really** add up the microseconds quickly! And trust me when I say, datasets are not getting any smaller.\n",
    "\n",
    "In other words, if a Python solution for task on \"WRF BCC\" took 16 microseconds for ```numpy.ndarray```, it would take hundreds of days to complete. If it took 113 microseconds for ```list```, it would take thousands of days. Luckily there are even better solutions than numpy that I will talk about in my course **EAE 495 / 598 - Seminar - Climate Science**\n",
    "\n",
    "Other cases can produce an even larger speed up."
   ]
  },
  {
   "cell_type": "markdown",
   "id": "e58eae55-adba-4fd1-bb8e-9d1525292613",
   "metadata": {},
   "source": [
    "# Basic numpy examples\n",
    "\n",
    "You only need to import once in your Notebook:"
   ]
  },
  {
   "cell_type": "code",
   "execution_count": 19,
   "id": "3416843a-5359-452c-a9f9-14803855baee",
   "metadata": {},
   "outputs": [],
   "source": [
    "import numpy as np"
   ]
  },
  {
   "cell_type": "markdown",
   "id": "d3c81a30-17fe-4c3e-8589-e472788d876a",
   "metadata": {},
   "source": [
    "### Finding the mean of a list of numbers\n",
    "\n",
    "numpy can interface with Python ```lists``` in many cases.\n",
    "\n",
    "For example, you can pass a ```list``` as an argument to the ```numpy.mean()``` method:"
   ]
  },
  {
   "cell_type": "code",
   "execution_count": 20,
   "id": "fe452b64-6dd3-4178-9df2-7b7959a9812c",
   "metadata": {},
   "outputs": [
    {
     "name": "stdout",
     "output_type": "stream",
     "text": [
      "mean of [1, 2, 3, 4, 5] = 3.0\n"
     ]
    }
   ],
   "source": [
    "a = [1, 2, 3, 4, 5]\n",
    "\n",
    "print(\"mean of\", a, \"=\", np.mean(a))"
   ]
  },
  {
   "cell_type": "markdown",
   "id": "535ba545-0fd4-4982-b711-b7e045c7a64f",
   "metadata": {},
   "source": [
    "We can examine the ```mean``` method by using the ```help()``` function. This usually gives examples on how to use the method at the end of the \"doc string\":"
   ]
  },
  {
   "cell_type": "code",
   "execution_count": 21,
   "id": "29f11656-c721-4ae8-8816-b1e817fcd51c",
   "metadata": {},
   "outputs": [
    {
     "name": "stdout",
     "output_type": "stream",
     "text": [
      "Help on function mean in module numpy:\n",
      "\n",
      "mean(a, axis=None, dtype=None, out=None, keepdims=<no value>, *, where=<no value>)\n",
      "    Compute the arithmetic mean along the specified axis.\n",
      "    \n",
      "    Returns the average of the array elements.  The average is taken over\n",
      "    the flattened array by default, otherwise over the specified axis.\n",
      "    `float64` intermediate and return values are used for integer inputs.\n",
      "    \n",
      "    Parameters\n",
      "    ----------\n",
      "    a : array_like\n",
      "        Array containing numbers whose mean is desired. If `a` is not an\n",
      "        array, a conversion is attempted.\n",
      "    axis : None or int or tuple of ints, optional\n",
      "        Axis or axes along which the means are computed. The default is to\n",
      "        compute the mean of the flattened array.\n",
      "    \n",
      "        .. versionadded:: 1.7.0\n",
      "    \n",
      "        If this is a tuple of ints, a mean is performed over multiple axes,\n",
      "        instead of a single axis or all the axes as before.\n",
      "    dtype : data-type, optional\n",
      "        Type to use in computing the mean.  For integer inputs, the default\n",
      "        is `float64`; for floating point inputs, it is the same as the\n",
      "        input dtype.\n",
      "    out : ndarray, optional\n",
      "        Alternate output array in which to place the result.  The default\n",
      "        is ``None``; if provided, it must have the same shape as the\n",
      "        expected output, but the type will be cast if necessary.\n",
      "        See :ref:`ufuncs-output-type` for more details.\n",
      "    \n",
      "    keepdims : bool, optional\n",
      "        If this is set to True, the axes which are reduced are left\n",
      "        in the result as dimensions with size one. With this option,\n",
      "        the result will broadcast correctly against the input array.\n",
      "    \n",
      "        If the default value is passed, then `keepdims` will not be\n",
      "        passed through to the `mean` method of sub-classes of\n",
      "        `ndarray`, however any non-default value will be.  If the\n",
      "        sub-class' method does not implement `keepdims` any\n",
      "        exceptions will be raised.\n",
      "    \n",
      "    where : array_like of bool, optional\n",
      "        Elements to include in the mean. See `~numpy.ufunc.reduce` for details.\n",
      "    \n",
      "        .. versionadded:: 1.20.0\n",
      "    \n",
      "    Returns\n",
      "    -------\n",
      "    m : ndarray, see dtype parameter above\n",
      "        If `out=None`, returns a new array containing the mean values,\n",
      "        otherwise a reference to the output array is returned.\n",
      "    \n",
      "    See Also\n",
      "    --------\n",
      "    average : Weighted average\n",
      "    std, var, nanmean, nanstd, nanvar\n",
      "    \n",
      "    Notes\n",
      "    -----\n",
      "    The arithmetic mean is the sum of the elements along the axis divided\n",
      "    by the number of elements.\n",
      "    \n",
      "    Note that for floating-point input, the mean is computed using the\n",
      "    same precision the input has.  Depending on the input data, this can\n",
      "    cause the results to be inaccurate, especially for `float32` (see\n",
      "    example below).  Specifying a higher-precision accumulator using the\n",
      "    `dtype` keyword can alleviate this issue.\n",
      "    \n",
      "    By default, `float16` results are computed using `float32` intermediates\n",
      "    for extra precision.\n",
      "    \n",
      "    Examples\n",
      "    --------\n",
      "    >>> a = np.array([[1, 2], [3, 4]])\n",
      "    >>> np.mean(a)\n",
      "    2.5\n",
      "    >>> np.mean(a, axis=0)\n",
      "    array([2., 3.])\n",
      "    >>> np.mean(a, axis=1)\n",
      "    array([1.5, 3.5])\n",
      "    \n",
      "    In single precision, `mean` can be inaccurate:\n",
      "    \n",
      "    >>> a = np.zeros((2, 512*512), dtype=np.float32)\n",
      "    >>> a[0, :] = 1.0\n",
      "    >>> a[1, :] = 0.1\n",
      "    >>> np.mean(a)\n",
      "    0.54999924\n",
      "    \n",
      "    Computing the mean in float64 is more accurate:\n",
      "    \n",
      "    >>> np.mean(a, dtype=np.float64)\n",
      "    0.55000000074505806 # may vary\n",
      "    \n",
      "    Specifying a where argument:\n",
      "    \n",
      "    >>> a = np.array([[5, 9, 13], [14, 10, 12], [11, 15, 19]])\n",
      "    >>> np.mean(a)\n",
      "    12.0\n",
      "    >>> np.mean(a, where=[[True], [False], [False]])\n",
      "    9.0\n",
      "\n"
     ]
    }
   ],
   "source": [
    "help(np.mean)"
   ]
  },
  {
   "cell_type": "markdown",
   "id": "f13a2d52-840d-4466-a41d-2aa4334abd20",
   "metadata": {},
   "source": [
    "### sorting a list"
   ]
  },
  {
   "cell_type": "code",
   "execution_count": 22,
   "id": "3a858ef2-4e93-4391-ae8e-18b5547eb457",
   "metadata": {},
   "outputs": [
    {
     "name": "stdout",
     "output_type": "stream",
     "text": [
      "sorted [3, 2, 1, 5, 4] = [1 2 3 4 5]\n"
     ]
    }
   ],
   "source": [
    "a = [3, 2, 1, 5, 4]\n",
    "\n",
    "print(\"sorted\", a, \"=\", np.sort(a))"
   ]
  },
  {
   "cell_type": "markdown",
   "id": "8ac0fc98-2f66-4d86-9100-1eeb1b49046a",
   "metadata": {},
   "source": [
    "### finding the maximum value in a list"
   ]
  },
  {
   "cell_type": "code",
   "execution_count": 23,
   "id": "028d2d7b-8020-493a-a04c-eb750bbf185a",
   "metadata": {},
   "outputs": [
    {
     "name": "stdout",
     "output_type": "stream",
     "text": [
      "5\n"
     ]
    }
   ],
   "source": [
    "a = [3, 2, 1, 5, 4]\n",
    "\n",
    "print(np.max(a))"
   ]
  },
  {
   "cell_type": "markdown",
   "id": "cfca28fd-c837-4035-a92b-1fe3115ca9bc",
   "metadata": {},
   "source": [
    "### finding the minimum value in a list:"
   ]
  },
  {
   "cell_type": "code",
   "execution_count": 24,
   "id": "cfaa2a00-a713-407d-886a-aa2a18f1fe25",
   "metadata": {},
   "outputs": [
    {
     "name": "stdout",
     "output_type": "stream",
     "text": [
      "1\n"
     ]
    }
   ],
   "source": [
    "a = [3, 2, 1, 5, 4]\n",
    "\n",
    "print(np.min(a))"
   ]
  },
  {
   "cell_type": "markdown",
   "id": "aa14ad76-8239-4b84-87e2-c34bccbd0210",
   "metadata": {},
   "source": [
    "### Other methods you can use for simple calculations on a ```list```: sum, median, unique, std\n",
    "\n",
    "# Comparing numpy arrays to Python lists\n",
    "\n",
    "Numpy arrays allow fast, *elementwise* mathematical operations.\n",
    "\n",
    "Here is how you would multiply every number in a Python list by 10:"
   ]
  },
  {
   "cell_type": "code",
   "execution_count": 27,
   "id": "93bf0859-5222-4710-bfd7-ef089277ea9c",
   "metadata": {},
   "outputs": [
    {
     "name": "stdout",
     "output_type": "stream",
     "text": [
      "before multiplication [1, 2, 3, 4, 5]\n",
      "After math [10, 20, 30, 40, 50]\n"
     ]
    }
   ],
   "source": [
    "a = [1, 2, 3, 4, 5]\n",
    "\n",
    "print(\"before multiplication\", a)\n",
    "\n",
    "for i in range(len(a)):\n",
    "    \n",
    "    a[i] = a[i] * 10\n",
    "\n",
    "print(\"After math\", a)"
   ]
  },
  {
   "cell_type": "markdown",
   "id": "e9e193c1-5f25-43c3-a4f7-ff91f0353dad",
   "metadata": {},
   "source": [
    "You would have to visit every index, multiply itself by 10, and then set the result to the index position.\n",
    "\n",
    "Compare this to numpy, where the only extra step is converting a python list to a ```numpy.ndarray```\n",
    "\n",
    "```np.array``` is a method that has one argument. The argument should be a composite data type (like a ```list```)the function 'returns' a numpy array representation of that list."
   ]
  },
  {
   "cell_type": "code",
   "execution_count": 29,
   "id": "63087dbe-5ad4-4f83-bc6e-1a6af29f9f8c",
   "metadata": {},
   "outputs": [
    {
     "name": "stdout",
     "output_type": "stream",
     "text": [
      "Before math [1 2 3 4 5]\n",
      "After math [10 20 30 40 50]\n"
     ]
    }
   ],
   "source": [
    "a = np.array([1, 2, 3, 4, 5]) \n",
    "\n",
    "print(\"Before math\", a)\n",
    "\n",
    "a = a * 10 # multiplies every value in 'a' by 10, automatically!\n",
    "\n",
    "print(\"After math\", a)"
   ]
  },
  {
   "cell_type": "markdown",
   "id": "69332dfd-8682-4ddd-b00e-3ef96edd37d8",
   "metadata": {},
   "source": [
    "Although they give the same result, numpy is much easier to work with because it is one line with no loops!\n",
    "\n",
    "## Python list and numpy arrays have the same indexing approach:\n",
    "\n",
    "1. ### Get the 3rd value in a ....\n",
    "\n",
    "<div style=\"display: inline-block\">\n",
    "    \n",
    "| Python list| Numpy array|\n",
    "|------------|------------|\n",
    "| my_list[2] | my_array[2]|\n",
    "    \n",
    "</div>\n",
    "\n",
    "2. ### Get the 2nd through 3rd values in a... \n",
    "\n",
    "<div style=\"display: inline-block\">\n",
    "    \n",
    "| Python list  | Numpy array  |\n",
    "|--------------|--------------|\n",
    "| my_list[1:3] | my_array[1:3]|\n",
    "    \n",
    "</div>\n",
    "\n",
    "3. ### Skip every other value in a...\n",
    "\n",
    "<div style=\"display: inline-block\">\n",
    "    \n",
    "| Python list  | Numpy array  |\n",
    "|--------------|--------------|\n",
    "| my_list[::2] | my_array[::2]|\n",
    "    \n",
    "</div>\n",
    "\n",
    "4. ### Reverse the order of a...\n",
    "\n",
    "<div style=\"display: inline-block\">\n",
    "    \n",
    "| Python list   | Numpy array   |\n",
    "|---------------|---------------|\n",
    "| my_list[::-1] | my_array[::-1]|\n",
    "    \n",
    "</div>"
   ]
  },
  {
   "cell_type": "markdown",
   "id": "af554be2-c882-468c-9644-802eaa298b09",
   "metadata": {},
   "source": [
    "# N-dimensional data\n",
    "\n",
    "If you have more than 1 dimension, numpy can handle visiting every index location automatically.\n",
    "\n",
    "To work with a 2D python list, you would have to use nested for loops:"
   ]
  },
  {
   "cell_type": "code",
   "execution_count": 31,
   "id": "9500032a-1062-4ef6-84f2-d7902cc78c63",
   "metadata": {},
   "outputs": [
    {
     "name": "stdout",
     "output_type": "stream",
     "text": [
      "Before multiply [[1, 2, 3, 4, 5], [1, 2, 3, 4, 5]]\n",
      "After multiply [[10, 20, 30, 40, 50], [10, 20, 30, 40, 50]]\n"
     ]
    }
   ],
   "source": [
    "a = [[1, 2, 3, 4, 5], [1, 2, 3, 4, 5]]\n",
    "\n",
    "print(\"Before multiply\", a)\n",
    "\n",
    "for i in range(2):\n",
    "    for j in range(5):\n",
    "        a[i][j] = a[i][j] * 10\n",
    "\n",
    "print(\"After multiply\", a)"
   ]
  },
  {
   "cell_type": "markdown",
   "id": "ee92dbb7-c449-4c0b-a10b-f3c306112f4c",
   "metadata": {},
   "source": [
    "This is much easier to deal with using numpy:"
   ]
  },
  {
   "cell_type": "code",
   "execution_count": 32,
   "id": "39ceb133-8981-424b-9553-2262aa71dfc6",
   "metadata": {},
   "outputs": [
    {
     "name": "stdout",
     "output_type": "stream",
     "text": [
      "Before multiply [[1 2 3 4 5]\n",
      " [1 2 3 4 5]]\n",
      "After multiply [[10 20 30 40 50]\n",
      " [10 20 30 40 50]]\n"
     ]
    }
   ],
   "source": [
    "import numpy as np\n",
    "\n",
    "a = [[1, 2, 3, 4, 5], [1, 2, 3, 4, 5]]\n",
    "a_n = np.array(a)\n",
    "\n",
    "print(\"Before multiply\", a_n)\n",
    "\n",
    "a_n = a_n * 10\n",
    "\n",
    "print(\"After multiply\", a_n)"
   ]
  },
  {
   "cell_type": "code",
   "execution_count": null,
   "id": "8c6f9f5d-fd94-4bcc-8f0a-029a04528f0f",
   "metadata": {},
   "outputs": [],
   "source": []
  }
 ],
 "metadata": {
  "kernelspec": {
   "display_name": "Python [conda env:pyEAE]",
   "language": "python",
   "name": "conda-env-pyEAE-py"
  },
  "language_info": {
   "codemirror_mode": {
    "name": "ipython",
    "version": 3
   },
   "file_extension": ".py",
   "mimetype": "text/x-python",
   "name": "python",
   "nbconvert_exporter": "python",
   "pygments_lexer": "ipython3",
   "version": "3.9.13"
  }
 },
 "nbformat": 4,
 "nbformat_minor": 5
}
