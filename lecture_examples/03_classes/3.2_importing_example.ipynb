{
 "cells": [
  {
   "cell_type": "markdown",
   "id": "22e7acaa-b846-4186-9f38-6f68f8741815",
   "metadata": {},
   "source": [
    "# A quick importing example"
   ]
  },
  {
   "cell_type": "code",
   "execution_count": 1,
   "id": "3f59e8ac-81a3-4e37-8c8a-05188003a44d",
   "metadata": {},
   "outputs": [
    {
     "name": "stdout",
     "output_type": "stream",
     "text": [
      "The high temperature is 85\n",
      "The low temperature is 65\n",
      "The dewpoint is 64\n",
      "The pressure is 29.4\n",
      "High in K = 302.5944444444445\n",
      "High in C = 29.444444444444446\n"
     ]
    }
   ],
   "source": [
    "from my_file import Observation\n",
    "\n",
    "obs = Observation(high=85, low=65, dew=64, pres=29.4)\n",
    "\n",
    "print(\"The high temperature is\", obs.high_temperature)\n",
    "print(\"The low temperature is\", obs.low_temperature)\n",
    "print(\"The dewpoint is\", obs.dewpoint)\n",
    "print(\"The pressure is\", obs.pressure)\n",
    "print(\"High in K =\", obs.F_to_K())\n",
    "print(\"High in C =\", obs.F_to_C())"
   ]
  }
 ],
 "metadata": {
  "kernelspec": {
   "display_name": "Python [conda env:pyEAE]",
   "language": "python",
   "name": "conda-env-pyEAE-py"
  },
  "language_info": {
   "codemirror_mode": {
    "name": "ipython",
    "version": 3
   },
   "file_extension": ".py",
   "mimetype": "text/x-python",
   "name": "python",
   "nbconvert_exporter": "python",
   "pygments_lexer": "ipython3",
   "version": "3.9.13"
  }
 },
 "nbformat": 4,
 "nbformat_minor": 5
}
