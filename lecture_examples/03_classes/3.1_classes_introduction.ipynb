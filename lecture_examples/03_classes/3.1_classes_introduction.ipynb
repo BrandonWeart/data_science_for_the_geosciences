{
 "cells": [
  {
   "cell_type": "markdown",
   "id": "787797bf-ffd1-4a30-92d9-ea59088c9999",
   "metadata": {},
   "source": [
    "# Classes\n",
    "\n",
    "A class is a \"blueprint\" for a set of related variables and functions.\n",
    "\n",
    "These functions and variables \"belong\" together, and can be \"bundled\" into a self-contained object.\n",
    "\n",
    "NOTE: Please run the cells in order. If you do not, you will get different results and the examples will not make sense to you.\n",
    "\n",
    "# class terms\n",
    "\n",
    "1. ```property```: a variable that is within a class\n",
    "2. ```method```: a function that is within a class\n",
    "\n",
    "Properties and methods act very much like variables and functions. There are a few differences that we will discuss.\n",
    "\n",
    "### Example of a class\n",
    "\n",
    "In this example, we define a class named Observation that contains four properties that are commonly associated with a weather observation."
   ]
  },
  {
   "cell_type": "code",
   "execution_count": 1,
   "id": "704d461f-6081-4df7-9166-30ca58d53a80",
   "metadata": {},
   "outputs": [],
   "source": [
    "class Observation:\n",
    "    \n",
    "    high_temperature = 85\n",
    "    low_temperature = 65\n",
    "    dewpoint = 64\n",
    "    pressure = 29.4"
   ]
  },
  {
   "cell_type": "markdown",
   "id": "fdb3672c-d653-4c55-aac6-9a8db2db0923",
   "metadata": {},
   "source": [
    "### class syntax\n",
    "\n",
    "Much like defining a function, you define a class by using the ```class``` keyword, followed by a space, and then the class name. Just like with a function, you place a colon after the name, create a new line, and then start defining properties and methods that are indented to tell Python that they belong to the class definition.\n",
    "\n",
    "### How do you access values within a class?\n",
    "\n",
    "We can try a few things that we know how to do.\n",
    "\n",
    "1. Indexing"
   ]
  },
  {
   "cell_type": "code",
   "execution_count": 2,
   "id": "eccc7e8b-9952-4263-a7ea-569d4c153b77",
   "metadata": {},
   "outputs": [
    {
     "ename": "TypeError",
     "evalue": "'type' object is not subscriptable",
     "output_type": "error",
     "traceback": [
      "\u001b[0;31m---------------------------------------------------------------------------\u001b[0m",
      "\u001b[0;31mTypeError\u001b[0m                                 Traceback (most recent call last)",
      "Cell \u001b[0;32mIn[2], line 1\u001b[0m\n\u001b[0;32m----> 1\u001b[0m \u001b[43mObservation\u001b[49m\u001b[43m[\u001b[49m\u001b[38;5;241;43m0\u001b[39;49m\u001b[43m]\u001b[49m\n",
      "\u001b[0;31mTypeError\u001b[0m: 'type' object is not subscriptable"
     ]
    }
   ],
   "source": [
    "Observation[0]"
   ]
  },
  {
   "cell_type": "markdown",
   "id": "acad1080-6f69-4629-9181-aba27bb90683",
   "metadata": {},
   "source": [
    "2. Dictionary key"
   ]
  },
  {
   "cell_type": "code",
   "execution_count": 3,
   "id": "ef552b9f-6f09-471f-9e69-441dbc94a737",
   "metadata": {},
   "outputs": [
    {
     "ename": "TypeError",
     "evalue": "'type' object is not subscriptable",
     "output_type": "error",
     "traceback": [
      "\u001b[0;31m---------------------------------------------------------------------------\u001b[0m",
      "\u001b[0;31mTypeError\u001b[0m                                 Traceback (most recent call last)",
      "Cell \u001b[0;32mIn[3], line 1\u001b[0m\n\u001b[0;32m----> 1\u001b[0m \u001b[43mObservation\u001b[49m\u001b[43m[\u001b[49m\u001b[38;5;124;43m'\u001b[39;49m\u001b[38;5;124;43mhigh_temperature\u001b[39;49m\u001b[38;5;124;43m'\u001b[39;49m\u001b[43m]\u001b[49m\n",
      "\u001b[0;31mTypeError\u001b[0m: 'type' object is not subscriptable"
     ]
    }
   ],
   "source": [
    "Observation['high_temperature']"
   ]
  },
  {
   "cell_type": "markdown",
   "id": "921e7e14-c8da-408d-ab84-36213f6710a2",
   "metadata": {},
   "source": [
    "DARN, neither of these worked.\n",
    "\n",
    "### The correct way to access a property within a class\n",
    "\n",
    "The first step is to create an ```instance``` of the class.\n",
    "\n",
    "```instance```: a unique version of the class that maintains its ```state``` based on the way you initialize the class.\n",
    "\n",
    "Here is how you create an ```instance``` of Observation and access ```high_temperature```:"
   ]
  },
  {
   "cell_type": "code",
   "execution_count": 4,
   "id": "0aa61318-f79e-40b7-add1-69ac9f482932",
   "metadata": {},
   "outputs": [
    {
     "name": "stdout",
     "output_type": "stream",
     "text": [
      "85\n"
     ]
    }
   ],
   "source": [
    "obs = Observation()\n",
    "\n",
    "print(obs.high_temperature)"
   ]
  },
  {
   "cell_type": "markdown",
   "id": "12edb009-910f-421e-b9ff-32d81a789e4c",
   "metadata": {},
   "source": [
    "You can access the unique values associated with each ```instance``` of a class by using \"dot notation\".\n",
    "\n",
    "Dot notation is similar to how we used indexing in composite data types. Except, instead of a [], we simply add a ```.``` after the instance.\n",
    "\n",
    "We can access any property within an ```instance``` directly using this approach (how would you do this with f-strings?):"
   ]
  },
  {
   "cell_type": "code",
   "execution_count": 5,
   "id": "c6a7ea1d-4478-4ef8-a588-d7a0d3f2d795",
   "metadata": {},
   "outputs": [
    {
     "name": "stdout",
     "output_type": "stream",
     "text": [
      "The high temperature is 85\n",
      "The low temperature is 65\n",
      "The dewpoint is 64\n",
      "The pressure is 29.4\n"
     ]
    }
   ],
   "source": [
    "print(\"The high temperature is\", obs.high_temperature)\n",
    "print(\"The low temperature is\", obs.low_temperature)\n",
    "print(\"The dewpoint is\", obs.dewpoint)\n",
    "print(\"The pressure is\", obs.pressure)"
   ]
  },
  {
   "cell_type": "markdown",
   "id": "09885068-0a81-4ba7-abb2-7d466da7da91",
   "metadata": {},
   "source": [
    "### class instances\n",
    "\n",
    "Each ```instance``` could have a different value, depending on how you define the class. If you modify one ```instance```, it has no effect on a different ```instance```.\n",
    "\n",
    "The common way to think about this is as follows:\n",
    "\n",
    "A class is a species. Each member of an animal species shares many similar traits. Humans, for example, have a name, an age, and other attributes that distinguish individuals from other humans.\n",
    "\n",
    "Lets make a \"Human\" ```class```:\n",
    "\n",
    "```\n",
    "class Human:\n",
    "\n",
    "    def __init__(self, age, name):\n",
    "        self.Age = age\n",
    "        self.Name = name\n",
    "    \n",
    "```\n",
    "\n",
    "The ```class``` provides a template that all humans share (a name and an age), but do not define ```Age``` and ```Name``` until you create an ```instance```.\n",
    "\n",
    "Unlike the example above, we want to create a class that has unique values associated with the ```instance``` of Human (i.e., an individual) we create. We do this by defining a **method** within the class definition named ```__init__```. \n",
    "\n",
    "\"init\" is short for initialize. In other words, the purpose of this method is to set properties within a class ```instance```. This method has three arguments (but it could be as few as one and as many as you'd like):\n",
    "\n",
    "1. self - This is how you access properties and methods **within** the class. In other words, if you want to set or access a property from another part of the class, you must use ```self``` to access that information with dot notation. This always has to be an argument in this method.\n",
    "\n",
    "2. age - this is the value we would like to assign to a property named 'Age' and assigns an age to an instance of Human\n",
    "\n",
    "3. name - same as 'age', but to the property named 'Name'.\n",
    "\n",
    "The ```self``` argument does not need to be set by the programmer when creating an instance. This is implicitly defined when you create an ```instance```.\n",
    "\n",
    "If we want to create a \"unique\" human, we just need to provide specific values for ```Age``` and ```Name```. Creating two ```instances``` of \"Human\" can be done as follows:\n",
    "\n",
    "```\n",
    "stacey = Human(name='Stacey', age=33)\n",
    "bill = Human(name='Bill', age=30)\n",
    "```\n",
    "\n",
    "We assign the variable named ```stacey``` to an ```instance``` of Human that has an Age of 33 and a Name of 'Stacey'. Similarly, the variable ```bill``` is an ```instance``` of Human that has an Age of 30 and a Name of 'Bill'\n",
    "\n",
    "Here is the code in action:"
   ]
  },
  {
   "cell_type": "code",
   "execution_count": 6,
   "id": "137ad864-c9d7-4568-89ae-25eea421282b",
   "metadata": {},
   "outputs": [
    {
     "name": "stdout",
     "output_type": "stream",
     "text": [
      "<class '__main__.Human'> <class '__main__.Human'>\n"
     ]
    }
   ],
   "source": [
    "class Human:\n",
    "\n",
    "    def __init__(self, age, name):\n",
    "        self.Age = age\n",
    "        self.Name = name\n",
    "        \n",
    "stacey = Human(name='Stacey', age=33)\n",
    "bill = Human(name='Bill', age=30)\n",
    "\n",
    "print(type(stacey), type(bill))"
   ]
  },
  {
   "cell_type": "markdown",
   "id": "54a4863f-c245-42b3-acc9-76465e617d02",
   "metadata": {},
   "source": [
    "The variables ```stacey``` and ```bill``` will have the same ```type``` (Human), but each variable will be a unique ```instance``` of ```Human``` with unique values defined above. \n",
    "\n",
    "You can access the unique values associated with each ```instance``` of a human by using \"dot notation\".\n",
    "\n",
    "Dot notation is similar to how we used indexing in composite data types. Except, instead of a [], we simply add a ```.``` after the instance:"
   ]
  },
  {
   "cell_type": "code",
   "execution_count": 7,
   "id": "d07422fa-4d83-4bdf-b6c4-e9f35f3cbfc7",
   "metadata": {},
   "outputs": [
    {
     "name": "stdout",
     "output_type": "stream",
     "text": [
      "Stacey\n"
     ]
    }
   ],
   "source": [
    "print(stacey.Name)"
   ]
  },
  {
   "cell_type": "markdown",
   "id": "c08a0394-2890-409f-915c-09d3cb5ec25c",
   "metadata": {},
   "source": [
    "### class methods\n",
    "\n",
    "We already defined a method named ```__init__``` in the class definition for Human.\n",
    "\n",
    "Say that we wanted to automatically print the properties (Age and Name) of an instance. We can add a function named ```__str__```. This defines what happens when a class is \"printed\" using the ```print``` statement.\n",
    "\n",
    "For this example, we will start with an f-string template using what we already know how to do:"
   ]
  },
  {
   "cell_type": "code",
   "execution_count": 8,
   "id": "e6dca06f-a568-4cb4-8b7e-5cd0a1981313",
   "metadata": {},
   "outputs": [
    {
     "name": "stdout",
     "output_type": "stream",
     "text": [
      "Hello, my name is Stacey and I am 33 years old.\n"
     ]
    }
   ],
   "source": [
    "name = 'Stacey'\n",
    "age = 33\n",
    "print(f\"Hello, my name is {name} and I am {age} years old.\")"
   ]
  },
  {
   "cell_type": "markdown",
   "id": "8c1cf3b2-869e-48ce-baf9-a08534f63a49",
   "metadata": {},
   "source": [
    "We can use the ```__str__``` method to insert this template into our class definition.\n",
    "\n",
    "What happens if we just paste the above code into the method?"
   ]
  },
  {
   "cell_type": "code",
   "execution_count": 9,
   "id": "51c0df74-3340-4b44-bf17-4de90cd6f33a",
   "metadata": {},
   "outputs": [
    {
     "name": "stdout",
     "output_type": "stream",
     "text": [
      "Hello, my name is Stacey and I am 33 years old.\n"
     ]
    },
    {
     "ename": "TypeError",
     "evalue": "__str__ returned non-string (type NoneType)",
     "output_type": "error",
     "traceback": [
      "\u001b[0;31m---------------------------------------------------------------------------\u001b[0m",
      "\u001b[0;31mTypeError\u001b[0m                                 Traceback (most recent call last)",
      "Cell \u001b[0;32mIn[9], line 12\u001b[0m\n\u001b[1;32m      8\u001b[0m         \u001b[38;5;28mprint\u001b[39m(\u001b[38;5;124mf\u001b[39m\u001b[38;5;124m\"\u001b[39m\u001b[38;5;124mHello, my name is \u001b[39m\u001b[38;5;132;01m{\u001b[39;00mname\u001b[38;5;132;01m}\u001b[39;00m\u001b[38;5;124m and I am \u001b[39m\u001b[38;5;132;01m{\u001b[39;00mage\u001b[38;5;132;01m}\u001b[39;00m\u001b[38;5;124m years old.\u001b[39m\u001b[38;5;124m\"\u001b[39m)\n\u001b[1;32m     10\u001b[0m stacey \u001b[38;5;241m=\u001b[39m Human(name\u001b[38;5;241m=\u001b[39m\u001b[38;5;124m'\u001b[39m\u001b[38;5;124mStacey\u001b[39m\u001b[38;5;124m'\u001b[39m, age\u001b[38;5;241m=\u001b[39m\u001b[38;5;241m33\u001b[39m)\n\u001b[0;32m---> 12\u001b[0m \u001b[38;5;28;43mprint\u001b[39;49m\u001b[43m(\u001b[49m\u001b[43mstacey\u001b[49m\u001b[43m)\u001b[49m\n",
      "\u001b[0;31mTypeError\u001b[0m: __str__ returned non-string (type NoneType)"
     ]
    }
   ],
   "source": [
    "class Human:\n",
    "\n",
    "    def __init__(self, age, name):\n",
    "        self.Age = age\n",
    "        self.Name = name\n",
    "        \n",
    "    def __str__(self):\n",
    "        print(f\"Hello, my name is {name} and I am {age} years old.\")\n",
    "        \n",
    "stacey = Human(name='Stacey', age=33)\n",
    "\n",
    "print(stacey)"
   ]
  },
  {
   "cell_type": "markdown",
   "id": "f276cc1d-1b14-46a2-a9fd-4e031421544c",
   "metadata": {},
   "source": [
    "Python is telling us that ```print``` was expecting a string, but it got something else. In this case, you tried to ```print``` within the method, which \"returns\" None, since all it needs to do is print and not give anything back after it is completed.\n",
    "\n",
    "The key here is we need to return a string! So, remove the print statement and see what happens:"
   ]
  },
  {
   "cell_type": "code",
   "execution_count": 10,
   "id": "54d96ebc-52d5-493d-b8aa-69cb5bee0d94",
   "metadata": {},
   "outputs": [
    {
     "name": "stdout",
     "output_type": "stream",
     "text": [
      "Hello, my name is Stacey and I am 33 years old.\n"
     ]
    }
   ],
   "source": [
    "class Human:\n",
    "\n",
    "    def __init__(self, age, name):\n",
    "        self.Age = age\n",
    "        self.Name = name\n",
    "        \n",
    "    def __str__(self):\n",
    "        return f\"Hello, my name is {name} and I am {age} years old.\"\n",
    "        \n",
    "stacey = Human(name='Stacey', age=33)\n",
    "\n",
    "print(stacey)"
   ]
  },
  {
   "cell_type": "markdown",
   "id": "02647a26-86ae-4765-80d9-b6cd9f6e7e1d",
   "metadata": {},
   "source": [
    "Great!! It worked!!! Now we should do one for \"Bill\"!"
   ]
  },
  {
   "cell_type": "code",
   "execution_count": 11,
   "id": "2bb48048-09f8-4cdb-abf5-4f3cfc3ae164",
   "metadata": {},
   "outputs": [
    {
     "name": "stdout",
     "output_type": "stream",
     "text": [
      "Hello, my name is Stacey and I am 33 years old.\n"
     ]
    }
   ],
   "source": [
    "bill = Human(name='Bill', age=30)\n",
    "\n",
    "print(bill)"
   ]
  },
  {
   "cell_type": "markdown",
   "id": "90110561-74e5-4f0f-9e7f-888e63e10d6c",
   "metadata": {},
   "source": [
    "Wait, WHAT?! Why did Bill end up with Stacey's name and age?\n",
    "\n",
    "It is because name and age are not defined in the class scope, so it defaults to the outer scope, which still has information from running our simple print example a few cells above this.\n",
    "\n",
    "If we look at the class definition, we see that the variables within the class scope are 'Age' and 'Name' (upper-case).\n",
    "\n",
    "So, just make that simple fix and it works, right?"
   ]
  },
  {
   "cell_type": "code",
   "execution_count": 12,
   "id": "1710ee17-951d-4f84-85a0-dd11a6819369",
   "metadata": {},
   "outputs": [
    {
     "ename": "NameError",
     "evalue": "name 'Name' is not defined",
     "output_type": "error",
     "traceback": [
      "\u001b[0;31m---------------------------------------------------------------------------\u001b[0m",
      "\u001b[0;31mNameError\u001b[0m                                 Traceback (most recent call last)",
      "Cell \u001b[0;32mIn[12], line 12\u001b[0m\n\u001b[1;32m      8\u001b[0m         \u001b[38;5;28;01mreturn\u001b[39;00m \u001b[38;5;124mf\u001b[39m\u001b[38;5;124m\"\u001b[39m\u001b[38;5;124mHello, my name is \u001b[39m\u001b[38;5;132;01m{\u001b[39;00mName\u001b[38;5;132;01m}\u001b[39;00m\u001b[38;5;124m and I am \u001b[39m\u001b[38;5;132;01m{\u001b[39;00mAge\u001b[38;5;132;01m}\u001b[39;00m\u001b[38;5;124m years old.\u001b[39m\u001b[38;5;124m\"\u001b[39m\n\u001b[1;32m     10\u001b[0m stacey \u001b[38;5;241m=\u001b[39m Human(name\u001b[38;5;241m=\u001b[39m\u001b[38;5;124m'\u001b[39m\u001b[38;5;124mStacey\u001b[39m\u001b[38;5;124m'\u001b[39m, age\u001b[38;5;241m=\u001b[39m\u001b[38;5;241m33\u001b[39m)\n\u001b[0;32m---> 12\u001b[0m \u001b[38;5;28;43mprint\u001b[39;49m\u001b[43m(\u001b[49m\u001b[43mstacey\u001b[49m\u001b[43m)\u001b[49m\n",
      "Cell \u001b[0;32mIn[12], line 8\u001b[0m, in \u001b[0;36mHuman.__str__\u001b[0;34m(self)\u001b[0m\n\u001b[1;32m      7\u001b[0m \u001b[38;5;28;01mdef\u001b[39;00m \u001b[38;5;21m__str__\u001b[39m(\u001b[38;5;28mself\u001b[39m):\n\u001b[0;32m----> 8\u001b[0m     \u001b[38;5;28;01mreturn\u001b[39;00m \u001b[38;5;124mf\u001b[39m\u001b[38;5;124m\"\u001b[39m\u001b[38;5;124mHello, my name is \u001b[39m\u001b[38;5;132;01m{\u001b[39;00mName\u001b[38;5;132;01m}\u001b[39;00m\u001b[38;5;124m and I am \u001b[39m\u001b[38;5;132;01m{\u001b[39;00mAge\u001b[38;5;132;01m}\u001b[39;00m\u001b[38;5;124m years old.\u001b[39m\u001b[38;5;124m\"\u001b[39m\n",
      "\u001b[0;31mNameError\u001b[0m: name 'Name' is not defined"
     ]
    }
   ],
   "source": [
    "class Human:\n",
    "\n",
    "    def __init__(self, age, name):\n",
    "        self.Age = age\n",
    "        self.Name = name\n",
    "        \n",
    "    def __str__(self):\n",
    "        return f\"Hello, my name is {Name} and I am {Age} years old.\"\n",
    "        \n",
    "stacey = Human(name='Stacey', age=33)\n",
    "\n",
    "print(stacey)"
   ]
  },
  {
   "cell_type": "markdown",
   "id": "4ff11ffe-8eeb-4591-ba1a-991afacef101",
   "metadata": {},
   "source": [
    "The problem is Python is expecting you to access 'Age' and 'Name' from a specific ```instance``` of Human. \n",
    "\n",
    "This is why the ```self``` argument is so important. It allows other methods to access these properties:"
   ]
  },
  {
   "cell_type": "code",
   "execution_count": 13,
   "id": "3bd2a644-f77b-45b4-8002-1f76ba666102",
   "metadata": {},
   "outputs": [
    {
     "name": "stdout",
     "output_type": "stream",
     "text": [
      "Hello, my name is Stacey and I am 33 years old.\n"
     ]
    }
   ],
   "source": [
    "class Human:\n",
    "\n",
    "    def __init__(self, age, name):\n",
    "        self.Age = age\n",
    "        self.Name = name\n",
    "        \n",
    "    def __str__(self):\n",
    "        return f\"Hello, my name is {self.Name} and I am {self.Age} years old.\"\n",
    "        \n",
    "stacey = Human(name='Stacey', age=33)\n",
    "\n",
    "print(stacey)"
   ]
  },
  {
   "cell_type": "markdown",
   "id": "1420b7d2-e524-48a8-9b8b-8074e4582387",
   "metadata": {},
   "source": [
    "and now Bill will get his correct name and age!"
   ]
  },
  {
   "cell_type": "code",
   "execution_count": 14,
   "id": "ca7054da-55b6-45a7-b991-0143c1ca3c16",
   "metadata": {},
   "outputs": [
    {
     "name": "stdout",
     "output_type": "stream",
     "text": [
      "Hello, my name is Bill and I am 30 years old.\n"
     ]
    }
   ],
   "source": [
    "bill = Human(name='Bill', age=30)\n",
    "\n",
    "print(bill)"
   ]
  },
  {
   "cell_type": "markdown",
   "id": "9e71073b-1fab-4985-9f3b-501b1e97b380",
   "metadata": {},
   "source": [
    "# Practice\n",
    "\n",
    "1. Define a class named Observation that has 4 properties inside of it: \n",
    "\n",
    "    - high_temperature\n",
    "    - low_temperature\n",
    "    - dewpoint\n",
    "    - pressure\n",
    "\n",
    "You can set these values to any number. Create an instance and print out one of the values associated with the ```instance``` using dot notation."
   ]
  },
  {
   "cell_type": "code",
   "execution_count": null,
   "id": "d4f1a87f-6dee-45ec-960c-e13bfe9f9fb3",
   "metadata": {},
   "outputs": [],
   "source": []
  },
  {
   "cell_type": "markdown",
   "id": "6adb7e7f-551d-4fc7-8a37-42dc5387a9e1",
   "metadata": {},
   "source": [
    "2. Modify the definition of Observation so that it has an ```__init__``` method that allows you to set values for each of the properties mentioned in #1\n",
    "\n",
    "Create an ```instance``` with a high_temperature of 50, a low_temperature of 40, a dewpoint of 39, and a pressure of 1002. Print out one of the values associated with the ```instance``` using dot notation."
   ]
  },
  {
   "cell_type": "code",
   "execution_count": null,
   "id": "75e03a18-968c-4cf5-8ad4-458c0439e8c2",
   "metadata": {},
   "outputs": [],
   "source": []
  },
  {
   "cell_type": "markdown",
   "id": "28bac6bb-f46d-462c-9b3a-577531283552",
   "metadata": {},
   "source": [
    "3. Modify the definition of Observation by adding a ```__str__``` method that allows you to print the following message when Python tries to print an ```instance```.\n",
    "\n",
    "\"The high temperature is 50 F, the low temperature is 40 F, the dewpoint is 39 F, and the pressure is 1002 mb.\"\n",
    "\n",
    "Then, demonstrate this works by using the ```print``` statement to print an Observation ```instance```. You can only use the following print statement to print your message, where ```obs``` is an ```instance``` of Observation.\n",
    "\n",
    "```\n",
    "print(obs)\n",
    "```"
   ]
  },
  {
   "cell_type": "code",
   "execution_count": null,
   "id": "e9d842d2-41d9-4d05-bb7b-2b35757dcd50",
   "metadata": {},
   "outputs": [],
   "source": []
  }
 ],
 "metadata": {
  "kernelspec": {
   "display_name": "Python [conda env:pyEAE]",
   "language": "python",
   "name": "conda-env-pyEAE-py"
  },
  "language_info": {
   "codemirror_mode": {
    "name": "ipython",
    "version": 3
   },
   "file_extension": ".py",
   "mimetype": "text/x-python",
   "name": "python",
   "nbconvert_exporter": "python",
   "pygments_lexer": "ipython3",
   "version": "3.9.13"
  }
 },
 "nbformat": 4,
 "nbformat_minor": 5
}
