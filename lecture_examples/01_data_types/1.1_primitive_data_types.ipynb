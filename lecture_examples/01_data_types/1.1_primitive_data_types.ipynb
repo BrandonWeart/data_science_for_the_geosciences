{
 "cells": [
  {
   "cell_type": "markdown",
   "id": "10381c1b-1ab4-463d-9d2e-c90a77c4f5be",
   "metadata": {
    "tags": []
   },
   "source": [
    "# Primitive data types\n",
    "\n",
    "### There are four primitive data types we will discuss in this course:\n",
    "\n",
    "### Integers\n",
    "```\n",
    "#Examples\n",
    "a = 1\n",
    "b = 2\n",
    "```\n",
    "\n",
    "### Floats \n",
    "```\n",
    "#Examples\n",
    "c = 1.5\n",
    "d = 2.5\n",
    "```\n",
    "\n",
    "### Characters \n",
    "```\n",
    "#Examples\n",
    "e = “a”\n",
    "f = “h”\n",
    "```\n",
    "\n",
    "### Boolean \n",
    "```\n",
    "#Examples\n",
    "g = True\n",
    "h = False\n",
    "```"
   ]
  },
  {
   "cell_type": "markdown",
   "id": "46e04e36-6cf1-48f0-ae5b-a5e2577fac80",
   "metadata": {},
   "source": [
    "## Integers are numbers with no fractional parts and can be positive or negative\n",
    "\n",
    "keyword: ```int```\n",
    "\n",
    "### Math operations work as you would expect!"
   ]
  },
  {
   "cell_type": "code",
   "execution_count": 1,
   "id": "96a12d27-c715-45b7-9a8a-974763c13aaf",
   "metadata": {},
   "outputs": [
    {
     "name": "stdout",
     "output_type": "stream",
     "text": [
      "2\n",
      "0\n"
     ]
    }
   ],
   "source": [
    "print(1 + 1)\n",
    "\n",
    "print(1 - 1)"
   ]
  },
  {
   "cell_type": "markdown",
   "id": "88c1120a-d45f-4761-94a5-f25dd4622d37",
   "metadata": {},
   "source": [
    "### Important concept: object permanence\n",
    "\n",
    "![object](https://topponcinocompany.com/cdn/shop/articles/shoebox_2.jpg)\n",
    "\n",
    "#### When you set a variable\n",
    "\n",
    "```\n",
    "a = 1\n",
    "```\n",
    "\n",
    "#### the variable ```a``` is a representation of the integer 1. You can print ```a```, use ```a``` in a math operation, etc.\n",
    "\n",
    "### Rule 1: When a variable is set to a value (example: ```a = 1```), the variable will represent that value until:\n",
    "\n",
    "1. You restart the notebook or log out\n",
    "2. You set ```a``` to a different value"
   ]
  },
  {
   "cell_type": "markdown",
   "id": "2c213743-c345-42d4-88ee-a8e188bac6ab",
   "metadata": {},
   "source": [
    "### Running sums: a common Python pattern\n",
    "\n",
    "You often want to add numbers to an existing variable, and set the result to that variable.\n",
    "\n",
    "Consider the following. You set ```a``` equal to 1"
   ]
  },
  {
   "cell_type": "code",
   "execution_count": 2,
   "id": "a69389fe-fb2a-4c9d-938f-7b481c9c9644",
   "metadata": {},
   "outputs": [],
   "source": [
    "a = 1"
   ]
  },
  {
   "cell_type": "markdown",
   "id": "d5e56913-9540-41d0-95e2-ce0a481c6c22",
   "metadata": {},
   "source": [
    "You have a program that needs to count values, and the variable ```a``` is your counting variable.\n",
    "\n",
    "If you simply print ```a + 1```, you notice that the variable ```a``` remains unchanged:"
   ]
  },
  {
   "cell_type": "code",
   "execution_count": 3,
   "id": "eb8f0284-48d5-479e-a61d-8fef65a51249",
   "metadata": {},
   "outputs": [
    {
     "name": "stdout",
     "output_type": "stream",
     "text": [
      "2\n",
      "1\n"
     ]
    }
   ],
   "source": [
    "print(a + 1)\n",
    "\n",
    "print(a)"
   ]
  },
  {
   "cell_type": "markdown",
   "id": "37cc4e25-d8c0-4264-8198-510142c22f4d",
   "metadata": {},
   "source": [
    "Remember Rule 1: values are not changed unless you use an equal sign (```=```) to set a new value."
   ]
  },
  {
   "cell_type": "code",
   "execution_count": 4,
   "id": "562fa719-bc8c-43c1-b9f8-81df788a0756",
   "metadata": {},
   "outputs": [
    {
     "name": "stdout",
     "output_type": "stream",
     "text": [
      "1\n",
      "2\n"
     ]
    }
   ],
   "source": [
    "print(a)\n",
    "\n",
    "a = 2\n",
    "\n",
    "print(a)"
   ]
  },
  {
   "cell_type": "markdown",
   "id": "51ce715e-2fd6-4bc1-bb20-64df5c4a5bea",
   "metadata": {},
   "source": [
    "### Rule 2: everything to the right of an equal sign (```=```) is evaluated first.\n",
    "\n",
    "Again, consider this scenario: We set ```a = 1```"
   ]
  },
  {
   "cell_type": "code",
   "execution_count": 5,
   "id": "7197118b-3ea3-4168-a385-01f60a90e708",
   "metadata": {},
   "outputs": [],
   "source": [
    "a = 1"
   ]
  },
  {
   "cell_type": "markdown",
   "id": "cbb69ccf-920a-4b73-a9a7-71f1d05d856f",
   "metadata": {},
   "source": [
    "if we want to change the value of ```a``` by adding 1 to the count, we can combine a math operation:"
   ]
  },
  {
   "cell_type": "code",
   "execution_count": 6,
   "id": "b7cf3ca1-0517-43aa-a0d0-22c7dcbc6791",
   "metadata": {},
   "outputs": [
    {
     "data": {
      "text/plain": [
       "2"
      ]
     },
     "execution_count": 6,
     "metadata": {},
     "output_type": "execute_result"
    }
   ],
   "source": [
    "a + 1"
   ]
  },
  {
   "cell_type": "markdown",
   "id": "c2abd124-617e-405b-a301-a11eb6c81bb8",
   "metadata": {},
   "source": [
    "with an equal sign to first evaluate the math operation and then set it equal to a variable:"
   ]
  },
  {
   "cell_type": "code",
   "execution_count": 7,
   "id": "27c98be3-aa38-4c38-8933-5d290c73c7bd",
   "metadata": {},
   "outputs": [
    {
     "name": "stdout",
     "output_type": "stream",
     "text": [
      "2\n"
     ]
    }
   ],
   "source": [
    "b = a + 1\n",
    "\n",
    "print(b)"
   ]
  },
  {
   "cell_type": "markdown",
   "id": "817a6a19-980e-4ebf-8fb7-52916d9e6233",
   "metadata": {},
   "source": [
    "A difficult concept to understand is that we can set a variable to an operation that includes that same variable!"
   ]
  },
  {
   "cell_type": "code",
   "execution_count": 8,
   "id": "76324506-c14c-4905-a25b-3cd20ff2b978",
   "metadata": {},
   "outputs": [
    {
     "name": "stdout",
     "output_type": "stream",
     "text": [
      "2\n"
     ]
    }
   ],
   "source": [
    "a = a + 1\n",
    "\n",
    "print(a)"
   ]
  },
  {
   "cell_type": "markdown",
   "id": "c460b544-628c-45db-b7ef-e5e91299d587",
   "metadata": {},
   "source": [
    "How is this possible? Because of **Rule 2**: ```a + 1``` is evaluated first, because it is to the right of the equal sign. The result of the operation is then set equal to the result of the operation due to **Rule 1**.\n",
    "\n",
    "Rule 1 and Rule 2 can be chained as many times as you'd like:"
   ]
  },
  {
   "cell_type": "code",
   "execution_count": 9,
   "id": "23282a6a-bd82-4024-af2b-9e3510fa0575",
   "metadata": {},
   "outputs": [
    {
     "name": "stdout",
     "output_type": "stream",
     "text": [
      "4\n"
     ]
    }
   ],
   "source": [
    "# Rule 1\n",
    "a = 1\n",
    "\n",
    "# Rule 2, then\n",
    "# Rule 1\n",
    "a = a + 1\n",
    "\n",
    "# Rule 2, then\n",
    "# Rule 1\n",
    "a = a + 1\n",
    "\n",
    "# Rule 2, then\n",
    "# Rule 1\n",
    "a = a + 1\n",
    "\n",
    "print(a)"
   ]
  },
  {
   "cell_type": "markdown",
   "id": "f4ffbe9e-ddd0-489d-93ec-41eb6189923a",
   "metadata": {},
   "source": [
    "However, you cannot do this on the same line:"
   ]
  },
  {
   "cell_type": "code",
   "execution_count": 10,
   "id": "22b29609-ff55-49ec-9e51-6d1806f3fe1a",
   "metadata": {},
   "outputs": [
    {
     "ename": "SyntaxError",
     "evalue": "cannot assign to operator (3543639842.py, line 1)",
     "output_type": "error",
     "traceback": [
      "\u001b[0;36m  Cell \u001b[0;32mIn[10], line 1\u001b[0;36m\u001b[0m\n\u001b[0;31m    a = a + 1 = a + 1\u001b[0m\n\u001b[0m        ^\u001b[0m\n\u001b[0;31mSyntaxError\u001b[0m\u001b[0;31m:\u001b[0m cannot assign to operator\n"
     ]
    }
   ],
   "source": [
    "a = a + 1 = a + 1"
   ]
  },
  {
   "cell_type": "markdown",
   "id": "81f72897-2501-49c1-987b-4401fac286b4",
   "metadata": {},
   "source": [
    "# Rule 1 and Rule 2 are the same for any data type or operation:"
   ]
  },
  {
   "cell_type": "code",
   "execution_count": 11,
   "id": "4bcf53cd-fd63-497e-8f4b-4d8bbd2a3fe4",
   "metadata": {},
   "outputs": [
    {
     "name": "stdout",
     "output_type": "stream",
     "text": [
      "NIU\n"
     ]
    }
   ],
   "source": [
    "#characters\n",
    "x = \"N\"\n",
    "x = x + \"I\" + \"U\"\n",
    "\n",
    "print(x)"
   ]
  },
  {
   "cell_type": "markdown",
   "id": "206e3e38-4f4d-45be-a9e1-e4f6a01911a5",
   "metadata": {},
   "source": [
    "## Floats are numbers with fractional parts and can be positive or negative\n",
    "\n",
    "### Floats are used whenever you have decimals or calculations that may have decimals.\n",
    "\n",
    "Float operations can use integers. Python 3 will automatically convert from ```int``` to ```float``` when needed.\n",
    "\n",
    "keyword: ```float```\n",
    "\n",
    "```int``` used for calculation:"
   ]
  },
  {
   "cell_type": "code",
   "execution_count": 12,
   "id": "39d16efc-78f1-4d19-a880-d1e378a7aae1",
   "metadata": {},
   "outputs": [
    {
     "name": "stdout",
     "output_type": "stream",
     "text": [
      "4.333333333333333\n"
     ]
    }
   ],
   "source": [
    "a = 1\n",
    "b = 3\n",
    "c = 4\n",
    "d = 6\n",
    "e = 0\n",
    "f = 12\n",
    "\n",
    "# All integers\n",
    "my_mean = (a + b + c + d + e + f) / 6\n",
    "\n",
    "print(my_mean)"
   ]
  },
  {
   "cell_type": "markdown",
   "id": "3085b64d-831c-4376-8f26-90a15f93f700",
   "metadata": {},
   "source": [
    "```float``` used for calculation:"
   ]
  },
  {
   "cell_type": "code",
   "execution_count": 13,
   "id": "05f71215-c027-4d21-a5ef-7bd311ef27cc",
   "metadata": {},
   "outputs": [
    {
     "name": "stdout",
     "output_type": "stream",
     "text": [
      "4.333333333333333\n"
     ]
    }
   ],
   "source": [
    "a = 1.0\n",
    "b = 3.0\n",
    "c = 4.0\n",
    "d = 6.0\n",
    "e = 0.0\n",
    "f = 12.0\n",
    "\n",
    "# All floats\n",
    "my_mean = (a + b + c + d + e + f) / 6\n",
    "\n",
    "print(my_mean)"
   ]
  },
  {
   "cell_type": "markdown",
   "id": "9fb7a7ee-721e-455c-8b75-9c0db436bf99",
   "metadata": {},
   "source": [
    "```int``` and ```float``` used:"
   ]
  },
  {
   "cell_type": "code",
   "execution_count": 14,
   "id": "e5ee12ad-635c-450e-a9b6-0f2ca13e3774",
   "metadata": {},
   "outputs": [
    {
     "name": "stdout",
     "output_type": "stream",
     "text": [
      "4.333333333333333\n"
     ]
    }
   ],
   "source": [
    "a = 1\n",
    "b = 3.0\n",
    "c = 4\n",
    "d = 6.0\n",
    "e = 0\n",
    "f = 12.0\n",
    "\n",
    "# All floats\n",
    "my_mean = (a + b + c + d + e + f) / 6\n",
    "\n",
    "print(my_mean)"
   ]
  },
  {
   "cell_type": "markdown",
   "id": "0b5defd8-0f24-4ba3-baa7-13979b1e6d80",
   "metadata": {},
   "source": [
    "## Booleans are used for testing conditions and can be one of two values: ```True``` or ```False```\n",
    "\n",
    "keyword: ```bool```\n",
    "\n",
    "### Often Booleans are used for a logical test or combinations of logical tests:\n",
    "\n",
    "Example: Is a number larger than another number?"
   ]
  },
  {
   "cell_type": "code",
   "execution_count": 15,
   "id": "82198975-100e-4657-aa14-54bc1cf5771d",
   "metadata": {},
   "outputs": [
    {
     "name": "stdout",
     "output_type": "stream",
     "text": [
      "True\n"
     ]
    }
   ],
   "source": [
    "condition = 2 > 1\n",
    "\n",
    "print(condition)"
   ]
  },
  {
   "cell_type": "code",
   "execution_count": 16,
   "id": "6138fafa-50c4-4ae9-9600-1629c0def7e6",
   "metadata": {},
   "outputs": [
    {
     "name": "stdout",
     "output_type": "stream",
     "text": [
      "False\n"
     ]
    }
   ],
   "source": [
    "condition = 2 < 1\n",
    "\n",
    "print(condition)"
   ]
  },
  {
   "cell_type": "markdown",
   "id": "a7cb9895-4c78-4884-84c3-d43d14a40654",
   "metadata": {},
   "source": [
    "# There are 5 possible boolean tests:\n",
    "\n",
    "### Greater than: ```>```\n",
    "### Greater than or equal to: ```>=```\n",
    "### Less than: ```<```\n",
    "### Less than or equal to: ```<=```\n",
    "### Equal to: ```==```"
   ]
  },
  {
   "cell_type": "code",
   "execution_count": 17,
   "id": "bc7ddb8e-b0f6-4325-b37f-74f64eccf69d",
   "metadata": {},
   "outputs": [
    {
     "name": "stdout",
     "output_type": "stream",
     "text": [
      "False\n",
      "False\n",
      "True\n",
      "True\n",
      "False\n"
     ]
    }
   ],
   "source": [
    "a = 1\n",
    "b = 2\n",
    "\n",
    "print(a > b)\n",
    "print(a >= b)\n",
    "print(a < b)\n",
    "print(a <= b)\n",
    "print(a == b)"
   ]
  },
  {
   "cell_type": "markdown",
   "id": "0aa00ecc-779e-4752-8e53-f49a9dafc40e",
   "metadata": {},
   "source": [
    "# We can combine multiple boolean tests using two operators: and (&), or (|)\n",
    "\n",
    "### Boolean rule: when we combine multiple tests, we need to put parentheses around tests in a way that assures comparisons are done in the order we want.\n",
    "\n",
    "We will learn more about tests and combination operators when we discuss if, elif, else statements"
   ]
  },
  {
   "cell_type": "code",
   "execution_count": 18,
   "id": "a2e9827b-c0ab-4903-baaa-03a0ed5eb55c",
   "metadata": {},
   "outputs": [
    {
     "name": "stdout",
     "output_type": "stream",
     "text": [
      "False\n",
      "False\n",
      "True\n",
      "True\n"
     ]
    }
   ],
   "source": [
    "a = 1\n",
    "b = 2\n",
    "c = 3\n",
    "\n",
    "print((a >= 1) and (b > c))\n",
    "print((a >= 1) & (b > c))\n",
    "\n",
    "print((a >= 1) or (b > c))\n",
    "print((a >= 1) | (b > c))"
   ]
  }
 ],
 "metadata": {
  "kernelspec": {
   "display_name": "Python [conda env:geo] *",
   "language": "python",
   "name": "conda-env-geo-py"
  },
  "language_info": {
   "codemirror_mode": {
    "name": "ipython",
    "version": 3
   },
   "file_extension": ".py",
   "mimetype": "text/x-python",
   "name": "python",
   "nbconvert_exporter": "python",
   "pygments_lexer": "ipython3",
   "version": "3.11.10"
  }
 },
 "nbformat": 4,
 "nbformat_minor": 5
}
