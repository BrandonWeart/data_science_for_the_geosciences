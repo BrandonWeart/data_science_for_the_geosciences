{
 "cells": [
  {
   "cell_type": "markdown",
   "id": "e3b06ba9-8a6d-4e90-b359-ad1371b291cd",
   "metadata": {},
   "source": [
    "# String Methods\n",
    "\n",
    "In Python, data types have specific functionality that is either implicit or explicit:\n",
    "\n",
    "- Implicit “Operations”:\n",
    "    - Example: \"add the integer 1 to the integer 1\"\n",
    "    - ```1 + 1```\n",
    "    - Output: 2\n",
    "    - Obvious and basic expectations for the data type\n",
    "    \n",
    "- Explicit \"Methods\":\n",
    "    - Example: \"convert every character to upper case\" \n",
    "    - ```\"lower\".upper()```\n",
    "    - Output: 'LOWER'\n",
    "    - Not obvious and not a basic expectation for the data type"
   ]
  },
  {
   "cell_type": "code",
   "execution_count": 1,
   "id": "b84f4409-d5cc-441c-b4c6-88a600399cd1",
   "metadata": {},
   "outputs": [
    {
     "data": {
      "text/plain": [
       "'LOWER'"
      ]
     },
     "execution_count": 1,
     "metadata": {},
     "output_type": "execute_result"
    }
   ],
   "source": [
    "\"lower\".upper()"
   ]
  },
  {
   "cell_type": "markdown",
   "id": "587f7f84-5d2b-45fb-a26d-cdfa249bbc3f",
   "metadata": {},
   "source": [
    "there is no symbol that would be obvious for converting all characters to upper case, so a method was created that all strings can use named ```upper()```\n",
    "\n",
    "### Basic string function syntax\n",
    "\n",
    "The first requirement is that you define a ```str``` data type"
   ]
  },
  {
   "cell_type": "code",
   "execution_count": 2,
   "id": "d2d73254-274b-43c5-a7dc-af13bfa406ab",
   "metadata": {},
   "outputs": [
    {
     "name": "stdout",
     "output_type": "stream",
     "text": [
      "TEST\n"
     ]
    }
   ],
   "source": [
    "a = \"TEST\"\n",
    "\n",
    "print(a)"
   ]
  },
  {
   "cell_type": "markdown",
   "id": "20223728-754e-48c5-88f5-5d1385de1304",
   "metadata": {},
   "source": [
    "Next, you must use \"dot notation\" to tell Python you intend to use a string method:\n",
    "    \n",
    "```    \n",
    "a.\n",
    "```\n",
    "\n",
    "Immediately after the \"dot\", you must provide an existing method name. To find all possible method names, you can use the ```dir()``` command. This is sometimes useful for quick reminders, but does not tell us much about the method itself."
   ]
  },
  {
   "cell_type": "code",
   "execution_count": 3,
   "id": "f1a50b6d-7f05-48e4-a5d2-d4475073551e",
   "metadata": {},
   "outputs": [
    {
     "data": {
      "text/plain": [
       "['__add__',\n",
       " '__class__',\n",
       " '__contains__',\n",
       " '__delattr__',\n",
       " '__dir__',\n",
       " '__doc__',\n",
       " '__eq__',\n",
       " '__format__',\n",
       " '__ge__',\n",
       " '__getattribute__',\n",
       " '__getitem__',\n",
       " '__getnewargs__',\n",
       " '__gt__',\n",
       " '__hash__',\n",
       " '__init__',\n",
       " '__init_subclass__',\n",
       " '__iter__',\n",
       " '__le__',\n",
       " '__len__',\n",
       " '__lt__',\n",
       " '__mod__',\n",
       " '__mul__',\n",
       " '__ne__',\n",
       " '__new__',\n",
       " '__reduce__',\n",
       " '__reduce_ex__',\n",
       " '__repr__',\n",
       " '__rmod__',\n",
       " '__rmul__',\n",
       " '__setattr__',\n",
       " '__sizeof__',\n",
       " '__str__',\n",
       " '__subclasshook__',\n",
       " 'capitalize',\n",
       " 'casefold',\n",
       " 'center',\n",
       " 'count',\n",
       " 'encode',\n",
       " 'endswith',\n",
       " 'expandtabs',\n",
       " 'find',\n",
       " 'format',\n",
       " 'format_map',\n",
       " 'index',\n",
       " 'isalnum',\n",
       " 'isalpha',\n",
       " 'isascii',\n",
       " 'isdecimal',\n",
       " 'isdigit',\n",
       " 'isidentifier',\n",
       " 'islower',\n",
       " 'isnumeric',\n",
       " 'isprintable',\n",
       " 'isspace',\n",
       " 'istitle',\n",
       " 'isupper',\n",
       " 'join',\n",
       " 'ljust',\n",
       " 'lower',\n",
       " 'lstrip',\n",
       " 'maketrans',\n",
       " 'partition',\n",
       " 'removeprefix',\n",
       " 'removesuffix',\n",
       " 'replace',\n",
       " 'rfind',\n",
       " 'rindex',\n",
       " 'rjust',\n",
       " 'rpartition',\n",
       " 'rsplit',\n",
       " 'rstrip',\n",
       " 'split',\n",
       " 'splitlines',\n",
       " 'startswith',\n",
       " 'strip',\n",
       " 'swapcase',\n",
       " 'title',\n",
       " 'translate',\n",
       " 'upper',\n",
       " 'zfill']"
      ]
     },
     "execution_count": 3,
     "metadata": {},
     "output_type": "execute_result"
    }
   ],
   "source": [
    "dir(a)"
   ]
  },
  {
   "cell_type": "markdown",
   "id": "5512fcf7-675f-442e-8ff7-1b094d3a2649",
   "metadata": {},
   "source": [
    "Say that we want to use a method that turns all characters into lower case. We can look at the output above and guess that 'lower' is a method that does just that.\n",
    "\n",
    "We then add that name, exactly as it appears, after the variable name:\n",
    "\n",
    "```\n",
    "a.lower\n",
    "```\n",
    "\n",
    "If we stop here, we will get the following output:"
   ]
  },
  {
   "cell_type": "code",
   "execution_count": 4,
   "id": "a130fb0f-3aad-48cb-af64-826a3bd2489b",
   "metadata": {},
   "outputs": [
    {
     "data": {
      "text/plain": [
       "<function str.lower()>"
      ]
     },
     "execution_count": 4,
     "metadata": {},
     "output_type": "execute_result"
    }
   ],
   "source": [
    "a.lower"
   ]
  },
  {
   "cell_type": "markdown",
   "id": "2660554b-cd06-45ba-902e-05e0639ea64a",
   "metadata": {},
   "source": [
    "The output from that code is the function (method) itself. We can examine this using the ```help()``` command to see if it does what we want it to do."
   ]
  },
  {
   "cell_type": "code",
   "execution_count": 5,
   "id": "3b09256a-edf6-4706-888f-fc3780644ce7",
   "metadata": {},
   "outputs": [
    {
     "name": "stdout",
     "output_type": "stream",
     "text": [
      "Help on built-in function lower:\n",
      "\n",
      "lower() method of builtins.str instance\n",
      "    Return a copy of the string converted to lowercase.\n",
      "\n"
     ]
    }
   ],
   "source": [
    "help(a.lower)"
   ]
  },
  {
   "cell_type": "markdown",
   "id": "cad32837-0fe6-455f-80d0-49839089b782",
   "metadata": {},
   "source": [
    "We need one more step to \"run\" the function. \n",
    "\n",
    "To run the function, you must add open and closed parentheses:\n",
    "    \n",
    "```\n",
    "a.lower()\n",
    "```"
   ]
  },
  {
   "cell_type": "code",
   "execution_count": 6,
   "id": "62ec9307-6542-4274-b671-da34a3d32970",
   "metadata": {},
   "outputs": [
    {
     "data": {
      "text/plain": [
       "'test'"
      ]
     },
     "execution_count": 6,
     "metadata": {},
     "output_type": "execute_result"
    }
   ],
   "source": [
    "a.lower()"
   ]
  },
  {
   "cell_type": "markdown",
   "id": "eb0f96c9-fc4e-4f0b-b072-c2d51d8dc649",
   "metadata": {},
   "source": [
    "Since we know the rules of setting variables, we also know that anything on the right side of an equation is evaluated first, and can be set equal to a variable:"
   ]
  },
  {
   "cell_type": "code",
   "execution_count": 7,
   "id": "100c1ee2-4db6-4ba9-9e1d-1edfdc343364",
   "metadata": {},
   "outputs": [
    {
     "name": "stdout",
     "output_type": "stream",
     "text": [
      "test\n"
     ]
    }
   ],
   "source": [
    "b = a.lower()\n",
    "\n",
    "print(b)"
   ]
  },
  {
   "cell_type": "markdown",
   "id": "8e5366a6-4a79-4955-9a4f-2cdc968d520a",
   "metadata": {},
   "source": [
    "### Parameters\n",
    "\n",
    "For some string methods, you are required to provide \"parameters\"\n",
    "\n",
    "Parameters: values that are used by the method to follow specific behavior needed for the task\n",
    "\n",
    "Example: Parameters x and y can be modified to control the result of this mathematical function: $F(x, y)$ = x$^{2}$ + y$^{2}$\n",
    "\n",
    "### ```split()``` function\n",
    "\n",
    "if we run the ```help()``` command on ```split()```, we get the following description:"
   ]
  },
  {
   "cell_type": "code",
   "execution_count": 8,
   "id": "a9d14107-6fba-4b96-97b8-1135638dc710",
   "metadata": {},
   "outputs": [
    {
     "name": "stdout",
     "output_type": "stream",
     "text": [
      "Help on built-in function split:\n",
      "\n",
      "split(sep=None, maxsplit=-1) method of builtins.str instance\n",
      "    Return a list of the words in the string, using sep as the delimiter string.\n",
      "    \n",
      "    sep\n",
      "      The delimiter according which to split the string.\n",
      "      None (the default value) means split according to any whitespace,\n",
      "      and discard empty strings from the result.\n",
      "    maxsplit\n",
      "      Maximum number of splits to do.\n",
      "      -1 (the default value) means no limit.\n",
      "\n"
     ]
    }
   ],
   "source": [
    "help(b.split)"
   ]
  },
  {
   "cell_type": "markdown",
   "id": "a4a8f930-3f4e-4087-9339-7cd1caf38cbf",
   "metadata": {},
   "source": [
    "This time, help not only describes what the method does (Return a list of the words in the string, using sep as the delimiter string.), but it also describes each method parameter.\n",
    "\n",
    "In this case, the ```sep``` parameter is used as a \"delimiter\" which splits the string into subsets.\n",
    "\n",
    "For example, split the following into sentences:"
   ]
  },
  {
   "cell_type": "code",
   "execution_count": 9,
   "id": "46a8695a-a44c-4a57-8c99-d3146a9dde68",
   "metadata": {},
   "outputs": [
    {
     "data": {
      "text/plain": [
       "['The happy dog barked', ' The dog then jumped', '']"
      ]
     },
     "execution_count": 9,
     "metadata": {},
     "output_type": "execute_result"
    }
   ],
   "source": [
    "c = \"The happy dog barked. The dog then jumped.\"\n",
    "\n",
    "c.split(\".\")"
   ]
  },
  {
   "cell_type": "markdown",
   "id": "e01ae475-987e-440b-a96f-46a8270ce040",
   "metadata": {},
   "source": [
    "# Practice\n",
    "\n",
    "Using this website: https://www.w3schools.com/python/python_ref_string.asp\n",
    "\n",
    "Find and properly use string methods that can answer the following questions based on the given string definition. Use the ```help``` command or documentation on the website to determine how you can use these methods."
   ]
  },
  {
   "cell_type": "code",
   "execution_count": 10,
   "id": "273083e9-ffcc-4ba2-b4d1-1175db9cba6b",
   "metadata": {},
   "outputs": [
    {
     "name": "stdout",
     "output_type": "stream",
     "text": [
      "The temperature is 20 F, the dewpoint is 15 F\n"
     ]
    }
   ],
   "source": [
    "d = \"The temperature is 20 F, the dewpoint is 15 F\"\n",
    "\n",
    "print(d)"
   ]
  },
  {
   "cell_type": "markdown",
   "id": "1148f683-9658-4496-840a-83450799107e",
   "metadata": {},
   "source": [
    "1. Are all of the characters alphabetical?"
   ]
  },
  {
   "cell_type": "code",
   "execution_count": null,
   "id": "dfb7b83e-e8a0-4325-89d1-10ba23bdc0b3",
   "metadata": {},
   "outputs": [],
   "source": []
  },
  {
   "cell_type": "markdown",
   "id": "490b595d-215b-4ac5-b461-02c76999aefb",
   "metadata": {},
   "source": [
    "2. At what position (index) does the substring \"temperature\" begin?"
   ]
  },
  {
   "cell_type": "code",
   "execution_count": null,
   "id": "387eaf92-a324-4445-a7b5-d4bb71ebaf56",
   "metadata": {},
   "outputs": [],
   "source": []
  },
  {
   "cell_type": "markdown",
   "id": "3a4e0615-c8d6-429f-848c-df2f41bb559f",
   "metadata": {},
   "source": [
    "3. What are the two halves of the string if you use a comma to split them?"
   ]
  },
  {
   "cell_type": "code",
   "execution_count": null,
   "id": "12ee6cc0-0997-4777-bad4-20af0b9ab83d",
   "metadata": {},
   "outputs": [],
   "source": []
  },
  {
   "cell_type": "markdown",
   "id": "6acff552-b053-4a6e-b702-2129a4ded0e1",
   "metadata": {},
   "source": [
    "4. Does the string start with \"The\"?"
   ]
  },
  {
   "cell_type": "code",
   "execution_count": null,
   "id": "16b89aa4-0e73-493b-a803-37440fc08b1b",
   "metadata": {},
   "outputs": [],
   "source": []
  },
  {
   "cell_type": "markdown",
   "id": "42871cb8-e93d-43e1-b223-bc196a43e1f0",
   "metadata": {},
   "source": [
    "5. How many times does the letter \"e\" show up in the string?"
   ]
  },
  {
   "cell_type": "code",
   "execution_count": null,
   "id": "770e3f9d-9b4a-469e-a7c6-d2d9f51449a4",
   "metadata": {},
   "outputs": [],
   "source": []
  }
 ],
 "metadata": {
  "kernelspec": {
   "display_name": "Python [conda env:geo] *",
   "language": "python",
   "name": "conda-env-geo-py"
  },
  "language_info": {
   "codemirror_mode": {
    "name": "ipython",
    "version": 3
   },
   "file_extension": ".py",
   "mimetype": "text/x-python",
   "name": "python",
   "nbconvert_exporter": "python",
   "pygments_lexer": "ipython3",
   "version": "3.11.10"
  }
 },
 "nbformat": 4,
 "nbformat_minor": 5
}
