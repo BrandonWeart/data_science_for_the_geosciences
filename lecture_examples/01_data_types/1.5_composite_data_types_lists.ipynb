{
 "cells": [
  {
   "cell_type": "markdown",
   "id": "e3b06ba9-8a6d-4e90-b359-ad1371b291cd",
   "metadata": {},
   "source": [
    "# Lists\n",
    "\n",
    "- Lists are organizations of primitive (or even composite) data types and can be modified once defined\n",
    "\n",
    "- You can access values in a list based on their position, starting with 0, 1, 2, etc. by placing square brackets after variable name (just like strings!)\n",
    "\n",
    "- You can add values to the list by using the ```append()``` method\n",
    "\n",
    "- Useful for:\n",
    "    - Creating related groups of data\n",
    "    - Keeping track of data without a known end point\n",
    "    - Sorting data\n",
    "    \n",
    "keyword: ```list```\n",
    "\n",
    "keyword: ```[]```\n",
    "\n",
    "We define a list using the square bracket \"keyword\".\n",
    "\n",
    "You must:\n",
    "\n",
    "1. Start and end the list sequence with an open and closed square bracket\n",
    "2. Items in the list must be separated by commas\n",
    "3. Items in the list can be variables of **any** data type, and can be implicitly or explicitly included"
   ]
  },
  {
   "cell_type": "code",
   "execution_count": 1,
   "id": "b84f4409-d5cc-441c-b4c6-88a600399cd1",
   "metadata": {},
   "outputs": [
    {
     "name": "stdout",
     "output_type": "stream",
     "text": [
      "[10, 11, 12, 13]\n"
     ]
    }
   ],
   "source": [
    "a = [10, 11, 12, 13]\n",
    "\n",
    "print(a)"
   ]
  },
  {
   "cell_type": "markdown",
   "id": "89f63abf-1e1f-417f-9648-bc6d8b7c44df",
   "metadata": {},
   "source": [
    "or alternatively:"
   ]
  },
  {
   "cell_type": "code",
   "execution_count": 2,
   "id": "4567a229-a43a-46f6-8f73-e185546e6313",
   "metadata": {},
   "outputs": [
    {
     "name": "stdout",
     "output_type": "stream",
     "text": [
      "[10, 11, 12, 13]\n"
     ]
    }
   ],
   "source": [
    "b = 10\n",
    "c = 11\n",
    "d = 12\n",
    "e = 13\n",
    "\n",
    "a = [b, c, d, e]\n",
    "\n",
    "print(a)"
   ]
  },
  {
   "cell_type": "markdown",
   "id": "ce446f84-a9aa-4d63-91e5-485ef9346894",
   "metadata": {},
   "source": [
    "### List indexing\n",
    "\n",
    "List items can be indexed just like string characters. The indexing rules remain the same (starting with 0, slicing, etc.).\n",
    "\n",
    "The data type of a single index will be the same as the data type at that position. \n",
    "\n",
    "In other words, if there is an ```int``` at that position, it can then be used just like an ```int```\n",
    "\n",
    "Example: access the 1st item in ```a``` and print it:"
   ]
  },
  {
   "cell_type": "code",
   "execution_count": 3,
   "id": "24969f40-ecd4-4405-a322-3982f0ce87d3",
   "metadata": {},
   "outputs": [
    {
     "name": "stdout",
     "output_type": "stream",
     "text": [
      "10\n"
     ]
    }
   ],
   "source": [
    "print(a[0])"
   ]
  },
  {
   "cell_type": "markdown",
   "id": "b619adf3-2056-4073-9c2c-c523ab0e6b8b",
   "metadata": {},
   "source": [
    "Add the 1st ```int``` to the 3rd ```int``` and print the result:"
   ]
  },
  {
   "cell_type": "code",
   "execution_count": 4,
   "id": "03014c96-76b1-4ab7-a6ec-ebbc666fe6f2",
   "metadata": {},
   "outputs": [
    {
     "name": "stdout",
     "output_type": "stream",
     "text": [
      "22\n"
     ]
    }
   ],
   "source": [
    "print(a[0] + a[2])"
   ]
  },
  {
   "cell_type": "markdown",
   "id": "587f7f84-5d2b-45fb-a26d-cdfa249bbc3f",
   "metadata": {},
   "source": [
    "# List slicing\n",
    "\n",
    "Unlike with strings, a sliced list will give you another list. The individual data types will not be accessible until you use a single index.\n",
    "\n",
    "This can result in unexpected behavior if you assume the slices can be treated as ```int``` for example.\n",
    "\n",
    "Print the items at indexes 0 and 1 at the same time:"
   ]
  },
  {
   "cell_type": "code",
   "execution_count": 5,
   "id": "d2d73254-274b-43c5-a7dc-af13bfa406ab",
   "metadata": {},
   "outputs": [
    {
     "name": "stdout",
     "output_type": "stream",
     "text": [
      "[10, 11]\n"
     ]
    }
   ],
   "source": [
    "print(a[0:2])"
   ]
  },
  {
   "cell_type": "markdown",
   "id": "928c90ae-149f-406e-9d6c-021f8e0ab5fd",
   "metadata": {},
   "source": [
    "Print the sum of the sliced items at indexes 0 and 1 and the sliced items at indexes 2 and 3:"
   ]
  },
  {
   "cell_type": "code",
   "execution_count": 6,
   "id": "570ca187-882b-4c31-8db8-b82147a7735b",
   "metadata": {},
   "outputs": [
    {
     "name": "stdout",
     "output_type": "stream",
     "text": [
      "[10, 11, 12, 13]\n"
     ]
    }
   ],
   "source": [
    "print(a[0:2] + a[2:4])"
   ]
  },
  {
   "cell_type": "markdown",
   "id": "31934481-de62-4361-a36e-6d74d364d607",
   "metadata": {},
   "source": [
    "What happened? If you reverse the order, it becomes more clear:"
   ]
  },
  {
   "cell_type": "code",
   "execution_count": 7,
   "id": "ec812fa5-9a75-4b40-a573-a4c2151e1b3a",
   "metadata": {},
   "outputs": [
    {
     "name": "stdout",
     "output_type": "stream",
     "text": [
      "[12, 13, 10, 11]\n"
     ]
    }
   ],
   "source": [
    "print(a[2:4] + a[0:2])"
   ]
  },
  {
   "cell_type": "markdown",
   "id": "031792f4-f495-4b59-a20d-b2f689499bc6",
   "metadata": {},
   "source": [
    "The operator ```+``` for ```list``` simply merges the two lists together and makes a new list based on the order of operation.\n",
    "\n",
    "Some operations do not work:"
   ]
  },
  {
   "cell_type": "code",
   "execution_count": 8,
   "id": "2bc877b0-563d-4156-9986-959a98c151b1",
   "metadata": {},
   "outputs": [
    {
     "ename": "TypeError",
     "evalue": "can't multiply sequence by non-int of type 'list'",
     "output_type": "error",
     "traceback": [
      "\u001b[0;31m---------------------------------------------------------------------------\u001b[0m",
      "\u001b[0;31mTypeError\u001b[0m                                 Traceback (most recent call last)",
      "Cell \u001b[0;32mIn[8], line 1\u001b[0m\n\u001b[0;32m----> 1\u001b[0m \u001b[38;5;28mprint\u001b[39m(\u001b[43ma\u001b[49m\u001b[43m[\u001b[49m\u001b[38;5;241;43m2\u001b[39;49m\u001b[43m:\u001b[49m\u001b[38;5;241;43m4\u001b[39;49m\u001b[43m]\u001b[49m\u001b[43m \u001b[49m\u001b[38;5;241;43m*\u001b[39;49m\u001b[43m \u001b[49m\u001b[43ma\u001b[49m\u001b[43m[\u001b[49m\u001b[38;5;241;43m0\u001b[39;49m\u001b[43m:\u001b[49m\u001b[38;5;241;43m2\u001b[39;49m\u001b[43m]\u001b[49m)\n",
      "\u001b[0;31mTypeError\u001b[0m: can't multiply sequence by non-int of type 'list'"
     ]
    }
   ],
   "source": [
    "print(a[2:4] * a[0:2])"
   ]
  },
  {
   "cell_type": "markdown",
   "id": "be52cbe4-c9f1-4a6c-a31f-1ac7661aeeff",
   "metadata": {},
   "source": [
    "Others work, but maybe not as you would expect. \n",
    "\n",
    "For example, the ```*``` operator does not multiply every item in the ```list``` by 10, it makes 10 copies of the ```list```"
   ]
  },
  {
   "cell_type": "code",
   "execution_count": 9,
   "id": "8fc0ea6f-1fe6-42c1-9aac-7b367d0d528f",
   "metadata": {},
   "outputs": [
    {
     "name": "stdout",
     "output_type": "stream",
     "text": [
      "[12, 13, 12, 13, 12, 13, 12, 13, 12, 13, 12, 13, 12, 13, 12, 13, 12, 13, 12, 13]\n"
     ]
    }
   ],
   "source": [
    "print(a[2:4] * 10)"
   ]
  },
  {
   "cell_type": "markdown",
   "id": "58e8a063-0268-442c-bb64-3c04dd1171dc",
   "metadata": {},
   "source": [
    "### ADVANCED PYTHON WARNING\n",
    "\n",
    "To multiply every value in a list by a value, you can use a \"list comprehension\".\n",
    "\n",
    "We will learn about this later when we discuss loops."
   ]
  },
  {
   "cell_type": "code",
   "execution_count": 10,
   "id": "385c4d8e-78c3-4d3f-ad5e-346be9f1a2fd",
   "metadata": {},
   "outputs": [
    {
     "name": "stdout",
     "output_type": "stream",
     "text": [
      "[100, 110, 120, 130]\n"
     ]
    }
   ],
   "source": [
    "g = [item * 10 for item in a]\n",
    "\n",
    "print(g)"
   ]
  },
  {
   "cell_type": "markdown",
   "id": "bc581816-0690-4d98-bebe-9bc38a591685",
   "metadata": {},
   "source": [
    "Adding an ```int``` to the list does not work:"
   ]
  },
  {
   "cell_type": "code",
   "execution_count": 11,
   "id": "26787708-1272-4767-9d72-c5320601798b",
   "metadata": {},
   "outputs": [
    {
     "ename": "TypeError",
     "evalue": "can only concatenate list (not \"int\") to list",
     "output_type": "error",
     "traceback": [
      "\u001b[0;31m---------------------------------------------------------------------------\u001b[0m",
      "\u001b[0;31mTypeError\u001b[0m                                 Traceback (most recent call last)",
      "Cell \u001b[0;32mIn[11], line 1\u001b[0m\n\u001b[0;32m----> 1\u001b[0m \u001b[38;5;28mprint\u001b[39m(\u001b[43ma\u001b[49m\u001b[43m[\u001b[49m\u001b[38;5;241;43m2\u001b[39;49m\u001b[43m:\u001b[49m\u001b[38;5;241;43m4\u001b[39;49m\u001b[43m]\u001b[49m\u001b[43m \u001b[49m\u001b[38;5;241;43m+\u001b[39;49m\u001b[43m \u001b[49m\u001b[38;5;241;43m10\u001b[39;49m)\n",
      "\u001b[0;31mTypeError\u001b[0m: can only concatenate list (not \"int\") to list"
     ]
    }
   ],
   "source": [
    "print(a[2:4] + 10)"
   ]
  },
  {
   "cell_type": "markdown",
   "id": "9b4c0876-b360-4762-b14a-bc7ddef7f92a",
   "metadata": {},
   "source": [
    "unless you make it a list:"
   ]
  },
  {
   "cell_type": "code",
   "execution_count": 12,
   "id": "6ecb4898-465d-47e8-bca7-cc7bf97351d5",
   "metadata": {},
   "outputs": [
    {
     "name": "stdout",
     "output_type": "stream",
     "text": [
      "[12, 13, 10]\n"
     ]
    }
   ],
   "source": [
    "print(a[2:4] + [10])"
   ]
  },
  {
   "cell_type": "markdown",
   "id": "3c9d6a54-f8d1-4d4f-a8c3-541991df7e78",
   "metadata": {},
   "source": [
    "The sliced ```list``` can be set to a variable and treated just like a ```list```"
   ]
  },
  {
   "cell_type": "code",
   "execution_count": 13,
   "id": "a0e7e6d3-80b5-4b8a-a467-8070df9117e1",
   "metadata": {},
   "outputs": [
    {
     "name": "stdout",
     "output_type": "stream",
     "text": [
      "10\n"
     ]
    }
   ],
   "source": [
    "f = a[:2]\n",
    "\n",
    "print(f[0])"
   ]
  },
  {
   "cell_type": "markdown",
   "id": "839501db-aea6-4b55-9532-ae57fb00045f",
   "metadata": {},
   "source": [
    "### List methods\n",
    "\n",
    "Just like with strings, lists have methods that can be used to access, modify, create, or delete items within the list.\n",
    "\n",
    "https://www.w3schools.com/python/python_ref_list.asp\n",
    "\n",
    "Some commonly used list methods:\n",
    "\n",
    "#1. ```append()```: add a new item to the end of an existing list"
   ]
  },
  {
   "cell_type": "code",
   "execution_count": 14,
   "id": "2b32a37d-4daa-4a2f-add1-278ae86f58f0",
   "metadata": {},
   "outputs": [
    {
     "name": "stdout",
     "output_type": "stream",
     "text": [
      "[1, 2, 3, 4]\n"
     ]
    }
   ],
   "source": [
    "a = [1, 2, 3]\n",
    "\n",
    "a.append(4)\n",
    "\n",
    "print(a)"
   ]
  },
  {
   "cell_type": "markdown",
   "id": "b06cddd1-9a80-4825-b0d3-1a21a14bcbc3",
   "metadata": {},
   "source": [
    "#2 ```sort()```: sorts the list based on an alphanumeric order"
   ]
  },
  {
   "cell_type": "code",
   "execution_count": 15,
   "id": "1ca16092-ab5d-419c-8b30-f917f5f246b3",
   "metadata": {},
   "outputs": [
    {
     "name": "stdout",
     "output_type": "stream",
     "text": [
      "[0, 1, 3, 5, 17]\n"
     ]
    }
   ],
   "source": [
    "b = [5, 1, 17, 0, 3]\n",
    "\n",
    "b.sort()\n",
    "\n",
    "print(b)"
   ]
  },
  {
   "cell_type": "markdown",
   "id": "4f1b0f56-773c-40d5-8199-905f466ac253",
   "metadata": {},
   "source": [
    "#3 ```len()```: counts the number of items in the list\n",
    "\n",
    "This is not a list method, per se, but is used very often with lists!"
   ]
  },
  {
   "cell_type": "code",
   "execution_count": 16,
   "id": "5a79d179-f46e-4c55-8fc7-2deb9070180f",
   "metadata": {},
   "outputs": [
    {
     "name": "stdout",
     "output_type": "stream",
     "text": [
      "5\n"
     ]
    }
   ],
   "source": [
    "c = [100, 200, 300, 400, 500]\n",
    "\n",
    "print(len(c))"
   ]
  },
  {
   "cell_type": "markdown",
   "id": "163dadd2-46b1-4fc5-85a7-75e4d314baee",
   "metadata": {},
   "source": [
    "### Practice:\n",
    "\n",
    "Provide code examples that answer the following questions using ```list``` indexing and/or slicing based on the list definition below:"
   ]
  },
  {
   "cell_type": "code",
   "execution_count": 17,
   "id": "0e658bdb-16dd-4427-88b5-2463c07306bf",
   "metadata": {},
   "outputs": [],
   "source": [
    "D = [52, 55, 59, 62, 73, 44, 42, 41, 75]"
   ]
  },
  {
   "cell_type": "markdown",
   "id": "717f6f50-ed83-4f37-8125-ed5054865e39",
   "metadata": {},
   "source": [
    "What is the third ```int``` in D?"
   ]
  },
  {
   "cell_type": "code",
   "execution_count": null,
   "id": "8580c773-e591-4bc7-99f0-0a57d56bd642",
   "metadata": {},
   "outputs": [],
   "source": []
  },
  {
   "cell_type": "markdown",
   "id": "0779f47d-d190-43c8-9bf8-cf75e5d02d8d",
   "metadata": {},
   "source": [
    "What is the int at the 6th index?"
   ]
  },
  {
   "cell_type": "code",
   "execution_count": null,
   "id": "79c2e3cf-6f53-4caa-9abe-d8f2fa167c14",
   "metadata": {},
   "outputs": [],
   "source": []
  },
  {
   "cell_type": "markdown",
   "id": "f3626c3c-1087-480c-bd73-a1c7b2b9b56e",
   "metadata": {},
   "source": [
    "How would you access and print the first item in D?"
   ]
  },
  {
   "cell_type": "code",
   "execution_count": null,
   "id": "8014e885-ac64-40ef-857b-9c4ab4ef4491",
   "metadata": {},
   "outputs": [],
   "source": []
  },
  {
   "cell_type": "markdown",
   "id": "3bb888f1-f33a-42e5-89f4-12471773d87a",
   "metadata": {},
   "source": [
    "How would I set a variable named ```t``` to the 8th ```int```?"
   ]
  },
  {
   "cell_type": "code",
   "execution_count": null,
   "id": "f5402e7a-d1c8-4592-a147-305b32a40d2f",
   "metadata": {},
   "outputs": [],
   "source": []
  },
  {
   "cell_type": "markdown",
   "id": "ffe5f5b3-53a2-41b4-9fc1-2cbac0533562",
   "metadata": {},
   "source": [
    "How would I output 86 using indexing and a print statement?"
   ]
  },
  {
   "cell_type": "code",
   "execution_count": null,
   "id": "e073590e-09b4-48d2-84bd-3557125e414c",
   "metadata": {},
   "outputs": [],
   "source": []
  },
  {
   "cell_type": "markdown",
   "id": "a4cfad0f-ff25-4bab-82d7-1c3da137b0fa",
   "metadata": {},
   "source": [
    "How would I add the item 20 to the end of the ```list``` defined below:"
   ]
  },
  {
   "cell_type": "code",
   "execution_count": null,
   "id": "2008fa37-bc63-48b7-b962-09f832b609a7",
   "metadata": {},
   "outputs": [],
   "source": [
    "E = [52, 55, 59, 62, 73, 44, 42, 41, 75]\n",
    "\n"
   ]
  },
  {
   "cell_type": "markdown",
   "id": "ce49d092-f577-48b3-849e-0daaf0e77722",
   "metadata": {},
   "source": [
    "How would I sort the ```list``` defined below?"
   ]
  },
  {
   "cell_type": "code",
   "execution_count": null,
   "id": "142357a9-ce6c-4155-a7ba-cf1ae10d94a6",
   "metadata": {},
   "outputs": [],
   "source": [
    "E = [52, 55, 59, 62, 73, 44, 42, 41, 75]\n",
    "\n"
   ]
  },
  {
   "cell_type": "markdown",
   "id": "4603badf-e442-49b5-a0cb-febb5a028602",
   "metadata": {},
   "source": [
    "How would I find the number of items in the list below?"
   ]
  },
  {
   "cell_type": "code",
   "execution_count": null,
   "id": "e8989064-8281-498c-b202-2a326cd75ae0",
   "metadata": {},
   "outputs": [],
   "source": [
    "E = [52, 55, 59, 62]\n",
    "\n"
   ]
  }
 ],
 "metadata": {
  "kernelspec": {
   "display_name": "Python [conda env:geo] *",
   "language": "python",
   "name": "conda-env-geo-py"
  },
  "language_info": {
   "codemirror_mode": {
    "name": "ipython",
    "version": 3
   },
   "file_extension": ".py",
   "mimetype": "text/x-python",
   "name": "python",
   "nbconvert_exporter": "python",
   "pygments_lexer": "ipython3",
   "version": "3.11.10"
  }
 },
 "nbformat": 4,
 "nbformat_minor": 5
}
