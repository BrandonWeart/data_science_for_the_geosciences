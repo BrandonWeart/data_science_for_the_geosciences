{
 "cells": [
  {
   "cell_type": "markdown",
   "metadata": {},
   "source": [
    "# Python Functions\n",
    "\n",
    "### Functions are helpful for generalizing code, making it easier to share, maintain, and test.\n",
    "\n",
    "### As was the case with loops, having many copies of essentially the same code can make it difficult to track down bugs.\n",
    "\n",
    "Consider the following case. You need to convert a variable, then print out a variable in a certain way after it is defined:\n",
    "\n",
    "**You can click on the box below and run the code by pressing the sideways triangle**"
   ]
  },
  {
   "cell_type": "code",
   "execution_count": 1,
   "metadata": {},
   "outputs": [
    {
     "name": "stdout",
     "output_type": "stream",
     "text": [
      "286.92\n"
     ]
    }
   ],
   "source": [
    "temperatureF = 56.78\n",
    "\n",
    "temperatureK = (temperatureF + 459.67) * (5/9)\n",
    "\n",
    "print(f\"{temperatureK:.2f}\")"
   ]
  },
  {
   "cell_type": "markdown",
   "metadata": {},
   "source": [
    "What if you need to do this 5000 times? You might consider a loop:"
   ]
  },
  {
   "cell_type": "code",
   "execution_count": 2,
   "metadata": {},
   "outputs": [
    {
     "name": "stdout",
     "output_type": "stream",
     "text": [
      "286.92\n",
      "303.77\n",
      "311.00\n"
     ]
    }
   ],
   "source": [
    "temperatures_in_f = [56.78, 87.12, 100.123] # first 3 of 5000\n",
    "\n",
    "for temperatureF in temperatures_in_f:\n",
    "\n",
    "    temperatureK = (temperatureF + 459.67) * (5/9)\n",
    "\n",
    "    print(f\"{temperatureK:.2f}\")"
   ]
  },
  {
   "cell_type": "markdown",
   "metadata": {},
   "source": [
    "### You might ask, why should we use functions if we can just make a loop in many cases?\n",
    "\n",
    "1) What if you need to do that temperature conversion in multiple places?\n",
    "2) You may want to test to assure that just your temperature conversion is working as expected. This requires functions to test.\n",
    "3) Functions are a great way to generalize the code we create so it works in many different situations.\n",
    "\n",
    "\n",
    "We may want to write a function that replaces some of the code above:"
   ]
  },
  {
   "cell_type": "code",
   "execution_count": 3,
   "metadata": {},
   "outputs": [
    {
     "name": "stdout",
     "output_type": "stream",
     "text": [
      "56.78 F is 286.92 K\n"
     ]
    }
   ],
   "source": [
    "def F_to_K(F):\n",
    "\n",
    "    K = (temperatureF + 459.67) * (5/9)\n",
    "\n",
    "    return K\n",
    "\n",
    "temperatureF = 56.78\n",
    "temperatureK = F_to_K(temperatureF)\n",
    "\n",
    "print(f\"{temperatureF:.2f} F is {temperatureK:.2f} K\")"
   ]
  },
  {
   "cell_type": "markdown",
   "metadata": {},
   "source": [
    "### Main parts of the function definition above:\n",
    "1) **def** - this tells Python that what follows is a function definition\n",
    "2) **F_to_K** - after one space, the text that follows is the function name. This is much like defining a variable (e.g., F_to_K = 1)\n",
    "3) **(F):** - immediately after the function name, you see parentheses with text inside it. These are called *arguments* or *parameters*. \n",
    "4) *arguments* or *parameters* - these are variables that are *only* available within the function, but are required for the function to run properly. You can have no arguments ( ```funct_name()``` ) or many arguments that are separated by commas ( ```funct_name(a, b, c, d, e, f)```).\n",
    "5) *indented code* - the indented code places code within the *scope* of the function. In other words, all indented code \"belongs\" to the function.\n",
    "6) **return K** - also indented, so it belongs to the function. This line returns the result of the function back to where it was \"called\". In this case, it returns the variable \"K\" and the value to which it was set.\n",
    "7) **temperatureK = F_to_K(temperatureF)** - the right side of this equation is an example of \"calling\" a function. The function call requires you to correctly name a defined function ( ```F_to_K```) and to provide it with the required *argument or arguments* (also called parameter or parameters). In this case, ```temperatureF``` is used to set the value of the *argument* variable named F. In this case, F is now set to 56.78 immediately when the function is called. For all indented code, ```F = 56.78``` is now available to use just like if you explicitly defined it that way. The left side of the equation is set equal to the result from **return K**"
   ]
  },
  {
   "cell_type": "markdown",
   "metadata": {},
   "source": [
    "## Putting it all together\n",
    "\n",
    "We can use both functions and loops to convert many numbers in the exact same way.\n",
    "\n",
    "Run the following code. You will notice that the numbers are different every time due to the random number generator.\n",
    "\n",
    "This shows that this approach:\n",
    "\n",
    "1) can convert any float from F to K and then print it out.\n",
    "2) can do this with millions of numbers."
   ]
  },
  {
   "cell_type": "code",
   "execution_count": 4,
   "metadata": {},
   "outputs": [
    {
     "name": "stdout",
     "output_type": "stream",
     "text": [
      "23.60 F is 268.49 K\n",
      "48.94 F is 282.56 K\n",
      "14.27 F is 263.30 K\n",
      "7.38 F is 259.47 K\n",
      "39.81 F is 277.49 K\n",
      "24.23 F is 268.83 K\n",
      "75.29 F is 297.20 K\n",
      "11.77 F is 261.91 K\n",
      "33.59 F is 274.03 K\n",
      "13.81 F is 263.04 K\n"
     ]
    }
   ],
   "source": [
    "import random\n",
    "\n",
    "def get_random_floats(low, high, count):\n",
    "    \n",
    "    random_numbers = []\n",
    "\n",
    "    for i in range(count):\n",
    "    \n",
    "        random_float = random.uniform(low, high)\n",
    "\n",
    "        random_numbers.append(random_float)\n",
    "\n",
    "    return random_numbers\n",
    "\n",
    "def F_to_K(F):\n",
    "\n",
    "    K = (temperatureF + 459.67) * (5/9)\n",
    "\n",
    "    return K\n",
    "\n",
    "temperatures_in_f = get_random_floats(0, 100, 10)\n",
    "\n",
    "for temperatureF in temperatures_in_f:\n",
    "\n",
    "    temperatureK = (temperatureF + 459.67) * (5/9)\n",
    "\n",
    "    print(f\"{temperatureF:.2f} F is {temperatureK:.2f} K\")"
   ]
  }
 ],
 "metadata": {
  "kernelspec": {
   "display_name": "Python 3 (ipykernel)",
   "language": "python",
   "name": "python3"
  },
  "language_info": {
   "codemirror_mode": {
    "name": "ipython",
    "version": 3
   },
   "file_extension": ".py",
   "mimetype": "text/x-python",
   "name": "python",
   "nbconvert_exporter": "python",
   "pygments_lexer": "ipython3",
   "version": "3.9.12"
  }
 },
 "nbformat": 4,
 "nbformat_minor": 4
}
