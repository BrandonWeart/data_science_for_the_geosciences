{
 "cells": [
  {
   "cell_type": "markdown",
   "metadata": {},
   "source": [
    "# Law of large numbers\n",
    "\n",
    "## Inferential statistics\n",
    "\n",
    "One major assumption when using *inferential* statistical approaches is that a sample of observations can be used to make generalizations about the overall population of observations. For example, you might survey 10 students in EAE 493 and find that 8 are tired. You might then infer that 24 students (~80%) of the class is tired. This is useful because we may not be able to survey everyone in the class in a reasonable amount of time.\n",
    "\n",
    "## Inferential statistics in climatology\n",
    "\n",
    "This same concept applies to climatology. When we record an observation of high temperatures on one sunny August day, we might start to make inferences about all August days. If we then make an observation of a high temperature on a rainy day, our inferential model of August days based on one sunny day observation might seem wildly inaccurate:\n",
    "\n",
    "| August date | High Temperature | Inference                   | Error |\n",
    "| ----------- | ---------------- | ----------------------------| ----- |\n",
    "| 08/01/1991  | 85               | August days have highs of 85|   -   |\n",
    "| 08/02/1991  | 65               | August days have highs of 65|  20 F |\n",
    "\n",
    "If we continue to seesaw between what happened just on the previous day, our statistical model will be hopelessly chasing a moving target:\n",
    "\n",
    "| August date | High Temperature | Inference                   | Error |\n",
    "| ----------- | ---------------- | ----------------------------| ----- |\n",
    "| 08/01/1991  | 85               |             -               |   -   |\n",
    "| 08/02/1991  | 65               | August days have highs of 85|  20 F |\n",
    "| 08/03/1991  | 75               | August days have highs of 65|  10 F |\n",
    "\n",
    "However, if we use the *mean* of August days, we can start to create a more useful model that blends what we know about multiple August days:\n",
    "\n",
    "| August date | High Temperature | Inference (mean)            | Error |\n",
    "| ----------- | ---------------- | ----------------------------| ----- |\n",
    "| 08/01/1991  | 85               |             -               |   -   |\n",
    "| 08/02/1991  | 65               | August days have highs of 85|  20 F |\n",
    "| 08/03/1991  | 75               | August days have highs of 75|  0  F |\n",
    "\n",
    "Of course, nature does not always play nicely:\n",
    "\n",
    "| August date | High Temperature | Inference (mean)            | Error |\n",
    "| ----------- | ---------------- | ----------------------------| ----- |\n",
    "| 08/01/1991  | 85               |             -               |   -   |\n",
    "| 08/02/1991  | 65               | August days have highs of 85|  20 F |\n",
    "| 08/03/1991  | 75               | August days have highs of 75|  0  F |\n",
    "| 08/04/1991  | 100              | August days have highs of 75|  25  F|\n",
    "\n",
    "## The importance of climate science knowledge\n",
    "\n",
    "We can use our knowledge of climate to know that August temperatures have a tendency to be relatively warm. We can draw this conclusion in two ways:\n",
    "1) Experience -- we know the location well and have expectations of August high temperatures.\n",
    "2) Energy Balance Models -- we understand the physics behind balancing insolation and terrestrial radiation and how relatively high solar angles in August would result in a higher equilibrium temperature during August afternoons.\n",
    "\n",
    "## Temperature distributions\n",
    "\n",
    "We would not expect a high of 32, nor would we expect a high of 150. This suggests that the *distribution* of temperatures is not random. Furthermore, even high temperatures within the range of what is possible (e.g., 50 or 110) intuitively seem less likely to occur than other high temperatures (e.g., 80). This suggests that the distribution of August temperatures has a *central tendency* with *outliers* both above and below. In other words, the *mean* of all observations might have a relatively high probability of being the actual observation. But how do you determine these values?\n",
    "\n",
    "## Large numbers\n",
    "\n",
    "Going back to the survey on tired students in class, we intuitively know that if we ask too few people if they are tired, this may not be representative of the entire class. Student Alex might always be tired. So if he is the only survey respondant, we might assume 100% of the class is tired. In other words, *sample size* matters, and a sufficient amount of observations is needed to produce a useful inferential model.\n",
    "\n",
    "### Climate Normals\n",
    "\n",
    "We generally report long-term averages of various weather observations based on 30 years of data. We can simulate *why* this is important in the following code block:"
   ]
  },
  {
   "cell_type": "code",
   "execution_count": 1,
   "metadata": {},
   "outputs": [
    {
     "name": "stdout",
     "output_type": "stream",
     "text": [
      "Mean of normal distribution is: 80 st.d. is: 6\n",
      "The mean temperature of the list is: 71.59 for 1 August mean temperatures\n",
      "The mean temperature of the list is: 81.63 for 5 August mean temperatures\n",
      "The mean temperature of the list is: 81.97 for 10 August mean temperatures\n",
      "The mean temperature of the list is: 80.43 for 30 August mean temperatures\n"
     ]
    }
   ],
   "source": [
    "import random\n",
    "\n",
    "def get_random_floats(mean_value, std_value, count):\n",
    "    \n",
    "    random_numbers = []\n",
    "\n",
    "    for i in range(count):\n",
    "    \n",
    "        random_float = random.gauss(mu=mean_value, sigma=std_value)\n",
    "\n",
    "        random_numbers.append(random_float)\n",
    "\n",
    "    return random_numbers\n",
    "\n",
    "def get_mean_of_list(list_name):\n",
    "    # this solution is forbidden for HW3. See rules.\n",
    "   \n",
    "    return sum(list_name) / len(list_name)\n",
    "   \n",
    "aug_climate_mean = 80\n",
    "std_of_aug_temperatures = 6\n",
    "\n",
    "print(\"Mean of normal distribution is:\", aug_climate_mean, \"st.d. is:\", std_of_aug_temperatures)\n",
    "\n",
    "for count_of_numbers in [1, 5, 10, 30]:\n",
    "\n",
    "    random_floats = get_random_floats(aug_climate_mean, std_of_aug_temperatures, count_of_numbers)\n",
    "\n",
    "    random_float_mean = get_mean_of_list(random_floats)\n",
    "\n",
    "    print(f\"The mean temperature of the list is: {random_float_mean:.2f} for {count_of_numbers:d} August mean temperatures\")"
   ]
  },
  {
   "cell_type": "markdown",
   "metadata": {},
   "source": [
    "### Experiment\n",
    "\n",
    "1) Change ```std_of_june_temperatures```. What do you notice about the results?\n",
    "2) Change ```june_climate_mean```. What do you notice about the results?\n",
    "3) Add larger numbers to this list: ```for count_of_numbers in [1, 5, 10, 30]:```. Compare the results of small counts to large counts."
   ]
  },
  {
   "cell_type": "markdown",
   "metadata": {},
   "source": [
    "### Normal Distributions\n",
    "\n",
    "The above example randomly generates numbers based on defining a *known* distribution around a mean defined by ```aug_climate_mean``` and ```std_of_aug_temperatures```. This simulates a situation where we know the actual distribution of August temperatures. In reality, we are just slowly building statistical confidence with each year of August observations. Our job will never be complete! In fact, *nonstationarity* may make what we know about August temperatures irrelevant as we experience the influence of climate change on those values.\n",
    "\n",
    "The following plot visualizes the above example. Modify the standard deviation and mean to see how this changes the plot:\n",
    "\n",
    "NOTE: Make sure you have run all of the code examples before you run this code block."
   ]
  },
  {
   "cell_type": "code",
   "execution_count": 2,
   "metadata": {},
   "outputs": [
    {
     "data": {
      "text/plain": [
       "<matplotlib.legend.Legend at 0x7fbb4af2e790>"
      ]
     },
     "execution_count": 2,
     "metadata": {},
     "output_type": "execute_result"
    },
    {
     "data": {
      "image/png": "[encoded data removed]",
      "text/plain": [
       "<Figure size 432x288 with 1 Axes>"
      ]
     },
     "metadata": {
      "needs_background": "light"
     },
     "output_type": "display_data"
    }
   ],
   "source": [
    "import matplotlib.pyplot as plt\n",
    "%matplotlib inline\n",
    "\n",
    "aug_climate_mean = 80\n",
    "std_of_aug_temperatures = 60\n",
    "observation_count_range = range(1, 500)\n",
    "\n",
    "plt.plot(observation_count_range, [aug_climate_mean]*len(observation_count_range), 'k--', label='actual mean', zorder=10)\n",
    "plt.ylabel(\"High Temperature (F)\")\n",
    "plt.xlabel(\"Count of Observations\")\n",
    "\n",
    "mean_result = []\n",
    "\n",
    "for count_of_numbers in observation_count_range:\n",
    "\n",
    "    random_floats = get_random_floats(aug_climate_mean, std_of_aug_temperatures, count_of_numbers)\n",
    "\n",
    "    random_float_mean = get_mean_of_list(random_floats)\n",
    "\n",
    "    mean_result.append(random_float_mean)\n",
    "\n",
    "plt.plot(observation_count_range, mean_result, '-', label='sample mean')\n",
    "\n",
    "plt.legend()"
   ]
  }
 ],
 "metadata": {
  "kernelspec": {
   "display_name": "Python 3 (ipykernel)",
   "language": "python",
   "name": "python3"
  },
  "language_info": {
   "codemirror_mode": {
    "name": "ipython",
    "version": 3
   },
   "file_extension": ".py",
   "mimetype": "text/x-python",
   "name": "python",
   "nbconvert_exporter": "python",
   "pygments_lexer": "ipython3",
   "version": "3.9.12"
  }
 },
 "nbformat": 4,
 "nbformat_minor": 4
}
