{
 "cells": [
  {
   "cell_type": "markdown",
   "id": "7e6d2809-abbd-4d87-aa01-63df2a9ce10d",
   "metadata": {},
   "source": [
    "# Homework 4 \n",
    "\n",
    "# Observation Station Summary Tool\n",
    "\n",
    "### Due: TBD\n",
    "\n",
    "### Directions: \n",
    "\n",
    "1. Change the name of your notebook to Homework4_FirstLast.ipynb, where First is your first name and Last is your last name.\n",
    "\n",
    "2. For each of the following prompts, write or modify Python code that fulfills the requirements. \n",
    "\n",
    "#### Important information to remember:\n",
    "\n",
    "1. Periodically, you should click File -> Save Notebook\n",
    "2. When you are done working for the day, click File -> Log Out\n",
    "3. When you are finished, download the notebook and upload it to the submission link\n",
    "\n",
    "# Extra requirements:\n",
    "\n",
    "#### In this homework assignment, you will be using numpy and matplotlib to create a tool that processes data from observation stations (like the one on NIU's campus). In addition to basic climate statistics, you will also create data visualizations based on the climate station data.\n",
    "\n",
    "### You must use methods and properties defined in each version of the ```class``` below. You cannot include any plotting code outside of the class, and you must print messages by generating them within the ```__str__``` method in the instance and using instance properties. You can only print outside of the class by doing something like the following:\n",
    "\n",
    "```print(instance_name)```\n",
    "\n",
    "#### You will be implementing a custom class named ```Homework5``` that inherits functionality from the following class named ```Observation```:"
   ]
  },
  {
   "cell_type": "code",
   "execution_count": 1,
   "id": "0f8c6083-24c9-42fa-9770-08a366aa0958",
   "metadata": {},
   "outputs": [
    {
     "name": "stdout",
     "output_type": "stream",
     "text": [
      "The timeseries has the following statistics:\n",
      "The mean observed high temperature was 7.0 F\n",
      "The mean observed low temperature was 2.0 F\n",
      "\n"
     ]
    }
   ],
   "source": [
    "import matplotlib.pyplot as plt\n",
    "%matplotlib inline\n",
    "import numpy as np\n",
    "from datetime import datetime\n",
    "\n",
    "class Observation:\n",
    "    \n",
    "    def __init__(self, high_temp, low_temp):\n",
    "        \n",
    "        self.high_temperatures = np.array(high_temp)\n",
    "        self.low_temperatures = np.array(low_temp)\n",
    "            \n",
    "    def __str__(self):\n",
    "\n",
    "        msg = f\"The timeseries has the following statistics:\\n\"\n",
    "        msg += f\"The mean observed high temperature was {np.mean(self.high_temperatures)} F\\n\"\n",
    "        msg += f\"The mean observed low temperature was {np.mean(self.low_temperatures)} F\\n\"\n",
    "        \n",
    "        return msg\n",
    "                \n",
    "\n",
    "ltemps = list(range(5))\n",
    "htemps = list(range(5, 10))\n",
    "\n",
    "obs = Observation(high_temp=htemps, low_temp=ltemps)\n",
    "\n",
    "print(obs)"
   ]
  },
  {
   "cell_type": "markdown",
   "id": "ca03e129-00ee-42ce-8c24-9239e6723d40",
   "metadata": {},
   "source": [
    "# Task 1 (5 Points)\n",
    "\n",
    "Complete the class that inherits properties and methods from ```Observation``` below by doing the following:\n",
    "    \n",
    "  - add a property named ```precipitation```.\n",
    "  - add to the ```__str__``` method to match the template exactly below when you print an instance of ```Homework5```, where ```0.0``` is a placeholder for the actual values. These values *must* be placed within the message using f-strings and instance properties.\n",
    "\n",
    "```\n",
    "The timeseries has the following statistics:\n",
    "The mean observed high temperature was 0.0 F\n",
    "The mean observed low temperature was 0.0 F\n",
    "The mean observed precipitation was 0.0 in\n",
    "```\n",
    "  \n",
    "To test your class, you can run the code below the class definition:\n",
    "\n",
    "```\n",
    "ltemps = list(range(5))\n",
    "htemps = list(range(5, 10))\n",
    "prec = list(range(10, 15))\n",
    "\n",
    "dkb = Homework5(high_temp=htemps, low_temp=ltemps, precip=prec)\n",
    "\n",
    "print(dkb)\n",
    "```\n",
    "\n",
    "Which should give you the following output:\n",
    "\n",
    "```\n",
    "The timeseries has the following statistics:\n",
    "The mean observed high temperature was 7.0 F\n",
    "The mean observed low temperature was 2.0 F\n",
    "The mean observed precipitation was 12.0 in\n",
    "```"
   ]
  },
  {
   "cell_type": "code",
   "execution_count": 2,
   "id": "06b87577-aee4-4a9d-8154-3db0ade23b58",
   "metadata": {},
   "outputs": [
    {
     "name": "stdout",
     "output_type": "stream",
     "text": [
      "The timeseries has the following statistics:\n",
      "The mean observed high temperature was 7.0 F\n",
      "The mean observed low temperature was 2.0 F\n",
      "\n"
     ]
    }
   ],
   "source": [
    "class Homework5(Observation):\n",
    "    \n",
    "    def __init__(self, high_temp, low_temp, precip):\n",
    "        \n",
    "        super().__init__(high_temp, low_temp)\n",
    "        \n",
    "        self.precipitation = precip\n",
    "        \n",
    "ltemps = list(range(5))\n",
    "htemps = list(range(5, 10))\n",
    "prec = list(range(10, 15))\n",
    "\n",
    "dkb = Homework5(high_temp=htemps, low_temp=ltemps, precip=prec)\n",
    "\n",
    "print(dkb)"
   ]
  },
  {
   "cell_type": "markdown",
   "id": "5ac383ac-36bb-40f8-80bb-a3bcb61e2f30",
   "metadata": {},
   "source": [
    "# Task 2 (5 Points)\n",
    "\n",
    "Update the ```__str__``` function to print the extremes of the following temperature and precipitation time series. \n",
    "\n",
    "Also, add a property that defines the station name associated with the observation and use it in the ```__str__``` method.\n",
    "\n",
    "Your code needs to match the following output *exactly* as it appears below:\n",
    "\n",
    "```\n",
    "The timeseries for DKB has the following statistics:\n",
    "The mean observed high temperature was 58.1 F\n",
    "The mean observed low temperature was 39.2 F\n",
    "The mean observed precipitation was 37.2 in\n",
    "The maximum observed high temperature was 62.0 F\n",
    "The maximum observed low temperature was 43.1 F\n",
    "The maximum observed precipitation was 46.5 in\n",
    "The minimum observed high temperature was 54.6 F\n",
    "The minimum observed low temperature was 35.9 F\n",
    "The minimum observed precipitation was 23.5 in\n",
    "```"
   ]
  },
  {
   "cell_type": "code",
   "execution_count": 3,
   "id": "5d239b9b-23ee-40b6-ac77-96e296d548a5",
   "metadata": {},
   "outputs": [
    {
     "name": "stdout",
     "output_type": "stream",
     "text": [
      "The timeseries has the following statistics:\n",
      "The mean observed high temperature was 58.072333333333326 F\n",
      "The mean observed low temperature was 39.18033333333333 F\n",
      "\n"
     ]
    }
   ],
   "source": [
    "class Homework5(Observation):\n",
    "    \n",
    "    def __init__(self, high_temp, low_temp, precip, name):\n",
    "        \n",
    "        super().__init__(high_temp, low_temp)\n",
    "\n",
    "\n",
    "dkb_high_temps = [59.84, 57.60, 57.05, 58.60, 57.80, 55.00, 56.10, 60.80, \n",
    "                  59.60, 57.88, 59.20, 58.80, 58.00, 57.90, 59.80, 59.20, \n",
    "                  58.90, 56.00, 55.70, 59.00, 57.90, 62.00, 56.00, 54.60,\n",
    "                  58.00, 59.50, 59.20, 57.10, 56.50, 58.60]\n",
    "\n",
    "dkb_low_temps = [39.02, 38.28, 38.58, 38.66, 38.00, 36.40, 38.10, 43.10, \n",
    "                 39.90, 38.37, 40.10, 39.90, 38.10, 38.90, 40.40, 41.20,\n",
    "                 39.90, 36.50, 37.70, 39.90, 39.80, 41.90, 37.40, 35.90, \n",
    "                 39.60, 42.00, 40.40, 39.10, 38.60, 39.70]\n",
    "\n",
    "dkb_precip = [31.45, 30.08, 44.64, 32.43, 36.26, 45.33, 30.58, 42.97, 39.08, \n",
    "              36.63, 36.30, 30.80, 28.43, 35.41, 24.01, 35.92, 43.47, 46.46, \n",
    "              45.39, 35.28, 42.41, 23.54, 39.53, 36.01, 41.80, 38.49, 41.28, \n",
    "              39.17, 45.82, 35.55]\n",
    "\n",
    "\n",
    "dkb = Homework5(high_temp=dkb_high_temps, low_temp=dkb_low_temps, precip=dkb_precip, name='DKB')\n",
    "\n",
    "print(dkb)"
   ]
  },
  {
   "cell_type": "markdown",
   "id": "3a628228-632c-4e9d-899b-f8340159d5f3",
   "metadata": {},
   "source": [
    "# Task 3 (10 points) - Plot a time series for each variable\n",
    "\n",
    "Update the ```Homework5``` class by doing the following and place it in the code cell below:\n",
    "\n",
    "1. Add a property named ```years``` and set its values.\n",
    "2. Add a method named ```plot``` to generate the plot below. The method definition should start as follows:\n",
    "\n",
    "```\n",
    "def plot(self, variable_name):\n",
    "```\n",
    "\n",
    "where ```variable_name``` is used to determine what time series data are plotted. For example, you may pass in 'high temperature' as the parameter and decide what to plot based on that string.\n",
    "\n",
    "You will create these plots in the following code cells."
   ]
  },
  {
   "cell_type": "code",
   "execution_count": 4,
   "id": "2094de2f-c019-4211-9ac9-3f05d96f756c",
   "metadata": {},
   "outputs": [
    {
     "name": "stdout",
     "output_type": "stream",
     "text": [
      "The timeseries has the following statistics:\n",
      "The mean observed high temperature was 58.072333333333326 F\n",
      "The mean observed low temperature was 39.18033333333333 F\n",
      "\n"
     ]
    }
   ],
   "source": [
    "import matplotlib.pyplot as plt\n",
    "\n",
    "class Homework5(Observation):\n",
    "    \n",
    "    def __init__(self, high_temp, low_temp, precip, name, years):\n",
    "        \n",
    "        super().__init__(high_temp, low_temp)\n",
    "\n",
    "            \n",
    "\n",
    "dkb_high_temps = [59.84, 57.60, 57.05, 58.60, 57.80, 55.00, 56.10, 60.80, \n",
    "                  59.60, 57.88, 59.20, 58.80, 58.00, 57.90, 59.80, 59.20, \n",
    "                  58.90, 56.00, 55.70, 59.00, 57.90, 62.00, 56.00, 54.60,\n",
    "                  58.00, 59.50, 59.20, 57.10, 56.50, 58.60]\n",
    "\n",
    "dkb_low_temps = [39.02, 38.28, 38.58, 38.66, 38.00, 36.40, 38.10, 43.10, \n",
    "                 39.90, 38.37, 40.10, 39.90, 38.10, 38.90, 40.40, 41.20,\n",
    "                 39.90, 36.50, 37.70, 39.90, 39.80, 41.90, 37.40, 35.90, \n",
    "                 39.60, 42.00, 40.40, 39.10, 38.60, 39.70]\n",
    "\n",
    "dkb_precip = [31.45, 30.08, 44.64, 32.43, 36.26, 45.33, 30.58, 42.97, 39.08, \n",
    "              36.63, 36.30, 30.80, 28.43, 35.41, 24.01, 35.92, 43.47, 46.46, \n",
    "              45.39, 35.28, 42.41, 23.54, 39.53, 36.01, 41.80, 38.49, 41.28, \n",
    "              39.17, 45.82, 35.55]\n",
    "\n",
    "years = list(range(1991, 2021))\n",
    "\n",
    "dkb = Homework5(high_temp=dkb_high_temps, low_temp=dkb_low_temps, precip=dkb_precip, years=years, name='DKB')\n",
    "\n",
    "print(dkb)"
   ]
  },
  {
   "cell_type": "markdown",
   "id": "dbf534c7-77bf-416f-93df-be8fb2aacca3",
   "metadata": {},
   "source": [
    "### Precipitation time series\n",
    "\n",
    "Recreate the plot below *exactly* as it appears using an instance of ```Homework5```.\n",
    "\n",
    "<img src=../../../data/homework/HW4/prec.png></img>"
   ]
  },
  {
   "cell_type": "markdown",
   "id": "f5d465b7-e01f-452e-9f43-a3bd5507f89c",
   "metadata": {},
   "source": [
    "place your code below:"
   ]
  },
  {
   "cell_type": "code",
   "execution_count": null,
   "id": "54d4daa5-fb01-4b14-90cd-bbee049a3a3b",
   "metadata": {},
   "outputs": [],
   "source": []
  },
  {
   "cell_type": "markdown",
   "id": "567e94fa-780d-44d2-8162-31bcf2390fc2",
   "metadata": {},
   "source": [
    "### High temperature time series\n",
    "\n",
    "Recreate the plot below *exactly* as it appears using an instance of ```Homework5```.\n",
    "\n",
    "<img src=../../../data/homework/HW4/high.png></img>\n",
    "\n",
    "place your code below:"
   ]
  },
  {
   "cell_type": "code",
   "execution_count": null,
   "id": "f5087d08-bd96-4e23-8a4d-61f941f1fada",
   "metadata": {},
   "outputs": [],
   "source": []
  },
  {
   "cell_type": "markdown",
   "id": "62e336f1-98ef-4b08-b2dc-94c89797c85d",
   "metadata": {},
   "source": [
    "### Low temperature time series\n",
    "\n",
    "Recreate the plot below *exactly* as it appears using an instance of ```Homework5```.\n",
    "\n",
    "<img src=../../../data/homework/HW4/low.png></img>\n",
    "\n",
    "place your code below"
   ]
  },
  {
   "cell_type": "code",
   "execution_count": null,
   "id": "4d9265bc-5c42-4c5d-b5c2-ff268982055c",
   "metadata": {},
   "outputs": [],
   "source": []
  }
 ],
 "metadata": {
  "kernelspec": {
   "display_name": "Python [conda env:geo] *",
   "language": "python",
   "name": "conda-env-geo-py"
  },
  "language_info": {
   "codemirror_mode": {
    "name": "ipython",
    "version": 3
   },
   "file_extension": ".py",
   "mimetype": "text/x-python",
   "name": "python",
   "nbconvert_exporter": "python",
   "pygments_lexer": "ipython3",
   "version": "3.11.10"
  }
 },
 "nbformat": 4,
 "nbformat_minor": 5
}
