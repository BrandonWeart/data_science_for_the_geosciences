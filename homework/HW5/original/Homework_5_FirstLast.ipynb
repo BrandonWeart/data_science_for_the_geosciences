{
 "cells": [
  {
   "cell_type": "markdown",
   "metadata": {},
   "source": [
    "# Homework 5 \n",
    "\n",
    "# Using pandas to answer questions about a dataset\n",
    "\n",
    "### Due: TBD\n",
    "\n",
    "### Directions: \n",
    "\n",
    "1. Change the name of your notebook to Homework5_FirstLast.ipynb, where First is your first name and Last is your last name.\n",
    "\n",
    "2. For each of the following prompts, write or modify Python code that fulfills the requirements. \n",
    "\n",
    "#### Important information to remember:\n",
    "\n",
    "1. Periodically, you should click File -> Save Notebook\n",
    "2. When you are done working for the day, click File -> Log Out\n",
    "3. When you are finished, download the notebook and upload it to the submission link\n",
    "\n",
    "# Extra requirements:\n",
    "\n",
    "Answer the following questions using pandas. You will only get credit if you correctly use pandas. What does it mean to correctly use pandas? Each question can and should be answered using **only** pandas methods. Again, **you will not get credit if you do not use pandas to answer the question**. You can use print and other basic Python functions to display answers if you wish.\n",
    "\n",
    "The final answer for each problem must be in the specified data type or you will get an error in the grading system.\n",
    "\n",
    "Use the following csv file in data/homework: ```1950-2023_spc_tornadoes.csv```\n",
    "\n",
    "Here is the metadata for this file: https://www.spc.noaa.gov/wcm/data/SPC_severe_database_description.pdf\n",
    "\n",
    "You can read this file using the following code. We are adding a column named 'hr' which is the hour during which the event occurred in CST."
   ]
  },
  {
   "cell_type": "code",
   "execution_count": null,
   "metadata": {},
   "outputs": [],
   "source": [
    "import pandas as pd\n",
    "\n",
    "df = pd.read_csv(\"../../../data/homework/HW5/1950-2023_actual_tornadoes.csv\")\n",
    "\n",
    "## extract the hour out of the dataset and set it equal to\n",
    "## a column named 'hr'\n",
    "df['hr'] = [int(x.split(\":\")[0]) for x in df.time.values]\n",
    "\n",
    "df"
   ]
  },
  {
   "cell_type": "markdown",
   "metadata": {},
   "source": [
    "### You do not have to re-read the csv file each time if you do not want to, but make sure you keep in mind that any changes to the variable ```df``` could cause your answers to be incorrect later.\n",
    "\n",
    "You can optionally re-read the csv file in for each question to make sure this doesn't happen.\n",
    "\n",
    "**You will only get credit if your code correctly uses pandas to get these answers**"
   ]
  },
  {
   "cell_type": "markdown",
   "metadata": {},
   "source": [
    "### Question 1 (1 point)\n",
    "\n",
    "Create a subset of tornadoes from 1991 to 2020 (both 1991 and 2020 should be included).\n",
    "\n",
    "Set the filtered subset to a variable named ```df_sub```, and use this for the rest of the questions (unless otherwise specified).\n",
    "\n",
    "Make sure that you do not modify ```df_sub```, or you might get incorrect answers in later questions. When you are filtering to create a subset, use a variable like ```df_tmp``` or ```df_jja```, etc., instead.\n",
    "\n",
    "To test your subset, answer the following question:\n",
    "\n",
    "How many tornadoes occurred during the period starting in 1991 and ending in 2020 (including both the start and end years)?\n",
    "\n",
    "q1 should be an ```int``` and should be equal to 36,733. \n",
    "\n",
    "It should be set using pandas (do NOT do something like ```q1 = 36733```). I will not repeat this warning, but it applies to every question."
   ]
  },
  {
   "cell_type": "code",
   "execution_count": null,
   "metadata": {},
   "outputs": [],
   "source": [
    "\n",
    "\n",
    "q1 = None\n",
    "\n",
    "print(q1)"
   ]
  },
  {
   "cell_type": "markdown",
   "metadata": {},
   "source": [
    "### Question 2 (1 point)\n",
    "\n",
    "How many tornadoes from 1991 - 2020 (use ```df_sub```!) occurred during the climatological winter (December, January, and February)?\n",
    "\n",
    "q2 should be an ```int``` or ```float```."
   ]
  },
  {
   "cell_type": "code",
   "execution_count": null,
   "metadata": {},
   "outputs": [],
   "source": [
    "\n",
    "\n",
    "q2 = None\n",
    "\n",
    "print(q2)"
   ]
  },
  {
   "cell_type": "markdown",
   "metadata": {},
   "source": [
    "### Question 3 (1 point)\n",
    "\n",
    "How many tornadoes occurred during the climatological spring (March, April, and May)?\n",
    "\n",
    "q3 should be an ```int``` or ```float```."
   ]
  },
  {
   "cell_type": "code",
   "execution_count": null,
   "metadata": {},
   "outputs": [],
   "source": [
    "\n",
    "\n",
    "q3 = None\n",
    "\n",
    "print(q3)"
   ]
  },
  {
   "cell_type": "markdown",
   "metadata": {},
   "source": [
    "### Question 4 (1 point)\n",
    "\n",
    "How many tornadoes occurred during the climatological spring (June, July, and August)?\n",
    "\n",
    "q4 should be an ```int``` or ```float```."
   ]
  },
  {
   "cell_type": "code",
   "execution_count": null,
   "metadata": {},
   "outputs": [],
   "source": [
    "\n",
    "\n",
    "q4 = None\n",
    "\n",
    "print(q4)"
   ]
  },
  {
   "cell_type": "markdown",
   "metadata": {},
   "source": [
    "### Question 5 (1 point)\n",
    "\n",
    "How many tornadoes occurred during the climatological spring (September, October, and November)?\n",
    "\n",
    "```q5``` should be an ```int``` or ```float```."
   ]
  },
  {
   "cell_type": "code",
   "execution_count": null,
   "metadata": {},
   "outputs": [],
   "source": [
    "\n",
    "\n",
    "q5 = None\n",
    "\n",
    "print(q5)"
   ]
  },
  {
   "cell_type": "markdown",
   "metadata": {},
   "source": [
    "Double check these answers make sense:"
   ]
  },
  {
   "cell_type": "code",
   "execution_count": null,
   "metadata": {},
   "outputs": [],
   "source": [
    "print(\"the total count of tornadoes is\", q1)\n",
    "\n",
    "print(\"the sum of seasonal counts of tornadoes is\", q2 + q3 + q4 + q5)"
   ]
  },
  {
   "cell_type": "markdown",
   "metadata": {},
   "source": [
    "### Question 6 (1 point)\n",
    "\n",
    "Which month had the most tornadoes during the period between 1991 and 2020?\n",
    "\n",
    "```q6``` should be an ```int``` or ```float```."
   ]
  },
  {
   "cell_type": "code",
   "execution_count": null,
   "metadata": {},
   "outputs": [],
   "source": [
    "\n",
    "\n",
    "q6 = None\n",
    "\n",
    "print(q6)"
   ]
  },
  {
   "cell_type": "markdown",
   "metadata": {},
   "source": [
    "### Question 7 (1 point)\n",
    "\n",
    "In Wisconsin, which month had the most tornadoes during the period between 1991 and 2020?\n",
    "\n",
    "```q7``` should be an ```int``` or ```float```."
   ]
  },
  {
   "cell_type": "code",
   "execution_count": null,
   "metadata": {},
   "outputs": [],
   "source": [
    "\n",
    "\n",
    "q7 = None\n",
    "\n",
    "print(q7)"
   ]
  },
  {
   "cell_type": "markdown",
   "metadata": {},
   "source": [
    "### Question 8 (1 point)\n",
    "\n",
    "What hour of the day had the most tornadoes during the period between 1991 and 2020?\n",
    "\n",
    "```q8``` should be an ```int``` or ```float```"
   ]
  },
  {
   "cell_type": "code",
   "execution_count": null,
   "metadata": {},
   "outputs": [],
   "source": [
    "\n",
    "\n",
    "q8 = None\n",
    "\n",
    "print(q8)"
   ]
  },
  {
   "cell_type": "markdown",
   "metadata": {},
   "source": [
    "### Question 9 (1 point)\n",
    "\n",
    "How many total tornadoes occurred between 12:00 a.m. and 11:59 a.m. CST during the period between 1991 and 2020?\n",
    "\n",
    "```q9``` should be an ```int``` or ```float```"
   ]
  },
  {
   "cell_type": "code",
   "execution_count": null,
   "metadata": {},
   "outputs": [],
   "source": [
    "\n",
    "\n",
    "q9 = None\n",
    "\n",
    "print(q9)"
   ]
  },
  {
   "cell_type": "markdown",
   "metadata": {},
   "source": [
    "### Question 10.a (0.5 points)\n",
    "\n",
    "How many total tornadoes occurred between 12:00 p.m. and 11:59 p.m. CST during the period between 1991 and 2020?\n",
    "\n",
    "```q10``` should be an ```int``` or ```float```"
   ]
  },
  {
   "cell_type": "code",
   "execution_count": null,
   "metadata": {},
   "outputs": [],
   "source": [
    "\n",
    "\n",
    "q10 = None\n",
    "\n",
    "print(q10)"
   ]
  },
  {
   "cell_type": "markdown",
   "metadata": {},
   "source": [
    "check to make sure these values make sense"
   ]
  },
  {
   "cell_type": "code",
   "execution_count": null,
   "metadata": {},
   "outputs": [],
   "source": [
    "print(\"the total count of tornadoes is\", q1)\n",
    "\n",
    "print(\"the sum of morning + afternoon counts of tornadoes is\", q9 + q10)"
   ]
  },
  {
   "cell_type": "markdown",
   "metadata": {},
   "source": [
    "### Question 10.b (0.5 points)\n",
    "\n",
    "Based on your analysis, what time of the day experiences the most tornadoes: morning or afternoon? (1 point)\n",
    "\n",
    "ANSWER HERE IN THE MARKDOWN: "
   ]
  },
  {
   "cell_type": "markdown",
   "metadata": {},
   "source": [
    "### Question 11 (1 point)\n",
    "\n",
    "How many tornadoes occur each year on average between 1991 - 2020?\n",
    "\n",
    "```q11``` should be a ```float```"
   ]
  },
  {
   "cell_type": "code",
   "execution_count": null,
   "metadata": {},
   "outputs": [],
   "source": [
    "\n",
    "\n",
    "q11 = None\n",
    "\n",
    "display(q11)"
   ]
  },
  {
   "cell_type": "markdown",
   "metadata": {},
   "source": [
    "### Question 12.a (0.5 point)\n",
    "\n",
    "On average, how often does a tornado with a particular magnitude occur each year for the entire record provided in this HW assignment (1991 - 2020)? \n",
    "\n",
    "Only include magnitudes 0, 1, 2, 3, 4, and 5.\n",
    "\n",
    "Your output / DataFrame should look like close to this if you rounded (you do not need to round):\n",
    "\n",
    "```q12``` should be a ```pandas DataFrame```\n",
    "\n",
    "|   mag |   count |\n",
    "|------:|--------:|\n",
    "|     0 |  721.87 |\n",
    "|     1 |  356.40 |\n",
    "|     2 |   98.27 |\n",
    "|     3 |   27.93 |\n",
    "|     4 |    6.03 |\n",
    "|     5 |    0.53 |"
   ]
  },
  {
   "cell_type": "code",
   "execution_count": null,
   "metadata": {},
   "outputs": [],
   "source": [
    "\n",
    "\n",
    "q12 = None\n",
    "\n",
    "display(q12)"
   ]
  },
  {
   "cell_type": "markdown",
   "metadata": {},
   "source": [
    "### Question 12.b (0.5 point)\n",
    "\n",
    "Based on your analysis, EF0 tornadoes are (more/less) rare than EF5 tornadoes (pick one).\n",
    "\n",
    "ANSWER:"
   ]
  },
  {
   "cell_type": "markdown",
   "metadata": {},
   "source": [
    "### Question 13 (1 point)\n",
    "\n",
    "What state experienced the highest count of tornadoes during entire record provided in this HW assignment (1991 - 2020)? \n",
    "\n",
    "```q13``` should be a ```str```"
   ]
  },
  {
   "cell_type": "code",
   "execution_count": null,
   "metadata": {},
   "outputs": [],
   "source": [
    "\n",
    "\n",
    "q13 = None\n",
    "\n",
    "print(q13)"
   ]
  },
  {
   "cell_type": "markdown",
   "metadata": {},
   "source": [
    "### Question 14 (1 point)\n",
    "\n",
    "What state experienced the highest count of magnitude 3 or greater (EF3 or greater) tornadoes during entire record provided in this HW assignment (1991 - 2020)? \n",
    "\n",
    "```q14``` should be a ```str```"
   ]
  },
  {
   "cell_type": "code",
   "execution_count": null,
   "metadata": {},
   "outputs": [],
   "source": [
    "\n",
    "\n",
    "q14 = None\n",
    "\n",
    "print(q14)"
   ]
  },
  {
   "cell_type": "markdown",
   "metadata": {},
   "source": [
    "### Question 15 (1 point)\n",
    "\n",
    "What was the mean path length (```len```) of Wisconsin (```WI```) tornadoes during entire record provided in this HW assignment (1991 - 2020)? \n",
    "\n",
    "```q15``` should be a ```float```"
   ]
  },
  {
   "cell_type": "code",
   "execution_count": null,
   "metadata": {},
   "outputs": [],
   "source": [
    "\n",
    "\n",
    "q15 = None\n",
    "\n",
    "print(q15)"
   ]
  },
  {
   "cell_type": "markdown",
   "metadata": {},
   "source": [
    "### Question 16 (1 point)\n",
    "\n",
    "What was the mean path length (```len```) of Alabama (```AL```) during entire record provided in this HW assignment (1991 - 2020)? \n",
    "\n",
    "```q16``` should be a ```float```"
   ]
  },
  {
   "cell_type": "code",
   "execution_count": null,
   "metadata": {},
   "outputs": [],
   "source": [
    "\n",
    "\n",
    "q16 = None\n",
    "\n",
    "print(q16)"
   ]
  },
  {
   "cell_type": "markdown",
   "metadata": {},
   "source": [
    "### Question 17 (1 point)\n",
    "\n",
    "What state that experienced at least 100 tornadoes had the largest mean path length (```len```) during entire record provided in this HW assignment (1991 - 2020)? \n",
    "\n",
    "HINTS:\n",
    "\n",
    "To find if a column matches at least one value in a list of values, use ```df['column_name'].isin(list_of_values)```.\n",
    "\n",
    "https://pandas.pydata.org/docs/reference/api/pandas.DataFrame.isin.html\n",
    "\n",
    "For example:\n",
    "\n",
    "```\n",
    "year_list = [1995, 1996, 1997]\n",
    "\n",
    "display(df_sub[df_sub['yr'].isin(year_list)])\n",
    "```\n",
    "\n",
    "Will show you all rows from 1995, 1996, and 1997. For this question, how would you get a list of state abbreviations that have experienced at least 100 tornadoes?\n",
    "\n",
    "You need to eventually use ```groupby``` for this problem.\n",
    "\n",
    "To sort the values with the largest value first, use the method ```.sort_values(ascending=False)``` on the ```pandas DataFrame``` that just has your state and mean length. If you have more columns, you need to use ```.sort_values(by='len', ascending=False)```\n",
    "\n",
    "https://pandas.pydata.org/docs/reference/api/pandas.DataFrame.sort_values.html\n",
    "\n",
    "```q17``` should be a ```str```"
   ]
  },
  {
   "cell_type": "code",
   "execution_count": null,
   "metadata": {},
   "outputs": [],
   "source": [
    "\n",
    "\n",
    "q17 = None\n",
    "\n",
    "print(q17)"
   ]
  },
  {
   "cell_type": "markdown",
   "metadata": {},
   "source": [
    "### Question 18 (1 point)\n",
    "\n",
    "What state had the most injuries (```inj```) during entire record provided in this HW assignment (1991 - 2020)? \n",
    "\n",
    "You need to use ```groupby``` for this problem.\n",
    "\n",
    "```q18``` should be a ```str```"
   ]
  },
  {
   "cell_type": "code",
   "execution_count": null,
   "metadata": {},
   "outputs": [],
   "source": [
    "\n",
    "\n",
    "q18 = None\n",
    "\n",
    "print(q18)"
   ]
  },
  {
   "cell_type": "markdown",
   "metadata": {},
   "source": [
    "### Question 19 (1 point)\n",
    "\n",
    "What state had the most fatalities (```fat```) during entire record provided in this HW assignment (1991 - 2020)? \n",
    "\n",
    "```q19``` should be a ```str```"
   ]
  },
  {
   "cell_type": "code",
   "execution_count": null,
   "metadata": {},
   "outputs": [],
   "source": [
    "\n",
    "\n",
    "q19 = None\n",
    "\n",
    "print(q19)"
   ]
  },
  {
   "cell_type": "markdown",
   "metadata": {},
   "source": [
    "### Question 20.a (0.5 points)\n",
    "\n",
    "What mean count of fatalities organized by EF/F scale (```mag```) during entire record provided in this HW assignment (1991 - 2020)? \n",
    "\n",
    "In other words, how many deaths occur, on average, when a ```mag``` 0 tornado occurs? ```mag``` 1 tornado? etc. \n",
    "\n",
    "HINT: You can get this result by first finding the sum of fatalities per ```mag``` group, and then dividing it by the count of tornadoes in each ```mag``` group. You *can* perform mathematical operations on two ```pandas DataFrame``` in a similar way to numpy ```ndarray```, as long as they are the same size.\n",
    "\n",
    "Only consider magnitude 0 to 5.\n",
    "\n",
    "Your output should look like this and ```q20``` should be a ```pandas DataFrame```.\n",
    "\n",
    "|   mag |          fat |\n",
    "|------:|-------------:|\n",
    "|     0 |  0.000554    |\n",
    "|     1 |  0.009914    |\n",
    "|     2 |  0.093623    |\n",
    "|     3 |  0.768496    |\n",
    "|     4 |  3.232044    |\n",
    "|     5 | 28.125000    |"
   ]
  },
  {
   "cell_type": "code",
   "execution_count": null,
   "metadata": {},
   "outputs": [],
   "source": [
    "\n",
    "q20 = None\n",
    "\n",
    "print(q20)"
   ]
  },
  {
   "cell_type": "markdown",
   "metadata": {},
   "source": [
    "### Question 20.b (0.5 points)\n",
    "\n",
    "Based on this result, what magnitude of tornado is most dangerous when it occurs?\n",
    "\n",
    "PUT YOUR ANSWER HERE IN THE MARKDOWN:"
   ]
  },
  {
   "cell_type": "markdown",
   "metadata": {},
   "source": [
    "# Grader\n",
    "\n",
    "### Do no change the code below this line"
   ]
  },
  {
   "cell_type": "code",
   "execution_count": null,
   "metadata": {},
   "outputs": [],
   "source": [
    "answers = [q1, q2, q3, q4, q5, q6, q7, q8, q9, q10,\n",
    "           q11, q12, q13, q14, q15, q16, q17, q18, q19, q20]\n",
    "ans_s = {f\"Question {x}\": y for x, y in zip(range(1, 21), answers)}\n",
    "\n",
    "print(\"Your answers were:\")\n",
    "\n",
    "for key, value in ans_s.items():\n",
    "    print(f\"{key}:\", value)"
   ]
  },
  {
   "cell_type": "code",
   "execution_count": null,
   "metadata": {},
   "outputs": [],
   "source": [
    "import numpy as np\n",
    "\n",
    "correct= {\n",
    "    \"Question 1\": 36733,\n",
    "    \"Question 2\": 3123,\n",
    "    \"Question 3\": 15901,\n",
    "    \"Question 4\": 12366,\n",
    "    \"Question 5\": 5343,\n",
    "    \"Question 6\": 5,\n",
    "    \"Question 7\": 6,\n",
    "    \"Question 8\": 17,\n",
    "    \"Question 9\": 5936,\n",
    "    \"Question 10\": 30797,\n",
    "    \"Question 11\": 1224.433,\n",
    "    \"Question 12\": {0: 721.867, 1: 356.40, 2: 98.266, 3: 27.9333, 4: 6.03333, 5: 0.53333},\n",
    "    \"Question 13\": \"TX\",\n",
    "    \"Question 14\": \"KS\",\n",
    "    \"Question 15\": 3.4973390557939914,\n",
    "    \"Question 16\": 5.086183673469393,\n",
    "    \"Question 17\": \"AR\",\n",
    "    \"Question 18\": \"AL\",\n",
    "    \"Question 19\": \"AL\",\n",
    "    \"Question 20\": {0: 0.00055411, 1: 0.009914, 2: 0.093623, 3: 0.768496, 4: 3.232044, 5: 28.125000}\n",
    "}\n",
    "\n",
    "total_score = 0\n",
    "\n",
    "for key, value in ans_s.items():\n",
    "    \n",
    "    if (key == \"Question 20\") | (key == \"Question 12\"):\n",
    "        \n",
    "        try:\n",
    "            for sub_key, sub_value in value.items():\n",
    "\n",
    "                points_earned = 1\n",
    "\n",
    "                correct_answer = correct[key][sub_key]\n",
    "\n",
    "                if not np.isclose(sub_value, correct_answer):\n",
    "                    print(key, \"Your answer was\", sub_value, \"the correct answer was\", correct_answer)\n",
    "                    points_earned = 0\n",
    "\n",
    "            total_score += points_earned\n",
    "        except KeyError as e:\n",
    "            print(key, \"You have a magnitude in your DataFrame that is not recognized:\", \"mag =\", e, \"\\nCheck the directions again.\")\n",
    "        \n",
    "    else:\n",
    "        if key in ['Question 13', 'Question 14', 'Question 17', 'Question 18', 'Question 19']:\n",
    "            if value == correct[key]:\n",
    "                total_score += 1\n",
    "            else:\n",
    "                print(key, \"Your answer was\", value, \"the correct answer was\", correct[key])\n",
    "        else:\n",
    "            if np.isclose(value, correct[key]):\n",
    "                total_score += 1\n",
    "            else:\n",
    "                print(key, \"Your answer was\", value, \"the correct answer was\", correct[key])\n",
    "                \n",
    "print(f\"Your Total Score is: {total_score}/20\")"
   ]
  },
  {
   "cell_type": "code",
   "execution_count": null,
   "metadata": {},
   "outputs": [],
   "source": []
  }
 ],
 "metadata": {
  "kernelspec": {
   "display_name": "Python [conda env:geo] *",
   "language": "python",
   "name": "conda-env-geo-py"
  },
  "language_info": {
   "codemirror_mode": {
    "name": "ipython",
    "version": 3
   },
   "file_extension": ".py",
   "mimetype": "text/x-python",
   "name": "python",
   "nbconvert_exporter": "python",
   "pygments_lexer": "ipython3",
   "version": "3.11.10"
  }
 },
 "nbformat": 4,
 "nbformat_minor": 4
}
