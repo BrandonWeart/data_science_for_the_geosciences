{
 "cells": [
  {
   "cell_type": "markdown",
   "id": "e277c0c2-9b49-4d3a-a62d-60d7683af2b3",
   "metadata": {},
   "source": [
    "# Exercise 14 - numpy practice (10 points)\n",
    "\n",
    "Please rename the notebook using your first and last name.\n",
    "\n",
    "Modify the code within the function, but do not modify the function header/def or return\n",
    "\n",
    "### Problem 1 (1 point)\n",
    "\n",
    "Turn the list into a numpy array and set it equal to 'a_n'"
   ]
  },
  {
   "cell_type": "code",
   "execution_count": 1,
   "id": "783f8cd5-f8cf-4502-a650-5d9d80d98ae9",
   "metadata": {},
   "outputs": [
    {
     "name": "stdout",
     "output_type": "stream",
     "text": [
      "None\n"
     ]
    }
   ],
   "source": [
    "import numpy as np\n",
    "\n",
    "def problem_1():\n",
    "\n",
    "    a = [1, 2, 3, 4, 5]\n",
    "\n",
    "    a_n = None # replace None and turn a into a numpy array here\n",
    "\n",
    "    return a_n\n",
    "\n",
    "print(problem_1())"
   ]
  },
  {
   "cell_type": "markdown",
   "id": "e8108264-9706-4440-ad2b-9b16674b31b7",
   "metadata": {},
   "source": [
    "### Problem 2 (1 point)\n",
    "\n",
    "Turn the list into a numpy array and set it equal to 'a_n' and multiply the numpy array by 10"
   ]
  },
  {
   "cell_type": "code",
   "execution_count": 2,
   "id": "daa9f7a0-362f-4ab0-be50-0b9efe550bc1",
   "metadata": {},
   "outputs": [
    {
     "name": "stdout",
     "output_type": "stream",
     "text": [
      "None\n"
     ]
    }
   ],
   "source": [
    "def problem_2():\n",
    "\n",
    "    a = [.1, .2, .3, .4, .5]\n",
    "\n",
    "    a_n = None # replace None and turn a into a numpy array here\n",
    "\n",
    "    a_n = None # replace None and multiply the numpy array by 10 here\n",
    "\n",
    "    return a_n\n",
    "\n",
    "print(problem_2())"
   ]
  },
  {
   "cell_type": "markdown",
   "id": "2bfec47e-6bf9-4178-b663-dc127f1acd9a",
   "metadata": {},
   "source": [
    "### Problem 3 (1 point)\n",
    "\n",
    "Turn the list into a numpy array and set it equal to 'a_n' and divide the numpy array by 10"
   ]
  },
  {
   "cell_type": "code",
   "execution_count": 3,
   "id": "12309975-ee30-44bb-9104-fff74663fa8a",
   "metadata": {},
   "outputs": [
    {
     "name": "stdout",
     "output_type": "stream",
     "text": [
      "None\n"
     ]
    }
   ],
   "source": [
    "def problem_3():\n",
    "\n",
    "    a = [10, 20, 30, 40, 50]\n",
    "\n",
    "    a_n = None # replace None and turn a into a numpy array here\n",
    "\n",
    "    a_n = None # replace None and divide the numpy array by 10 here\n",
    "\n",
    "    return a_n\n",
    "\n",
    "print(problem_3())"
   ]
  },
  {
   "cell_type": "markdown",
   "id": "96a6bcdf-9bf0-4de6-902a-7271e1ca1656",
   "metadata": {},
   "source": [
    "### Problem 4 (1 point)\n",
    "\n",
    "Turn the list into a numpy array and set it equal to 'a_n' and subtract 10 from the numpy array"
   ]
  },
  {
   "cell_type": "code",
   "execution_count": 4,
   "id": "920107df-2e35-4306-80a5-71645d5a6f44",
   "metadata": {},
   "outputs": [
    {
     "name": "stdout",
     "output_type": "stream",
     "text": [
      "None\n"
     ]
    }
   ],
   "source": [
    "def problem_4():\n",
    "\n",
    "    a = [11, 12, 13, 14, 15]\n",
    "\n",
    "    a_n = None # replace None and turn a into a numpy array here\n",
    "\n",
    "    a_n = None # replace None and subtract 10 from the numpy array here\n",
    "\n",
    "    return a_n\n",
    "\n",
    "print(problem_4())"
   ]
  },
  {
   "cell_type": "markdown",
   "id": "fc2e1609-f902-4764-82b8-fb56c5217385",
   "metadata": {},
   "source": [
    "### Problem 5 (1 point)\n",
    "\n",
    "Turn the list into a numpy array and set it equal to 'a_n' and add 10 to the numpy array"
   ]
  },
  {
   "cell_type": "code",
   "execution_count": 5,
   "id": "4ad3e020-0734-49c8-9846-a21be9912201",
   "metadata": {},
   "outputs": [
    {
     "name": "stdout",
     "output_type": "stream",
     "text": [
      "None\n"
     ]
    }
   ],
   "source": [
    "def problem_5():\n",
    "\n",
    "    a = [-9, -8, -7, -6, -5]\n",
    "\n",
    "    a_n = None # replace None and turn a into a numpy array here\n",
    "\n",
    "    a_n = None # replace None and add 10 to the numpy array here\n",
    "\n",
    "    return a_n\n",
    "\n",
    "print(problem_5())"
   ]
  },
  {
   "cell_type": "markdown",
   "id": "db61e845-828f-4226-8488-bbfab78d9f01",
   "metadata": {},
   "source": [
    "### Problem 6 \n",
    "\n",
    "Turn the list of rainfall in mm into a numpy array and convert it to inches\n",
    "\n",
    "1 mm = 0.04 inches\n",
    "\n",
    "'a_mm' must be an ndarray and 'a_in' must be correct."
   ]
  },
  {
   "cell_type": "code",
   "execution_count": 6,
   "id": "d0877cad-fbf4-442c-adac-5e4bd4e96bad",
   "metadata": {},
   "outputs": [
    {
     "name": "stdout",
     "output_type": "stream",
     "text": [
      "(None, None)\n"
     ]
    }
   ],
   "source": [
    "def problem_6():\n",
    "\n",
    "    a = [[10, 11, 12, 13, 14],\n",
    "         [11, 12, 13, 14, 15],\n",
    "         [12, 13, 14, 15, 16],\n",
    "         [13, 14, 15, 16, 17],\n",
    "         [14, 15, 16, 17, 18]]\n",
    "    \n",
    "    a_mm = None # replace None and turn a into a numpy array here\n",
    "\n",
    "    a_in = None # replace None here and convert a_mm to inches\n",
    "\n",
    "    return a_mm, a_in\n",
    "\n",
    "print(problem_6())"
   ]
  },
  {
   "cell_type": "markdown",
   "id": "d2bc4b5f-c387-49c8-b20b-c67aada171b4",
   "metadata": {},
   "source": [
    "### Problem 7\n",
    "\n",
    "turn the list of rainfall in mm into a numpy array\n",
    "\n",
    "next, turn the list of 0s and 1s into into a numpy array\n",
    "\n",
    "finally, find the sum of a_mm *only* where b is 1\n",
    "\n",
    "'a_n' must be an ndarray\n",
    "\n",
    "'b_n' must be an ndarray\n",
    "\n",
    "'c' must be the result where positions in 'a_n' that correspond to a 0 in 'b_n' are also zero\n",
    "\n",
    "'d' must be the correct sum"
   ]
  },
  {
   "cell_type": "code",
   "execution_count": 7,
   "id": "41be6bf8-ad04-4e27-9146-24b0c78db1bb",
   "metadata": {},
   "outputs": [
    {
     "name": "stdout",
     "output_type": "stream",
     "text": [
      "(None, None, None, None)\n"
     ]
    }
   ],
   "source": [
    "def problem_7():\n",
    "\n",
    "    a = [[10, 11, 12, 13, 14],\n",
    "         [11, 12, 13, 14, 15],\n",
    "         [12, 13, 14, 15, 16],\n",
    "         [13, 14, 15, 16, 17],\n",
    "         [14, 15, 16, 17, 18]]\n",
    "    \n",
    "    a_n = None # replace None and turn a into a numpy array here\n",
    "\n",
    "    b = [[1, 0, 0, 0, 1],\n",
    "         [0, 1, 0, 1, 0],\n",
    "         [0, 0, 1, 0, 0],\n",
    "         [0, 1, 0, 1, 0],\n",
    "         [1, 0, 0, 0, 1]]\n",
    "\n",
    "    b_n = None # replace None and turn b into a numpy array here\n",
    "\n",
    "    c = None # find a way to make a values 0 for locations where b is also zero\n",
    "\n",
    "    c_sum = None # find the sum of c\n",
    "\n",
    "    return a_n, b_n, c, c_sum\n",
    "\n",
    "print(problem_7())"
   ]
  },
  {
   "cell_type": "markdown",
   "id": "965be545-3292-496e-bfe7-2a60cb15cb6c",
   "metadata": {},
   "source": [
    "### Problem 8 (1 point)\n",
    "\n",
    "Use slice indexing to replace every 0 in row 3 with 1\n",
    "\n",
    "'a' must be the original unmodified list\n",
    "\n",
    "'a_n' must be the modified list as an ndarray and it must use values from `a` and not a different list"
   ]
  },
  {
   "cell_type": "code",
   "execution_count": 8,
   "id": "fac78555-dfe6-4c00-86bb-b8151f5aa913",
   "metadata": {},
   "outputs": [
    {
     "name": "stdout",
     "output_type": "stream",
     "text": [
      "([[0, 0, 0, 0, 0], [0, 0, 0, 0, 0], [0, 0, 0, 0, 0], [0, 0, 0, 0, 0], [0, 0, 0, 0, 0]], None)\n"
     ]
    }
   ],
   "source": [
    "def problem_8():\n",
    "\n",
    "    a = [[0, 0, 0, 0, 0],\n",
    "         [0, 0, 0, 0, 0],\n",
    "         [0, 0, 0, 0, 0],\n",
    "         [0, 0, 0, 0, 0],\n",
    "         [0, 0, 0, 0, 0]]\n",
    "    \n",
    "    a_n = None # replace None and turn a into a numpy array here\n",
    "\n",
    "    a_n = None # use slice indexing to meet the requirements.\n",
    "\n",
    "    return a, a_n\n",
    "\n",
    "print(problem_8())"
   ]
  },
  {
   "cell_type": "markdown",
   "id": "aa127c0a-686c-4fc2-8d22-c6891f349d4c",
   "metadata": {},
   "source": [
    "### Problem 9 (1 point)\n",
    "\n",
    "Use slice indexing to replace every 0 in column 3 with 1\n",
    "\n",
    "'a' must be the original unmodified list\n",
    "\n",
    "'a_n' must be the modified list as an ndarray and it must use values from `a` and not a different list"
   ]
  },
  {
   "cell_type": "code",
   "execution_count": 9,
   "id": "5e0ff030-2ad9-4e83-9da6-9359c6aeaacd",
   "metadata": {},
   "outputs": [
    {
     "name": "stdout",
     "output_type": "stream",
     "text": [
      "([[0, 0, 0, 0, 0], [0, 0, 0, 0, 0], [0, 0, 0, 0, 0], [0, 0, 0, 0, 0], [0, 0, 0, 0, 0]], None)\n"
     ]
    }
   ],
   "source": [
    "def problem_9():\n",
    "\n",
    "    a = [[0, 0, 0, 0, 0],\n",
    "         [0, 0, 0, 0, 0],\n",
    "         [0, 0, 0, 0, 0],\n",
    "         [0, 0, 0, 0, 0],\n",
    "         [0, 0, 0, 0, 0]]\n",
    "    \n",
    "    a_n = None # replace None and turn a into a numpy array here\n",
    "\n",
    "    a_n = None # use slice indexing to meet the requirements.\n",
    "\n",
    "    return a, a_n\n",
    "\n",
    "print(problem_9())"
   ]
  },
  {
   "cell_type": "markdown",
   "id": "db82eae1-716f-420e-8e62-41bfe91cd930",
   "metadata": {},
   "source": [
    "### Problem 10 (1 point)\n",
    "\n",
    "Use slice indexing to replace every 0 in column 4 *and* row 2 with 1\n",
    "\n",
    "'a' must be the original unmodified list\n",
    "\n",
    "'a_n' must be the modified list as an ndarray and it must use values from `a` and not a different list"
   ]
  },
  {
   "cell_type": "code",
   "execution_count": 10,
   "id": "38b6df00-6580-4502-849d-89521b0a62d3",
   "metadata": {},
   "outputs": [
    {
     "name": "stdout",
     "output_type": "stream",
     "text": [
      "([[0, 0, 0, 0, 0], [0, 0, 0, 0, 0], [0, 0, 0, 0, 0], [0, 0, 0, 0, 0], [0, 0, 0, 0, 0]], None)\n"
     ]
    }
   ],
   "source": [
    "def problem_10():\n",
    "\n",
    "    a = [[0, 0, 0, 0, 0],\n",
    "         [0, 0, 0, 0, 0],\n",
    "         [0, 0, 0, 0, 0],\n",
    "         [0, 0, 0, 0, 0],\n",
    "         [0, 0, 0, 0, 0]]\n",
    "    \n",
    "    a_n = None # replace None and turn a into a numpy array here\n",
    "\n",
    "    a_n = None # use slice indexing to meet the first requirement.\n",
    "\n",
    "    a_n = None # use slice indexing to meet the second requirement.\n",
    "\n",
    "    return a, a_n\n",
    "\n",
    "print(problem_10())"
   ]
  },
  {
   "cell_type": "markdown",
   "id": "9debb2ac-b3cf-4caa-9d36-23b480b04d3e",
   "metadata": {},
   "source": [
    "# Grader\n",
    "\n",
    "Do not modify the code below. Your functions above *must* work here or you will not get credit."
   ]
  },
  {
   "cell_type": "code",
   "execution_count": 11,
   "id": "40055eb4-e964-4a17-a55f-a324d7f268f1",
   "metadata": {},
   "outputs": [
    {
     "name": "stdout",
     "output_type": "stream",
     "text": [
      "Problem 1 is not correct. Check the directions.\n",
      "\n",
      "Problem 2 is not correct. Check the directions.\n",
      "\n",
      "Problem 3 is not correct. Check the directions.\n",
      "\n",
      "Problem 4 is not correct. Check the directions.\n",
      "\n",
      "Problem 5 is not correct. Check the directions.\n",
      "\n",
      "Problem 6 is not correct. Check the directions.\n",
      "\n",
      "Problem 7 is not correct. Check the directions.\n",
      "\n",
      "Problem 8 is not correct. Check the directions.\n",
      "unsupported operand type(s) for -: 'NoneType' and 'float'\n",
      "Problem 9 is not correct. Check the directions.\n",
      "unsupported operand type(s) for -: 'NoneType' and 'float'\n",
      "Problem 10 is not correct. Check the directions.\n",
      "unsupported operand type(s) for -: 'NoneType' and 'float'\n",
      "Your score is 0/10\n"
     ]
    }
   ],
   "source": [
    "import numpy as np\n",
    "\n",
    "def test_problem_1():\n",
    "\n",
    "    result = problem_1()\n",
    "\n",
    "    assert isinstance(result, np.ndarray)\n",
    "\n",
    "def test_problem_2():\n",
    "\n",
    "    result = problem_2()\n",
    "\n",
    "    assert isinstance(result, np.ndarray)\n",
    "\n",
    "    np.testing.assert_almost_equal(result, np.array([1, 2, 3, 4, 5]))\n",
    "\n",
    "def test_problem_3():\n",
    "\n",
    "    result = problem_3()\n",
    "\n",
    "    assert isinstance(result, np.ndarray)\n",
    "\n",
    "    np.testing.assert_almost_equal(result, np.array([1, 2, 3, 4, 5]))\n",
    "\n",
    "def test_problem_4():\n",
    "\n",
    "    result = problem_4()\n",
    "\n",
    "    assert isinstance(result, np.ndarray)\n",
    "\n",
    "    np.testing.assert_almost_equal(result, np.array([1, 2, 3, 4, 5]))\n",
    "\n",
    "\n",
    "def test_problem_5():\n",
    "\n",
    "    result = problem_5()\n",
    "\n",
    "    assert isinstance(result, np.ndarray)\n",
    "\n",
    "    np.testing.assert_almost_equal(result, np.array([1, 2, 3, 4, 5]))\n",
    "    \n",
    "def test_problem_6():\n",
    "\n",
    "    result_1, result_2 = problem_6()\n",
    "\n",
    "    assert isinstance(result_1, np.ndarray)\n",
    "\n",
    "    assert isinstance(result_2, np.ndarray)\n",
    "\n",
    "    test_1 = np.array([[10, 11, 12, 13, 14],\n",
    "                       [11, 12, 13, 14, 15],\n",
    "                       [12, 13, 14, 15, 16],\n",
    "                       [13, 14, 15, 16, 17],\n",
    "                       [14, 15, 16, 17, 18]])\n",
    "    \n",
    "    test_2 = np.array([[0.4,  0.44, 0.48, 0.52, 0.56],\n",
    "                       [0.44, 0.48, 0.52, 0.56, 0.6 ],\n",
    "                       [0.48, 0.52, 0.56, 0.6,  0.64],\n",
    "                       [0.52, 0.56, 0.6,  0.64, 0.68],\n",
    "                       [0.56, 0.6,  0.64, 0.68, 0.72]])\n",
    "    \n",
    "    np.testing.assert_array_almost_equal(test_1, result_1)\n",
    "\n",
    "\n",
    "    np.testing.assert_array_almost_equal(test_2, result_2)\n",
    "    \n",
    "def test_problem_7():\n",
    "\n",
    "    res_1, res_2, res_3, res_4 = problem_7()\n",
    "\n",
    "    assert isinstance(res_1, np.ndarray)\n",
    "    assert isinstance(res_2, np.ndarray)\n",
    "    assert isinstance(res_3, np.ndarray)\n",
    "\n",
    "    test_1 = np.array([[10, 11, 12, 13, 14],\n",
    "                       [11, 12, 13, 14, 15],\n",
    "                       [12, 13, 14, 15, 16],\n",
    "                       [13, 14, 15, 16, 17],\n",
    "                       [14, 15, 16, 17, 18]])\n",
    "    \n",
    "    test_2 = np.array([[1, 0, 0, 0, 1],\n",
    "                       [0, 1, 0, 1, 0],\n",
    "                       [0, 0, 1, 0, 0],\n",
    "                       [0, 1, 0, 1, 0],\n",
    "                       [1, 0, 0, 0, 1]])\n",
    "    \n",
    "    test_3 = np.array([[10, 0, 0, 0, 14],\n",
    "                       [0, 12, 0, 14, 0],\n",
    "                       [0, 0, 14, 0, 0],\n",
    "                       [0, 14, 0, 16, 0],\n",
    "                       [14, 0, 0, 0, 18]])\n",
    "    \n",
    "    np.testing.assert_array_almost_equal(test_1, res_1)\n",
    "    np.testing.assert_array_almost_equal(test_2, res_2)\n",
    "    np.testing.assert_array_almost_equal(test_3, res_3)\n",
    "    assert res_4 == 126\n",
    "    \n",
    "def test_problem_8():\n",
    "\n",
    "    res1, res2 = problem_8()\n",
    "    \n",
    "    assert np.sum(res1) == 0\n",
    "\n",
    "    test_2 = np.array([[0, 0, 0, 0, 0],\n",
    "                       [0, 0, 0, 0, 0],\n",
    "                       [1, 1, 1, 1, 1],\n",
    "                       [0, 0, 0, 0, 0],\n",
    "                       [0, 0, 0, 0, 0]])\n",
    "    \n",
    "    np.testing.assert_almost_equal(res2, test_2)\n",
    "    \n",
    "    \n",
    "def test_problem_9():\n",
    "\n",
    "    res1, res2 = problem_9()\n",
    "    \n",
    "    assert np.sum(res1) == 0\n",
    "\n",
    "    test_2 = np.array([[0, 0, 1, 0, 0],\n",
    "                       [0, 0, 1, 0, 0],\n",
    "                       [0, 0, 1, 0, 0],\n",
    "                       [0, 0, 1, 0, 0],\n",
    "                       [0, 0, 1, 0, 0]])\n",
    "    \n",
    "    np.testing.assert_almost_equal(res2, test_2)\n",
    "    \n",
    "def test_problem_10():\n",
    "\n",
    "    res1, res2 = problem_10()\n",
    "    \n",
    "    assert np.sum(res1) == 0\n",
    "\n",
    "    test_2 = np.array([[0, 0, 0, 1, 0],\n",
    "                       [1, 1, 1, 1, 1],\n",
    "                       [0, 0, 0, 1, 0],\n",
    "                       [0, 0, 0, 1, 0],\n",
    "                       [0, 0, 0, 1, 0]])\n",
    "    \n",
    "    np.testing.assert_almost_equal(res2, test_2)\n",
    "    \n",
    "point_total = 0\n",
    "\n",
    "for num, problem in enumerate([test_problem_1, test_problem_2, test_problem_3, \n",
    "                               test_problem_4, test_problem_5, test_problem_6, \n",
    "                               test_problem_7, test_problem_8, test_problem_9, \n",
    "                               test_problem_10]):\n",
    "    try:\n",
    "        problem()\n",
    "        point_total += 1\n",
    "        print(f\"Problem {num+1} is correct\")\n",
    "    except Exception as e:\n",
    "        print(f\"Problem {num+1} is not correct. Check the directions.\")\n",
    "        print(e)\n",
    "        \n",
    "print(f\"Your score is {point_total}/10\")"
   ]
  }
 ],
 "metadata": {
  "kernelspec": {
   "display_name": "Python [conda env:geo] *",
   "language": "python",
   "name": "conda-env-geo-py"
  },
  "language_info": {
   "codemirror_mode": {
    "name": "ipython",
    "version": 3
   },
   "file_extension": ".py",
   "mimetype": "text/x-python",
   "name": "python",
   "nbconvert_exporter": "python",
   "pygments_lexer": "ipython3",
   "version": "3.11.10"
  }
 },
 "nbformat": 4,
 "nbformat_minor": 5
}
