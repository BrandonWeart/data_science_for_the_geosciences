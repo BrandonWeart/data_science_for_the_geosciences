{
 "cells": [
  {
   "cell_type": "markdown",
   "id": "5780db11-487f-4af0-b347-69c9fa62d1ed",
   "metadata": {},
   "source": [
    "# Exercise 7 \n",
    "\n",
    "# numpy\n",
    "\n",
    "### Due: TBD\n",
    "\n",
    "### Directions: \n",
    "\n",
    "1. Change the name of your notebook to EX5_FirstLast.ipynb, where First is your first name and Last is your last name.\n",
    "\n",
    "2. For each of the following prompts, write or modify Python code that fulfills the requirements. \n",
    "\n",
    "#### Important information to remember:\n",
    "\n",
    "1. Periodically, you should click File -> Save Notebook\n",
    "2. When you are done working for the day, click File -> Log Out\n",
    "3. When you are finished, download the notebook and upload it to the submission link\n",
    "\n",
    "# Extra requirements:\n",
    "\n",
    "Complete the following problems using ```numpy```.\n",
    "\n",
    "Run the last cell to see if you completed the problems correctly.\n",
    "\n",
    "A \"numpy array\" is how this assignment will refer to the ```np.ndarray``` data type. A Python ```list``` is not a numpy array. When required to do so by directions or basic numpy functionality, you must convert a list into a numpy array using what we learned in class. This might not always be specified, but it may be implied because it may be difficult or impossible to run ```numpy``` operations on a ```list```.\n",
    "\n",
    "I am banning the use of any for or while loop in this exercise (aside from my grading code at the end of the assignment and the wrapped C++/C/Cython for or while loop calls used by numpy, jupyter / etc. in the background, for all the jokesters out there who will claim that the homework assignment is technically impossible without loops).\n",
    "\n",
    "Your answer must be derived from the requested calculations. If you set values \"manually\", you will get no credit. This is because all of the results are in the grading code below. This is like when the answers are in the back of the book. I'm not interested to see how well you can copy and paste.\n",
    "\n",
    "For example, if I ask you to add 1 to ```x``` and set the variable named ```y``` to the result. This is what I am expecting:\n",
    "\n",
    "```\n",
    "x = 10\n",
    "y = x + 1\n",
    "```\n",
    "\n",
    "If you instead do something like this:\n",
    "\n",
    "```\n",
    "x = 10\n",
    "y = 11\n",
    "```\n",
    "\n",
    "You will get no credit.\n",
    "\n",
    "### Problem 1 \n",
    "\n",
    "Cast the ```list``` named ```a1``` to a numpy array and set a variable named ```n1``` to the result."
   ]
  },
  {
   "cell_type": "code",
   "execution_count": 1,
   "id": "19b42fb9-52e0-4cdf-b3b8-a8ea560f8400",
   "metadata": {},
   "outputs": [
    {
     "name": "stdout",
     "output_type": "stream",
     "text": [
      "None\n"
     ]
    }
   ],
   "source": [
    "import numpy as np\n",
    "\n",
    "a1 = [1, 2, 3, 4, 5]\n",
    "\n",
    "n1 = None # replace None with code that converts the list to a numpy array\n",
    "\n",
    "print(n1)"
   ]
  },
  {
   "cell_type": "markdown",
   "id": "09dcc627-646f-4c03-bc17-8e06bf637b68",
   "metadata": {},
   "source": [
    "### Problem 2\n",
    "\n",
    "Cast the ```list``` named ```a2``` to a numpy array and set it equal to ```n2```. Then, multiply ```n2``` by 10 and set a variable named ```n2``` to the result."
   ]
  },
  {
   "cell_type": "code",
   "execution_count": 2,
   "id": "09af5af8-4ffc-41f1-a42a-a2d1c1e1070f",
   "metadata": {},
   "outputs": [
    {
     "name": "stdout",
     "output_type": "stream",
     "text": [
      "None\n"
     ]
    }
   ],
   "source": [
    "a2 = [.1, .2, .3, .4, .5]\n",
    "\n",
    "n2 = None # replace None with code that converts the list to a numpy array\n",
    "\n",
    "n2 = None # replace None with code that fulfills the requirements for this problem\n",
    "\n",
    "print(n2)"
   ]
  },
  {
   "cell_type": "markdown",
   "id": "6bd9bd34-6757-4c6d-aae8-48477ee01add",
   "metadata": {},
   "source": [
    "### Problem 3\n",
    "\n",
    "Cast the ```list``` named ```a3``` to a numpy array and set it equal to ```n3```. Next, divide ```n3``` by 10 and set a variable named ```n3``` to the result."
   ]
  },
  {
   "cell_type": "code",
   "execution_count": 3,
   "id": "9c5b937a-3325-41ce-b3d4-d53f269e0e0d",
   "metadata": {},
   "outputs": [
    {
     "name": "stdout",
     "output_type": "stream",
     "text": [
      "None\n"
     ]
    }
   ],
   "source": [
    "a3 = [10, 20, 30, 40, 50]\n",
    "\n",
    "n3 = None # replace None with code that converts the list to a numpy array\n",
    "\n",
    "n3 = None # replace None with code that fulfills the requirements for this problem\n",
    "\n",
    "print(n3)"
   ]
  },
  {
   "cell_type": "markdown",
   "id": "d1d8fce0-ef73-4f85-b128-92950348d18e",
   "metadata": {},
   "source": [
    "### Problem 4\n",
    "\n",
    "Cast the ```list``` named ```a4``` to a numpy array and set it equal to ```n4```. Next, subtract 10 from ```n4``` and set a variable named ```n4``` to the result."
   ]
  },
  {
   "cell_type": "code",
   "execution_count": 4,
   "id": "6bdf17e4-a186-4773-a4ae-63cf7917a804",
   "metadata": {},
   "outputs": [
    {
     "name": "stdout",
     "output_type": "stream",
     "text": [
      "None\n"
     ]
    }
   ],
   "source": [
    "a4 = [11, 12, 13, 14, 15]\n",
    "\n",
    "n4 = None # replace None with code that converts the list to a numpy array\n",
    "\n",
    "n4 = None # replace None with code that fulfills the requirements for this problem\n",
    "\n",
    "print(n4)"
   ]
  },
  {
   "cell_type": "markdown",
   "id": "61fb8e9d-1e6e-4cc8-b8d6-aa3056acfb08",
   "metadata": {},
   "source": [
    "### Problem 5\n",
    "\n",
    "Cast the ```list``` named ```a5``` to a numpy array and set it equal to ```n5```. Next, add 10 to ```n5``` and set a variable named ```n5``` to the result."
   ]
  },
  {
   "cell_type": "code",
   "execution_count": 5,
   "id": "0b73bc46-b7d3-467c-b097-2cd3224cbda7",
   "metadata": {},
   "outputs": [
    {
     "name": "stdout",
     "output_type": "stream",
     "text": [
      "None\n"
     ]
    }
   ],
   "source": [
    "a5 = [-9, -8, -7, -6, -5]\n",
    "\n",
    "n5 = None # replace None with code that converts the list to a numpy array\n",
    "\n",
    "n5 = None # replace None with code that fulfills the requirements for this problem\n",
    "\n",
    "print(n5)"
   ]
  },
  {
   "cell_type": "markdown",
   "id": "b67e6f83-df8d-480c-b1c2-657f701896f0",
   "metadata": {},
   "source": [
    "### Problem 6\n",
    "\n",
    "Convert the list of gridded rainfall totals (in mm) named ```a6``` to inches using numpy. Assume 1 mm = 0.04 inches.\n",
    "\n",
    "Set the variable named ```n6``` to the result. You can use more than one line to set the result if you would like.\n",
    "\n",
    "Note that I will not accept manual answers and you cannot use a loop. See above."
   ]
  },
  {
   "cell_type": "code",
   "execution_count": 6,
   "id": "76ff512a-e615-4d75-8f23-b98a950e554b",
   "metadata": {},
   "outputs": [
    {
     "name": "stdout",
     "output_type": "stream",
     "text": [
      "None\n"
     ]
    }
   ],
   "source": [
    "a6 = [[10, 11, 12, 13, 14],\n",
    "     [11, 12, 13, 14, 15],\n",
    "     [12, 13, 14, 15, 16],\n",
    "     [13, 14, 15, 16, 17],\n",
    "     [14, 15, 16, 17, 18]]\n",
    "\n",
    "\n",
    "\n",
    "\n",
    "n6 = None\n",
    "\n",
    "print(n6)"
   ]
  },
  {
   "cell_type": "markdown",
   "id": "b0d18520-a354-441a-9aa5-9504428af142",
   "metadata": {},
   "source": [
    "### Problem 7\n",
    "\n",
    "Find the sum of the numbers in ```a7``` that meet the following condition: They do not share the same 2D index as any ```0``` in ```b7```.\n",
    "\n",
    "You must use ```numpy``` for all calculation steps. Set a variable named ```n7``` to the result. You will need multiple lines of code after ```a7``` and ```b7``` and before you set ```n7``` to the result. \n",
    "\n",
    "Note that I will not accept manual answers and you cannot use a loop. See above."
   ]
  },
  {
   "cell_type": "code",
   "execution_count": 7,
   "id": "21ea6e63-aabb-4f0e-bd23-264adaa6356d",
   "metadata": {},
   "outputs": [
    {
     "name": "stdout",
     "output_type": "stream",
     "text": [
      "None\n"
     ]
    }
   ],
   "source": [
    "a7 = [[10, 11, 12, 13, 14],\n",
    "      [11, 12, 13, 14, 15],\n",
    "      [12, 13, 14, 15, 16],\n",
    "      [13, 14, 15, 16, 17],\n",
    "      [14, 15, 16, 17, 18]]\n",
    "\n",
    "b7 = [[0, 1, 0, 1, 0],\n",
    "     [1, 1, 1, 1, 1],\n",
    "     [0, 1, 0, 1, 0],\n",
    "     [1, 1, 1, 1, 1],\n",
    "     [0, 1, 0, 1, 0]]\n",
    "\n",
    "\n",
    "\n",
    "\n",
    "\n",
    "\n",
    "n7 = None\n",
    "\n",
    "print(n7)"
   ]
  },
  {
   "cell_type": "markdown",
   "id": "938386d5-fd18-4977-a210-788fe8b6a957",
   "metadata": {},
   "source": [
    "### Grader\n",
    "\n",
    "Do not change anything in the cell below unless otherwise told to do so.\n",
    "\n",
    "This is just to assist you. If you change this, it will not influence your grade, you will just not know if you did the problems correctly. I have many copies of this code that I can copy and paste below if I suspect modification occurred."
   ]
  },
  {
   "cell_type": "code",
   "execution_count": 8,
   "id": "20922cd5-0e35-469a-992f-ea5053f90f63",
   "metadata": {},
   "outputs": [
    {
     "name": "stdout",
     "output_type": "stream",
     "text": [
      "Testing problem 1\n",
      "Incorrect\n",
      "Your answer is not a numpy array\n",
      "\n",
      "Testing problem 2\n",
      "Incorrect\n",
      "Your answer is not a numpy array\n",
      "\n",
      "Testing problem 3\n",
      "Incorrect\n",
      "Your answer is not a numpy array\n",
      "\n",
      "Testing problem 4\n",
      "Incorrect\n",
      "Your answer is not a numpy array\n",
      "\n",
      "Testing problem 5\n",
      "Incorrect\n",
      "Your answer is not a numpy array\n",
      "\n",
      "Testing problem 6\n",
      "Incorrect\n",
      "Your answer is not a numpy array\n",
      "\n",
      "Testing problem 7\n",
      "Incorrect\n",
      "Your answer is not an int or float\n",
      "\n",
      "\n",
      "Your score is 0.00\n"
     ]
    }
   ],
   "source": [
    "score = 0\n",
    "\n",
    "student_answers = {1: n1, 2: n2, 3: n3, 4: n4, 5: n5,\n",
    "                   6: n6, 7: n7}\n",
    "\n",
    "correct_answers = {1: [1, 2, 3, 4, 5],\n",
    "                   2: [1, 2, 3, 4, 5],\n",
    "                   3: [1, 2, 3, 4, 5],\n",
    "                   4: [1, 2, 3, 4, 5],\n",
    "                   5: [1, 2, 3, 4, 5],\n",
    "                   6: [[0.4, 0.44, 0.48, 0.52, 0.56],\n",
    "                       [0.44, 0.48, 0.52, 0.56, 0.6 ],\n",
    "                       [0.48, 0.52, 0.56, 0.6, 0.64],\n",
    "                       [0.52, 0.56, 0.6, 0.64, 0.68],\n",
    "                       [0.56, 0.6, 0.64, 0.68, 0.72]],\n",
    "                   7: 224}\n",
    "                   \n",
    "for problem in range(1, 8):\n",
    "    print(f\"Testing problem {problem}\")\n",
    "    \n",
    "    try:\n",
    "        if not (type(student_answers[problem])==np.ndarray) and (problem != 7):\n",
    "            raise TypeError(\"Your answer is not a numpy array\\n\")\n",
    "        elif (problem == 7) and not (type(student_answers[problem]) in [int, float]):\n",
    "            raise TypeError(\"Your answer is not an int or float\\n\")\n",
    "        else:\n",
    "            np.testing.assert_almost_equal(student_answers[problem], correct_answers[problem])\n",
    "            print(\"Correct!\\n\")\n",
    "            score += 1\n",
    "    except Exception as e:\n",
    "        print(\"Incorrect\")\n",
    "        print(e)\n",
    "\n",
    "print(f\"\\nYour score is {10*(score/7):.2f}\")"
   ]
  }
 ],
 "metadata": {
  "kernelspec": {
   "display_name": "Python [conda env:geo] *",
   "language": "python",
   "name": "conda-env-geo-py"
  },
  "language_info": {
   "codemirror_mode": {
    "name": "ipython",
    "version": 3
   },
   "file_extension": ".py",
   "mimetype": "text/x-python",
   "name": "python",
   "nbconvert_exporter": "python",
   "pygments_lexer": "ipython3",
   "version": "3.11.10"
  }
 },
 "nbformat": 4,
 "nbformat_minor": 5
}
