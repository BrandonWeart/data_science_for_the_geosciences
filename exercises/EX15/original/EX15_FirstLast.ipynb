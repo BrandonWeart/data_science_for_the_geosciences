{
 "cells": [
  {
   "cell_type": "markdown",
   "id": "e277c0c2-9b49-4d3a-a62d-60d7683af2b3",
   "metadata": {},
   "source": [
    "# Exercise 15 - pandas practice\n",
    "\n",
    "Answer the following questions about this time series of average monthly high temperatures in DeKalb, IL from 1991 - 2020.\n",
    "\n",
    "\"dkb_high_temps.csv\" is in the data/exercises folder.\n",
    "\n",
    "You will get no credit if your code does not \"prove\" your answer. For example, if you just look at the list and then print out the answer (or similar), that will get 0 points."
   ]
  },
  {
   "cell_type": "code",
   "execution_count": 1,
   "id": "783f8cd5-f8cf-4502-a650-5d9d80d98ae9",
   "metadata": {},
   "outputs": [
    {
     "data": {
      "text/html": [
       "<div>\n",
       "<style scoped>\n",
       "    .dataframe tbody tr th:only-of-type {\n",
       "        vertical-align: middle;\n",
       "    }\n",
       "\n",
       "    .dataframe tbody tr th {\n",
       "        vertical-align: top;\n",
       "    }\n",
       "\n",
       "    .dataframe thead th {\n",
       "        text-align: right;\n",
       "    }\n",
       "</style>\n",
       "<table border=\"1\" class=\"dataframe\">\n",
       "  <thead>\n",
       "    <tr style=\"text-align: right;\">\n",
       "      <th></th>\n",
       "      <th>NOV</th>\n",
       "    </tr>\n",
       "    <tr>\n",
       "      <th>YEAR</th>\n",
       "      <th></th>\n",
       "    </tr>\n",
       "  </thead>\n",
       "  <tbody>\n",
       "    <tr>\n",
       "      <th>1991</th>\n",
       "      <td>41.5</td>\n",
       "    </tr>\n",
       "    <tr>\n",
       "      <th>1992</th>\n",
       "      <td>42.6</td>\n",
       "    </tr>\n",
       "    <tr>\n",
       "      <th>1993</th>\n",
       "      <td>44.3</td>\n",
       "    </tr>\n",
       "    <tr>\n",
       "      <th>1994</th>\n",
       "      <td>49.8</td>\n",
       "    </tr>\n",
       "    <tr>\n",
       "      <th>1995</th>\n",
       "      <td>37.6</td>\n",
       "    </tr>\n",
       "    <tr>\n",
       "      <th>1996</th>\n",
       "      <td>36.6</td>\n",
       "    </tr>\n",
       "    <tr>\n",
       "      <th>1997</th>\n",
       "      <td>41.1</td>\n",
       "    </tr>\n",
       "    <tr>\n",
       "      <th>1998</th>\n",
       "      <td>50.3</td>\n",
       "    </tr>\n",
       "    <tr>\n",
       "      <th>1999</th>\n",
       "      <td>56.4</td>\n",
       "    </tr>\n",
       "    <tr>\n",
       "      <th>2000</th>\n",
       "      <td>42.6</td>\n",
       "    </tr>\n",
       "    <tr>\n",
       "      <th>2001</th>\n",
       "      <td>57.4</td>\n",
       "    </tr>\n",
       "    <tr>\n",
       "      <th>2002</th>\n",
       "      <td>43.2</td>\n",
       "    </tr>\n",
       "    <tr>\n",
       "      <th>2003</th>\n",
       "      <td>48.4</td>\n",
       "    </tr>\n",
       "    <tr>\n",
       "      <th>2004</th>\n",
       "      <td>49.1</td>\n",
       "    </tr>\n",
       "    <tr>\n",
       "      <th>2005</th>\n",
       "      <td>47.7</td>\n",
       "    </tr>\n",
       "    <tr>\n",
       "      <th>2006</th>\n",
       "      <td>49.3</td>\n",
       "    </tr>\n",
       "    <tr>\n",
       "      <th>2007</th>\n",
       "      <td>46.3</td>\n",
       "    </tr>\n",
       "    <tr>\n",
       "      <th>2008</th>\n",
       "      <td>45.7</td>\n",
       "    </tr>\n",
       "    <tr>\n",
       "      <th>2009</th>\n",
       "      <td>51.8</td>\n",
       "    </tr>\n",
       "    <tr>\n",
       "      <th>2010</th>\n",
       "      <td>49.8</td>\n",
       "    </tr>\n",
       "    <tr>\n",
       "      <th>2011</th>\n",
       "      <td>49.4</td>\n",
       "    </tr>\n",
       "    <tr>\n",
       "      <th>2012</th>\n",
       "      <td>46.7</td>\n",
       "    </tr>\n",
       "    <tr>\n",
       "      <th>2013</th>\n",
       "      <td>43.4</td>\n",
       "    </tr>\n",
       "    <tr>\n",
       "      <th>2014</th>\n",
       "      <td>38.7</td>\n",
       "    </tr>\n",
       "    <tr>\n",
       "      <th>2015</th>\n",
       "      <td>50.8</td>\n",
       "    </tr>\n",
       "    <tr>\n",
       "      <th>2016</th>\n",
       "      <td>54.9</td>\n",
       "    </tr>\n",
       "    <tr>\n",
       "      <th>2017</th>\n",
       "      <td>44.1</td>\n",
       "    </tr>\n",
       "    <tr>\n",
       "      <th>2018</th>\n",
       "      <td>37.5</td>\n",
       "    </tr>\n",
       "    <tr>\n",
       "      <th>2019</th>\n",
       "      <td>38.8</td>\n",
       "    </tr>\n",
       "    <tr>\n",
       "      <th>2020</th>\n",
       "      <td>53.0</td>\n",
       "    </tr>\n",
       "  </tbody>\n",
       "</table>\n",
       "</div>"
      ],
      "text/plain": [
       "       NOV\n",
       "YEAR      \n",
       "1991  41.5\n",
       "1992  42.6\n",
       "1993  44.3\n",
       "1994  49.8\n",
       "1995  37.6\n",
       "1996  36.6\n",
       "1997  41.1\n",
       "1998  50.3\n",
       "1999  56.4\n",
       "2000  42.6\n",
       "2001  57.4\n",
       "2002  43.2\n",
       "2003  48.4\n",
       "2004  49.1\n",
       "2005  47.7\n",
       "2006  49.3\n",
       "2007  46.3\n",
       "2008  45.7\n",
       "2009  51.8\n",
       "2010  49.8\n",
       "2011  49.4\n",
       "2012  46.7\n",
       "2013  43.4\n",
       "2014  38.7\n",
       "2015  50.8\n",
       "2016  54.9\n",
       "2017  44.1\n",
       "2018  37.5\n",
       "2019  38.8\n",
       "2020  53.0"
      ]
     },
     "execution_count": 1,
     "metadata": {},
     "output_type": "execute_result"
    }
   ],
   "source": [
    "import pandas as pd\n",
    "\n",
    "df = pd.read_csv(\"../../../data/exercises/EX15/dkb_high_temps.csv\", index_col='YEAR')\n",
    "\n",
    "df"
   ]
  },
  {
   "cell_type": "markdown",
   "id": "e8108264-9706-4440-ad2b-9b16674b31b7",
   "metadata": {},
   "source": [
    "### Problem 1 (1 point)\n",
    "\n",
    "Calculate the count, mean, standard deviation, minimum, maximum, 25th percentile, 50th percentile, and 75th percentile for the 'NOV' column.\n",
    "\n",
    "HINT: it is one method and takes one line of code. It should look like this:\n",
    "\n",
    "```\n",
    "count  30.000000\n",
    "mean   46.293333\n",
    "std     5.674986\n",
    "min    36.600000\n",
    "25%    42.600000\n",
    "50%    46.500000\n",
    "75%    49.800000\n",
    "max    57.400000\n",
    "```"
   ]
  },
  {
   "cell_type": "code",
   "execution_count": 2,
   "id": "daa9f7a0-362f-4ab0-be50-0b9efe550bc1",
   "metadata": {},
   "outputs": [
    {
     "name": "stdout",
     "output_type": "stream",
     "text": [
      "None\n"
     ]
    }
   ],
   "source": [
    "stats = None # replace None\n",
    "\n",
    "print(stats)"
   ]
  },
  {
   "cell_type": "markdown",
   "id": "2bfec47e-6bf9-4178-b663-dc127f1acd9a",
   "metadata": {},
   "source": [
    "### Problem 2 (1 point)\n",
    "\n",
    "What year had the warmest temperature?\n",
    "\n",
    "You should get an answer of 2001."
   ]
  },
  {
   "cell_type": "code",
   "execution_count": null,
   "id": "12309975-ee30-44bb-9104-fff74663fa8a",
   "metadata": {},
   "outputs": [],
   "source": []
  },
  {
   "cell_type": "markdown",
   "id": "65afb005-2289-4580-a716-3741139c18c6",
   "metadata": {},
   "source": [
    "### Problem 3 (1 point)\n",
    "\n",
    "What year had the coolest temperature?\n",
    "\n",
    "You should get an answer of 1996."
   ]
  },
  {
   "cell_type": "code",
   "execution_count": null,
   "id": "f7d2352f-fa78-4f54-aaf2-21fbc6f26231",
   "metadata": {},
   "outputs": [],
   "source": []
  },
  {
   "cell_type": "markdown",
   "id": "84610dc1-1478-47a4-83a4-07cd1b9df2de",
   "metadata": {},
   "source": [
    "### Problem 4 (2 points)\n",
    "\n",
    "The standard anomaly is calculated by first finding the difference of one NOV value and the mean of NOV values, and dividing it by the standard deviation.\n",
    "\n",
    "Using the same method as in problem 1, how would you finish the code below to calculate the standard anomaly of 2001 and 1996 temperatures? Do not change anything except where it says # replace None\n",
    "\n",
    "Do not reuse variables from previous code cells. Place all code here (except imports, if you do not need to do so).\n",
    "The output should be:\n",
    "\n",
    "```\n",
    "1996 temperature was 36.6\n",
    "2001 temperature was 57.4\n",
    "1996 temperature had a standard deviation of -1.71\n",
    "2001 temperature had a standard deviation of 1.96\n",
    "```"
   ]
  },
  {
   "cell_type": "code",
   "execution_count": 3,
   "id": "a322851e-cae3-48d9-95fa-2108e4e24405",
   "metadata": {},
   "outputs": [
    {
     "name": "stdout",
     "output_type": "stream",
     "text": [
      "1996 temperature was 36.6\n",
      "2001 temperature was 57.4\n"
     ]
    },
    {
     "ename": "TypeError",
     "evalue": "'NoneType' object is not subscriptable",
     "output_type": "error",
     "traceback": [
      "\u001b[0;31m---------------------------------------------------------------------------\u001b[0m",
      "\u001b[0;31mTypeError\u001b[0m                                 Traceback (most recent call last)",
      "Cell \u001b[0;32mIn[3], line 9\u001b[0m\n\u001b[1;32m      5\u001b[0m \u001b[38;5;28mprint\u001b[39m(\u001b[38;5;124m\"\u001b[39m\u001b[38;5;124m2001 temperature was\u001b[39m\u001b[38;5;124m\"\u001b[39m, high[\u001b[38;5;124m'\u001b[39m\u001b[38;5;124mNOV\u001b[39m\u001b[38;5;124m'\u001b[39m])\n\u001b[1;32m      7\u001b[0m stats \u001b[38;5;241m=\u001b[39m \u001b[38;5;28;01mNone\u001b[39;00m \u001b[38;5;66;03m# replace None\u001b[39;00m\n\u001b[0;32m----> 9\u001b[0m low_std \u001b[38;5;241m=\u001b[39m \u001b[38;5;28mfloat\u001b[39m((low \u001b[38;5;241m/\u001b[39m \u001b[43mstats\u001b[49m\u001b[43m[\u001b[49m\u001b[38;5;124;43m'\u001b[39;49m\u001b[38;5;124;43mmean\u001b[39;49m\u001b[38;5;124;43m'\u001b[39;49m\u001b[43m]\u001b[49m) \u001b[38;5;241m+\u001b[39m stats[\u001b[38;5;124m'\u001b[39m\u001b[38;5;124mstd\u001b[39m\u001b[38;5;124m'\u001b[39m]) \u001b[38;5;66;03m# fix the math operations\u001b[39;00m\n\u001b[1;32m     10\u001b[0m high_std \u001b[38;5;241m=\u001b[39m \u001b[38;5;28mfloat\u001b[39m((high \u001b[38;5;241m/\u001b[39m stats[\u001b[38;5;124m'\u001b[39m\u001b[38;5;124mmean\u001b[39m\u001b[38;5;124m'\u001b[39m]) \u001b[38;5;241m+\u001b[39m stats[\u001b[38;5;124m'\u001b[39m\u001b[38;5;124mstd\u001b[39m\u001b[38;5;124m'\u001b[39m]) \u001b[38;5;66;03m# fix the math operations\u001b[39;00m\n\u001b[1;32m     12\u001b[0m \u001b[38;5;28mprint\u001b[39m(\u001b[38;5;124mf\u001b[39m\u001b[38;5;124m\"\u001b[39m\u001b[38;5;124m1996 temperature had a standard deviation of \u001b[39m\u001b[38;5;132;01m{\u001b[39;00mlow_std\u001b[38;5;132;01m:\u001b[39;00m\u001b[38;5;124m.2f\u001b[39m\u001b[38;5;132;01m}\u001b[39;00m\u001b[38;5;124m\"\u001b[39m)\n",
      "\u001b[0;31mTypeError\u001b[0m: 'NoneType' object is not subscriptable"
     ]
    }
   ],
   "source": [
    "low = df.loc[1996]\n",
    "high = df.loc[2001]\n",
    "\n",
    "print(\"1996 temperature was\", low['NOV'])\n",
    "print(\"2001 temperature was\", high['NOV'])\n",
    "\n",
    "stats = None # replace None\n",
    "\n",
    "low_std = float((low / stats['mean']) + stats['std']) # fix the math operations\n",
    "high_std = float((high / stats['mean']) + stats['std']) # fix the math operations\n",
    "\n",
    "print(f\"1996 temperature had a standard deviation of {low_std:.2f}\")\n",
    "print(f\"2001 temperature had a standard deviation of {high_std:.2f}\")"
   ]
  },
  {
   "cell_type": "markdown",
   "id": "071d3886-7126-45d2-844b-2628c17b88c5",
   "metadata": {},
   "source": [
    "### Problem 5 (2 points)\n",
    "\n",
    "How often was the temperature 1 or more standard deviations below the mean? \n",
    "\n",
    "How often was the temperature 1 or more standard deviations above the mean?\n",
    "\n",
    "Your answer should look like:\n",
    "\n",
    "```\n",
    "51.97 is 1 std above the mean\n",
    "40.62 is 1 std below the mean\n",
    "4 years above +1 std\n",
    "5 years below -1 std\n",
    "```\n",
    "\n",
    "Remember, placing the values above directly in the code below will result in 0 points."
   ]
  },
  {
   "cell_type": "code",
   "execution_count": 4,
   "id": "58e4d60c-030b-41ad-985f-fb0f274a9037",
   "metadata": {},
   "outputs": [
    {
     "ename": "TypeError",
     "evalue": "unsupported format string passed to NoneType.__format__",
     "output_type": "error",
     "traceback": [
      "\u001b[0;31m---------------------------------------------------------------------------\u001b[0m",
      "\u001b[0;31mTypeError\u001b[0m                                 Traceback (most recent call last)",
      "Cell \u001b[0;32mIn[4], line 6\u001b[0m\n\u001b[1;32m      3\u001b[0m above \u001b[38;5;241m=\u001b[39m \u001b[38;5;28;01mNone\u001b[39;00m \u001b[38;5;66;03m# replace None with value at +1 std using pandas\u001b[39;00m\n\u001b[1;32m      4\u001b[0m below \u001b[38;5;241m=\u001b[39m \u001b[38;5;28;01mNone\u001b[39;00m \u001b[38;5;66;03m# replace None with value at -1 std using pandas\u001b[39;00m\n\u001b[0;32m----> 6\u001b[0m \u001b[38;5;28mprint\u001b[39m(\u001b[38;5;124mf\u001b[39m\u001b[38;5;124m\"\u001b[39m\u001b[38;5;132;01m{\u001b[39;00mabove\u001b[38;5;132;01m:\u001b[39;00m\u001b[38;5;124m.2f\u001b[39m\u001b[38;5;132;01m}\u001b[39;00m\u001b[38;5;124m is 1 std above the mean\u001b[39m\u001b[38;5;124m\"\u001b[39m)\n\u001b[1;32m      7\u001b[0m \u001b[38;5;28mprint\u001b[39m(\u001b[38;5;124mf\u001b[39m\u001b[38;5;124m\"\u001b[39m\u001b[38;5;132;01m{\u001b[39;00mbelow\u001b[38;5;132;01m:\u001b[39;00m\u001b[38;5;124m.2f\u001b[39m\u001b[38;5;132;01m}\u001b[39;00m\u001b[38;5;124m is 1 std below the mean\u001b[39m\u001b[38;5;124m\"\u001b[39m)\n\u001b[1;32m      9\u001b[0m count_above_plus_1_std \u001b[38;5;241m=\u001b[39m df[df[\u001b[38;5;124m'\u001b[39m\u001b[38;5;124mNOV\u001b[39m\u001b[38;5;124m'\u001b[39m] \u001b[38;5;241m==\u001b[39m above] \u001b[38;5;66;03m# fix the test\u001b[39;00m\n",
      "\u001b[0;31mTypeError\u001b[0m: unsupported format string passed to NoneType.__format__"
     ]
    }
   ],
   "source": [
    "stats = None # replace None using pandas in one line like #1\n",
    "\n",
    "above = None # replace None with value at +1 std using pandas\n",
    "below = None # replace None with value at -1 std using pandas\n",
    "\n",
    "print(f\"{above:.2f} is 1 std above the mean\")\n",
    "print(f\"{below:.2f} is 1 std below the mean\")\n",
    "\n",
    "count_above_plus_1_std = df[df['NOV'] == above] # fix the test\n",
    "count_below_minus_1_std = df[df['NOV'] == below] # fix the test\n",
    "\n",
    "print(len(count_above_plus_1_std), \"years above +1 std\")\n",
    "print(len(count_below_minus_1_std), \"years below -1 std\")"
   ]
  },
  {
   "cell_type": "markdown",
   "id": "a5428bb8-752d-453e-97b2-c634bc51f420",
   "metadata": {},
   "source": [
    "### Problem 6 (3 points)\n",
    "\n",
    "Plot the time series of the values in 'NOV' using the index as the x-axis. See 'EX15_plot.jpg'"
   ]
  },
  {
   "cell_type": "code",
   "execution_count": null,
   "id": "95af2e23-32e8-4d50-b15c-3f2f20db8bd6",
   "metadata": {},
   "outputs": [],
   "source": []
  }
 ],
 "metadata": {
  "kernelspec": {
   "display_name": "Python [conda env:geo] *",
   "language": "python",
   "name": "conda-env-geo-py"
  },
  "language_info": {
   "codemirror_mode": {
    "name": "ipython",
    "version": 3
   },
   "file_extension": ".py",
   "mimetype": "text/x-python",
   "name": "python",
   "nbconvert_exporter": "python",
   "pygments_lexer": "ipython3",
   "version": "3.11.10"
  }
 },
 "nbformat": 4,
 "nbformat_minor": 5
}
