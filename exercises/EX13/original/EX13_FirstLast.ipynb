{
 "cells": [
  {
   "cell_type": "markdown",
   "id": "e277c0c2-9b49-4d3a-a62d-60d7683af2b3",
   "metadata": {},
   "source": [
    "# Exercise 13 - Classes practice (10 points)\n",
    "\n",
    "Please rename the notebook using your first and last name.\n",
    "\n",
    "### Problem 1\n",
    "\n",
    "Create an instance of class ```P1``` below and set it equal to ```a1```. Replace ```None``` with your code."
   ]
  },
  {
   "cell_type": "code",
   "execution_count": 1,
   "id": "783f8cd5-f8cf-4502-a650-5d9d80d98ae9",
   "metadata": {},
   "outputs": [
    {
     "data": {
      "text/plain": [
       "NoneType"
      ]
     },
     "execution_count": 1,
     "metadata": {},
     "output_type": "execute_result"
    }
   ],
   "source": [
    "class P1:\n",
    "    \n",
    "    def __init__(self):\n",
    "        self.x = 1\n",
    "    \n",
    "a1 = None\n",
    "\n",
    "type(a1)"
   ]
  },
  {
   "cell_type": "markdown",
   "id": "e8108264-9706-4440-ad2b-9b16674b31b7",
   "metadata": {},
   "source": [
    "### Problem 2\n",
    "\n",
    "Create an instance of class ```P2``` below and set the property of the instance named ```y``` equal to ```a2```. Replace ```None``` with your code and add code outside of the class."
   ]
  },
  {
   "cell_type": "code",
   "execution_count": 2,
   "id": "daa9f7a0-362f-4ab0-be50-0b9efe550bc1",
   "metadata": {},
   "outputs": [
    {
     "name": "stdout",
     "output_type": "stream",
     "text": [
      "None\n"
     ]
    }
   ],
   "source": [
    "class P2:\n",
    "    \n",
    "    def __init__(self):\n",
    "        \n",
    "        self.y = 2\n",
    "        \n",
    "\n",
    "a2 = None\n",
    "\n",
    "print(a2)"
   ]
  },
  {
   "cell_type": "markdown",
   "id": "2bfec47e-6bf9-4178-b663-dc127f1acd9a",
   "metadata": {},
   "source": [
    "### Problem 3 (1 point)\n",
    "\n",
    "Complete the ```__init__``` method in class ```P3``` based on the how the code creates an instance of ```P3``` in the outer scope. Set the argument passed in to ```__init__``` to a property of ```P3``` named 'i'. Do not change the instance creation below. Replace ```pass``` and modify ```__init__``` with your code."
   ]
  },
  {
   "cell_type": "code",
   "execution_count": 3,
   "id": "12309975-ee30-44bb-9104-fff74663fa8a",
   "metadata": {},
   "outputs": [
    {
     "ename": "TypeError",
     "evalue": "__init__() takes 1 positional argument but 2 were given",
     "output_type": "error",
     "traceback": [
      "\u001b[0;31m---------------------------------------------------------------------------\u001b[0m",
      "\u001b[0;31mTypeError\u001b[0m                                 Traceback (most recent call last)",
      "Cell \u001b[0;32mIn[3], line 8\u001b[0m\n\u001b[1;32m      3\u001b[0m     \u001b[38;5;28;01mdef\u001b[39;00m \u001b[38;5;21m__init__\u001b[39m(\u001b[38;5;28mself\u001b[39m):\n\u001b[1;32m      5\u001b[0m         \u001b[38;5;28;01mpass\u001b[39;00m\n\u001b[0;32m----> 8\u001b[0m a3 \u001b[38;5;241m=\u001b[39m \u001b[43mP3\u001b[49m\u001b[43m(\u001b[49m\u001b[38;5;241;43m5\u001b[39;49m\u001b[43m)\u001b[49m\n\u001b[1;32m     10\u001b[0m \u001b[38;5;28mprint\u001b[39m(a3\u001b[38;5;241m.\u001b[39mi)\n",
      "\u001b[0;31mTypeError\u001b[0m: __init__() takes 1 positional argument but 2 were given"
     ]
    }
   ],
   "source": [
    "class P3:\n",
    "    \n",
    "    def __init__(self):\n",
    "        \n",
    "        pass\n",
    "        \n",
    "\n",
    "a3 = P3(5)\n",
    "\n",
    "print(a3.i)"
   ]
  },
  {
   "cell_type": "markdown",
   "id": "65afb005-2289-4580-a716-3741139c18c6",
   "metadata": {},
   "source": [
    "### Problem 4 (1 point)\n",
    "\n",
    "Complete the ```__init__``` method in class ```P4``` based on the how the code creates an instance of ```P4``` in the outer scope. Set the arguments passed to init to two properties of ```P4``` named ```k``` and ```m```. Do not change the instance creation below. Replace ```pass``` and modify ```__init__``` with your code."
   ]
  },
  {
   "cell_type": "code",
   "execution_count": 4,
   "id": "f7d2352f-fa78-4f54-aaf2-21fbc6f26231",
   "metadata": {},
   "outputs": [
    {
     "ename": "TypeError",
     "evalue": "__init__() takes 1 positional argument but 3 were given",
     "output_type": "error",
     "traceback": [
      "\u001b[0;31m---------------------------------------------------------------------------\u001b[0m",
      "\u001b[0;31mTypeError\u001b[0m                                 Traceback (most recent call last)",
      "Cell \u001b[0;32mIn[4], line 7\u001b[0m\n\u001b[1;32m      3\u001b[0m     \u001b[38;5;28;01mdef\u001b[39;00m \u001b[38;5;21m__init__\u001b[39m(\u001b[38;5;28mself\u001b[39m):\n\u001b[1;32m      5\u001b[0m         \u001b[38;5;28;01mpass\u001b[39;00m\n\u001b[0;32m----> 7\u001b[0m a4 \u001b[38;5;241m=\u001b[39m \u001b[43mP4\u001b[49m\u001b[43m(\u001b[49m\u001b[38;5;241;43m5\u001b[39;49m\u001b[43m,\u001b[49m\u001b[43m \u001b[49m\u001b[38;5;241;43m6\u001b[39;49m\u001b[43m)\u001b[49m\n\u001b[1;32m      9\u001b[0m \u001b[38;5;28mprint\u001b[39m(a4\u001b[38;5;241m.\u001b[39mk, a4\u001b[38;5;241m.\u001b[39mm)\n",
      "\u001b[0;31mTypeError\u001b[0m: __init__() takes 1 positional argument but 3 were given"
     ]
    }
   ],
   "source": [
    "class P4:\n",
    "    \n",
    "    def __init__(self):\n",
    "        \n",
    "        pass\n",
    "\n",
    "a4 = P4(5, 6)\n",
    "\n",
    "print(a4.k, a4.m)"
   ]
  },
  {
   "cell_type": "markdown",
   "id": "84610dc1-1478-47a4-83a4-07cd1b9df2de",
   "metadata": {},
   "source": [
    "### Problem 5 (1 point)\n",
    "\n",
    "Create an instance of P5 based on the ```__init__``` method. \n",
    "\n",
    "The properties of P5 should be set as follows:\n",
    "\n",
    "```x``` should be 1\n",
    "\n",
    "```y``` should be 2\n",
    "\n",
    "```z``` should be 3\n",
    "\n",
    "Make sure the instance creation is set equal to a variable named ```a5```. Replace ```None``` with your code."
   ]
  },
  {
   "cell_type": "code",
   "execution_count": 5,
   "id": "a322851e-cae3-48d9-95fa-2108e4e24405",
   "metadata": {},
   "outputs": [
    {
     "ename": "AttributeError",
     "evalue": "'NoneType' object has no attribute 'x'",
     "output_type": "error",
     "traceback": [
      "\u001b[0;31m---------------------------------------------------------------------------\u001b[0m",
      "\u001b[0;31mAttributeError\u001b[0m                            Traceback (most recent call last)",
      "Cell \u001b[0;32mIn[5], line 11\u001b[0m\n\u001b[1;32m      7\u001b[0m         \u001b[38;5;28mself\u001b[39m\u001b[38;5;241m.\u001b[39mz \u001b[38;5;241m=\u001b[39m z\n\u001b[1;32m      9\u001b[0m a5 \u001b[38;5;241m=\u001b[39m \u001b[38;5;28;01mNone\u001b[39;00m\n\u001b[0;32m---> 11\u001b[0m \u001b[38;5;28mprint\u001b[39m(\u001b[43ma5\u001b[49m\u001b[38;5;241;43m.\u001b[39;49m\u001b[43mx\u001b[49m, a5\u001b[38;5;241m.\u001b[39my, a5\u001b[38;5;241m.\u001b[39mz)\n",
      "\u001b[0;31mAttributeError\u001b[0m: 'NoneType' object has no attribute 'x'"
     ]
    }
   ],
   "source": [
    "class P5:\n",
    "    \n",
    "    def __init__(self, x, y, z):\n",
    "        \n",
    "        self.x = x\n",
    "        self.y = y\n",
    "        self.z = z\n",
    "        \n",
    "a5 = None\n",
    "\n",
    "print(a5.x, a5.y, a5.z)"
   ]
  },
  {
   "cell_type": "markdown",
   "id": "071d3886-7126-45d2-844b-2628c17b88c5",
   "metadata": {},
   "source": [
    "### Problem 6 (1 point)\n",
    "\n",
    "Create a method in P6 named ```message``` that returns the string \"correct!\". Replace ```pass``` with your own code."
   ]
  },
  {
   "cell_type": "code",
   "execution_count": 6,
   "id": "58e4d60c-030b-41ad-985f-fb0f274a9037",
   "metadata": {},
   "outputs": [
    {
     "ename": "AttributeError",
     "evalue": "'P6' object has no attribute 'message'",
     "output_type": "error",
     "traceback": [
      "\u001b[0;31m---------------------------------------------------------------------------\u001b[0m",
      "\u001b[0;31mAttributeError\u001b[0m                            Traceback (most recent call last)",
      "Cell \u001b[0;32mIn[6], line 7\u001b[0m\n\u001b[1;32m      3\u001b[0m     \u001b[38;5;28;01mpass\u001b[39;00m\n\u001b[1;32m      5\u001b[0m a6 \u001b[38;5;241m=\u001b[39m P6()\n\u001b[0;32m----> 7\u001b[0m \u001b[38;5;28mprint\u001b[39m(\u001b[43ma6\u001b[49m\u001b[38;5;241;43m.\u001b[39;49m\u001b[43mmessage\u001b[49m())\n",
      "\u001b[0;31mAttributeError\u001b[0m: 'P6' object has no attribute 'message'"
     ]
    }
   ],
   "source": [
    "class P6:\n",
    "\n",
    "    pass\n",
    "    \n",
    "a6 = P6()\n",
    "\n",
    "print(a6.message())"
   ]
  },
  {
   "cell_type": "markdown",
   "id": "b99ff91f-f1f4-4edf-bedf-cbc2a8f6e7e2",
   "metadata": {},
   "source": [
    "### Problem 7 (1 point)\n",
    "\n",
    "Complete the class ```P7``` that has an ```__init__``` function that sets two properties: ```x``` and ```y```. \n",
    "\n",
    "Add a method in ```P7``` named ```multiply``` that multiplies the two instance properties ```x``` and ```y``` and returns the result. Replace ```pass``` with your own code.\n",
    "\n",
    "Do not change the instance creation code in the outer scope below."
   ]
  },
  {
   "cell_type": "code",
   "execution_count": 7,
   "id": "c60c4c61-9e0e-4b5d-995f-f0046991a9da",
   "metadata": {},
   "outputs": [
    {
     "ename": "TypeError",
     "evalue": "P7() takes no arguments",
     "output_type": "error",
     "traceback": [
      "\u001b[0;31m---------------------------------------------------------------------------\u001b[0m",
      "\u001b[0;31mTypeError\u001b[0m                                 Traceback (most recent call last)",
      "Cell \u001b[0;32mIn[7], line 5\u001b[0m\n\u001b[1;32m      1\u001b[0m \u001b[38;5;28;01mclass\u001b[39;00m \u001b[38;5;21;01mP7\u001b[39;00m:\n\u001b[1;32m      3\u001b[0m     \u001b[38;5;28;01mpass\u001b[39;00m\n\u001b[0;32m----> 5\u001b[0m a7 \u001b[38;5;241m=\u001b[39m \u001b[43mP7\u001b[49m\u001b[43m(\u001b[49m\u001b[38;5;241;43m3.5\u001b[39;49m\u001b[43m,\u001b[49m\u001b[43m \u001b[49m\u001b[38;5;241;43m2\u001b[39;49m\u001b[43m)\u001b[49m\n\u001b[1;32m      7\u001b[0m \u001b[38;5;28mprint\u001b[39m(a7\u001b[38;5;241m.\u001b[39mmultiply())\n",
      "\u001b[0;31mTypeError\u001b[0m: P7() takes no arguments"
     ]
    }
   ],
   "source": [
    "class P7:\n",
    "    \n",
    "    pass\n",
    "    \n",
    "a7 = P7(3.5, 2)\n",
    "\n",
    "print(a7.multiply())"
   ]
  },
  {
   "cell_type": "markdown",
   "id": "a3239069-27e4-457f-81d8-221458622dd9",
   "metadata": {},
   "source": [
    "### Problem 8 (1 point)\n",
    "\n",
    "Create a class named ```P8_child``` that inherits the methods and properties of ```P8_parent```, and adds a new method named ```square``` to ```P8_child``` **only** that returns the result of the property ```x``` to the power of 2. Replace ```pass``` in P8_child with your own code.\n",
    "\n",
    "Do not change the instance creation code in the outer scope."
   ]
  },
  {
   "cell_type": "code",
   "execution_count": 8,
   "id": "162f95d1-42ac-4692-aeaa-8d9b79ba702a",
   "metadata": {},
   "outputs": [
    {
     "ename": "AttributeError",
     "evalue": "'P8_child' object has no attribute 'square'",
     "output_type": "error",
     "traceback": [
      "\u001b[0;31m---------------------------------------------------------------------------\u001b[0m",
      "\u001b[0;31mAttributeError\u001b[0m                            Traceback (most recent call last)",
      "Cell \u001b[0;32mIn[8], line 13\u001b[0m\n\u001b[1;32m      9\u001b[0m     \u001b[38;5;28;01mpass\u001b[39;00m\n\u001b[1;32m     11\u001b[0m a8 \u001b[38;5;241m=\u001b[39m P8_child(\u001b[38;5;241m5\u001b[39m)\n\u001b[0;32m---> 13\u001b[0m \u001b[38;5;28mprint\u001b[39m(\u001b[43ma8\u001b[49m\u001b[38;5;241;43m.\u001b[39;49m\u001b[43msquare\u001b[49m())\n",
      "\u001b[0;31mAttributeError\u001b[0m: 'P8_child' object has no attribute 'square'"
     ]
    }
   ],
   "source": [
    "class P8_parent:\n",
    "    \n",
    "    def __init__(self, x):\n",
    "        \n",
    "        self.x = x\n",
    "        \n",
    "class P8_child(P8_parent):\n",
    "    \n",
    "    pass\n",
    "    \n",
    "a8 = P8_child(5)\n",
    "\n",
    "print(a8.square())"
   ]
  },
  {
   "cell_type": "markdown",
   "id": "7b260732-f781-4501-9ce8-94b840c974af",
   "metadata": {},
   "source": [
    "### Problem 9 (1 point)\n",
    "\n",
    "Create a class named ```P9_child``` that inherits the methods and properties of ```P9_parent```, and add a new property to ```P9_child``` **only** that is named ```y```. Create a method named ```add``` in ```P9_child``` **only** that adds ```x``` and ```y``` together and returns the result. Replace the ```pass``` with your code.\n",
    "\n",
    "Do not change the instance creation code in the outer scope."
   ]
  },
  {
   "cell_type": "code",
   "execution_count": 9,
   "id": "56d40e28-66d2-4e12-80d1-696239702efb",
   "metadata": {},
   "outputs": [
    {
     "ename": "TypeError",
     "evalue": "__init__() takes 2 positional arguments but 3 were given",
     "output_type": "error",
     "traceback": [
      "\u001b[0;31m---------------------------------------------------------------------------\u001b[0m",
      "\u001b[0;31mTypeError\u001b[0m                                 Traceback (most recent call last)",
      "Cell \u001b[0;32mIn[9], line 11\u001b[0m\n\u001b[1;32m      7\u001b[0m \u001b[38;5;28;01mclass\u001b[39;00m \u001b[38;5;21;01mP9_child\u001b[39;00m(P9_parent):\n\u001b[1;32m      9\u001b[0m     \u001b[38;5;28;01mpass\u001b[39;00m\n\u001b[0;32m---> 11\u001b[0m a9 \u001b[38;5;241m=\u001b[39m \u001b[43mP9_child\u001b[49m\u001b[43m(\u001b[49m\u001b[38;5;241;43m5\u001b[39;49m\u001b[43m,\u001b[49m\u001b[43m \u001b[49m\u001b[38;5;241;43m4\u001b[39;49m\u001b[43m)\u001b[49m\n\u001b[1;32m     13\u001b[0m \u001b[38;5;28mprint\u001b[39m(a9\u001b[38;5;241m.\u001b[39madd())\n",
      "\u001b[0;31mTypeError\u001b[0m: __init__() takes 2 positional arguments but 3 were given"
     ]
    }
   ],
   "source": [
    "class P9_parent:\n",
    "    \n",
    "    def __init__(self, x):\n",
    "        \n",
    "        self.x = x\n",
    "        \n",
    "class P9_child(P9_parent):\n",
    "    \n",
    "    pass\n",
    "    \n",
    "a9 = P9_child(5, 4)\n",
    "\n",
    "print(a9.add())"
   ]
  },
  {
   "cell_type": "markdown",
   "id": "2377fd06-b9c4-4334-a8da-3811e2bd3ecf",
   "metadata": {},
   "source": [
    "### Problem 10 (1 point)\n",
    "\n",
    "Finish the class named ```P10``` that will print the property ```msg``` if the following code is executed. \n",
    "\n",
    "Do not change the instance creation or print statement code in the outer scope."
   ]
  },
  {
   "cell_type": "code",
   "execution_count": 10,
   "id": "a8728192-0342-4483-84b2-3df453a5b3ea",
   "metadata": {},
   "outputs": [
    {
     "name": "stdout",
     "output_type": "stream",
     "text": [
      "<__main__.P10 object at 0x7f9b2c5524f0>\n"
     ]
    }
   ],
   "source": [
    "class P10:\n",
    "    \n",
    "    def __init__(self):\n",
    "        \n",
    "        self.msg = \"correct!\"\n",
    "\n",
    "    \n",
    "a10 = P10()\n",
    "\n",
    "print(a10)"
   ]
  },
  {
   "cell_type": "code",
   "execution_count": null,
   "id": "1c68c922-0763-4ebc-a27d-16b9205a4be0",
   "metadata": {},
   "outputs": [],
   "source": []
  }
 ],
 "metadata": {
  "kernelspec": {
   "display_name": "Python [conda env:geo] *",
   "language": "python",
   "name": "conda-env-geo-py"
  },
  "language_info": {
   "codemirror_mode": {
    "name": "ipython",
    "version": 3
   },
   "file_extension": ".py",
   "mimetype": "text/x-python",
   "name": "python",
   "nbconvert_exporter": "python",
   "pygments_lexer": "ipython3",
   "version": "3.11.10"
  }
 },
 "nbformat": 4,
 "nbformat_minor": 5
}
