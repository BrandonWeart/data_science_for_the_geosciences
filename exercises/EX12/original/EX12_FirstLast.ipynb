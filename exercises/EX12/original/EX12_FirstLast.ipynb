{
 "cells": [
  {
   "cell_type": "markdown",
   "id": "e277c0c2-9b49-4d3a-a62d-60d7683af2b3",
   "metadata": {},
   "source": [
    "# Exercise 12 - Function practice\n",
    "\n",
    "Please rename the notebook using your first and last name.\n",
    "\n",
    "\n",
    "### Problem 1 (1 point)\n",
    "\n",
    "Fix the following function so that it prints out \"correct 1\". Only change the first line of code:"
   ]
  },
  {
   "cell_type": "code",
   "execution_count": 2,
   "id": "783f8cd5-f8cf-4502-a650-5d9d80d98ae9",
   "metadata": {},
   "outputs": [
    {
     "ename": "TypeError",
     "evalue": "prob1() takes 0 positional arguments but 1 was given",
     "output_type": "error",
     "traceback": [
      "\u001b[0;31m---------------------------------------------------------------------------\u001b[0m",
      "\u001b[0;31mTypeError\u001b[0m                                 Traceback (most recent call last)",
      "Cell \u001b[0;32mIn[2], line 5\u001b[0m\n\u001b[1;32m      1\u001b[0m \u001b[38;5;28;01mdef\u001b[39;00m \u001b[38;5;21mprob1\u001b[39m():\n\u001b[1;32m      3\u001b[0m     \u001b[38;5;28mprint\u001b[39m(\u001b[38;5;124m\"\u001b[39m\u001b[38;5;124mcorrect\u001b[39m\u001b[38;5;124m\"\u001b[39m, a)\n\u001b[0;32m----> 5\u001b[0m \u001b[43mprob1\u001b[49m\u001b[43m(\u001b[49m\u001b[38;5;241;43m1\u001b[39;49m\u001b[43m)\u001b[49m\n",
      "\u001b[0;31mTypeError\u001b[0m: prob1() takes 0 positional arguments but 1 was given"
     ]
    }
   ],
   "source": [
    "def prob1():\n",
    "    \n",
    "    print(\"correct\", a)\n",
    "    \n",
    "prob1(1)"
   ]
  },
  {
   "cell_type": "markdown",
   "id": "e8108264-9706-4440-ad2b-9b16674b31b7",
   "metadata": {},
   "source": [
    "### Problem 2 (1 point)\n",
    "\n",
    "Fix the following function so that it prints out \"correct 1 2\". Only change the first line of code:"
   ]
  },
  {
   "cell_type": "code",
   "execution_count": 5,
   "id": "daa9f7a0-362f-4ab0-be50-0b9efe550bc1",
   "metadata": {},
   "outputs": [
    {
     "ename": "TypeError",
     "evalue": "prob2() takes 0 positional arguments but 2 were given",
     "output_type": "error",
     "traceback": [
      "\u001b[0;31m---------------------------------------------------------------------------\u001b[0m",
      "\u001b[0;31mTypeError\u001b[0m                                 Traceback (most recent call last)",
      "Cell \u001b[0;32mIn[5], line 4\u001b[0m\n\u001b[1;32m      1\u001b[0m \u001b[38;5;28;01mdef\u001b[39;00m \u001b[38;5;21mprob2\u001b[39m():\n\u001b[1;32m      2\u001b[0m     \u001b[38;5;28mprint\u001b[39m(\u001b[38;5;124m\"\u001b[39m\u001b[38;5;124mcorrect\u001b[39m\u001b[38;5;124m\"\u001b[39m, a, b)\n\u001b[0;32m----> 4\u001b[0m \u001b[43mprob2\u001b[49m\u001b[43m(\u001b[49m\u001b[38;5;241;43m1\u001b[39;49m\u001b[43m,\u001b[49m\u001b[43m \u001b[49m\u001b[38;5;241;43m2\u001b[39;49m\u001b[43m)\u001b[49m\n",
      "\u001b[0;31mTypeError\u001b[0m: prob2() takes 0 positional arguments but 2 were given"
     ]
    }
   ],
   "source": [
    "def prob2():\n",
    "    print(\"correct\", a, b)\n",
    "    \n",
    "prob2(1, 2)"
   ]
  },
  {
   "cell_type": "markdown",
   "id": "2bfec47e-6bf9-4178-b663-dc127f1acd9a",
   "metadata": {},
   "source": [
    "### Problem 3 (1 point)\n",
    "\n",
    "Fix the following function so that it prints out \"correct 1 2 3\". Only change the first line of code:"
   ]
  },
  {
   "cell_type": "code",
   "execution_count": 7,
   "id": "12309975-ee30-44bb-9104-fff74663fa8a",
   "metadata": {},
   "outputs": [
    {
     "ename": "TypeError",
     "evalue": "prob3() takes 0 positional arguments but 3 were given",
     "output_type": "error",
     "traceback": [
      "\u001b[0;31m---------------------------------------------------------------------------\u001b[0m",
      "\u001b[0;31mTypeError\u001b[0m                                 Traceback (most recent call last)",
      "Cell \u001b[0;32mIn[7], line 4\u001b[0m\n\u001b[1;32m      1\u001b[0m \u001b[38;5;28;01mdef\u001b[39;00m \u001b[38;5;21mprob3\u001b[39m():\n\u001b[1;32m      2\u001b[0m     \u001b[38;5;28mprint\u001b[39m(\u001b[38;5;124m\"\u001b[39m\u001b[38;5;124mcorrect\u001b[39m\u001b[38;5;124m\"\u001b[39m, a, b, c)\n\u001b[0;32m----> 4\u001b[0m \u001b[43mprob3\u001b[49m\u001b[43m(\u001b[49m\u001b[38;5;241;43m1\u001b[39;49m\u001b[43m,\u001b[49m\u001b[43m \u001b[49m\u001b[38;5;241;43m2\u001b[39;49m\u001b[43m,\u001b[49m\u001b[43m \u001b[49m\u001b[38;5;241;43m3\u001b[39;49m\u001b[43m)\u001b[49m\n",
      "\u001b[0;31mTypeError\u001b[0m: prob3() takes 0 positional arguments but 3 were given"
     ]
    }
   ],
   "source": [
    "def prob3():\n",
    "    print(\"correct\", a, b, c)\n",
    "    \n",
    "prob3(1, 2, 3)"
   ]
  },
  {
   "cell_type": "markdown",
   "id": "65afb005-2289-4580-a716-3741139c18c6",
   "metadata": {},
   "source": [
    "### Problem 4 (1 point)\n",
    "\n",
    "Fix the following function so that it prints out \"correct 5\". Do not change the 1st or 2nd line of code:"
   ]
  },
  {
   "cell_type": "code",
   "execution_count": 12,
   "id": "f7d2352f-fa78-4f54-aaf2-21fbc6f26231",
   "metadata": {},
   "outputs": [
    {
     "name": "stdout",
     "output_type": "stream",
     "text": [
      "correct 1\n"
     ]
    }
   ],
   "source": [
    "def prob4(a, b, c):\n",
    "    print(\"correct\", a - b + c)\n",
    "    \n",
    "prob4(1, 1, 1)"
   ]
  },
  {
   "cell_type": "markdown",
   "id": "84610dc1-1478-47a4-83a4-07cd1b9df2de",
   "metadata": {},
   "source": [
    "### Problem 5 (1 point)\n",
    "\n",
    "Fix the following function so that it prints out \"correct 10\". Do not change the 1st or 2nd line of code:"
   ]
  },
  {
   "cell_type": "code",
   "execution_count": 13,
   "id": "a322851e-cae3-48d9-95fa-2108e4e24405",
   "metadata": {},
   "outputs": [
    {
     "name": "stdout",
     "output_type": "stream",
     "text": [
      "correct 1\n"
     ]
    }
   ],
   "source": [
    "def prob4(a, b, c):\n",
    "    print(\"correct\", a - b + c)\n",
    "    \n",
    "prob4(1, 1, 1)"
   ]
  },
  {
   "cell_type": "markdown",
   "id": "071d3886-7126-45d2-844b-2628c17b88c5",
   "metadata": {},
   "source": [
    "### Problem 6 (2 points)\n",
    "\n",
    "Transform the following math function into a python function\n",
    "\n",
    "```\n",
    "y = m * x + b\n",
    "```\n",
    "\n",
    "You must use m, x, and b as function parameters, and you must use these parameters within the function. You must also return the result so you can set it equal to a variable in the outer scope.\n",
    "\n",
    "Once completed, demonstrate the function using the following combinations of m, x, and b by passing them into the function when you run the function in the outer scope, and set the first example to y1 in the outer scope, and the second example to y2 in the outer scope:\n",
    "\n",
    "```\n",
    "m = 1\n",
    "x = 2\n",
    "b = 3\n",
    "```\n",
    "\n",
    "```\n",
    "m = 2\n",
    "x = 5\n",
    "b = 1\n",
    "```"
   ]
  },
  {
   "cell_type": "code",
   "execution_count": 23,
   "id": "58e4d60c-030b-41ad-985f-fb0f274a9037",
   "metadata": {},
   "outputs": [
    {
     "name": "stdout",
     "output_type": "stream",
     "text": [
      "Your answer for m = 1, x = 2, b = 3 is 1. Is this correct? False\n",
      "Your answer for m = 2, x = 5, b = 1 is 1. Is this correct? False\n"
     ]
    }
   ],
   "source": [
    "#write your function below\n",
    "\n",
    "#replace 1 with the function call below\n",
    "y1 = 1\n",
    "y2 = 1\n",
    "\n",
    "#check your answer\n",
    "print(f\"Your answer for m = 1, x = 2, b = 3 is {y1}. Is this correct?\", y1==5)\n",
    "print(f\"Your answer for m = 2, x = 5, b = 1 is {y2}. Is this correct?\", y2==11)"
   ]
  },
  {
   "cell_type": "markdown",
   "id": "b99ff91f-f1f4-4edf-bedf-cbc2a8f6e7e2",
   "metadata": {},
   "source": [
    "### Problem 7 (3 points)\n",
    "\n",
    "Transform the following math function into a python function\n",
    "\n",
    "```\n",
    "E = o * T^4\n",
    "\n",
    "where o = 5.67 * 10^−8\n",
    "```\n",
    "\n",
    "You must use ```T``` and ```o``` as function parameters, and ```o``` must be a \"default\" parameter set equal to the stated value above.\n",
    "\n",
    "You must use these parameters within the function. You must also return the result so you can set it equal to a variable in the outer scope.\n",
    "\n",
    "Once completed, demonstrate the function using the following values of T by passing them into the function when you run the function in the outer scope, and set the first example to y1 in the outer scope, and the second example to y2 in the outer scope:\n",
    "\n",
    "```\n",
    "T = 288\n",
    "```\n",
    "\n",
    "```\n",
    "T = 5772\n",
    "```"
   ]
  },
  {
   "cell_type": "code",
   "execution_count": null,
   "id": "9afbc176-f0b7-4bcf-9f5b-be8fe938c70f",
   "metadata": {},
   "outputs": [
    {
     "name": "stdout",
     "output_type": "stream",
     "text": [
      "Your answer for T = 288 is 1. Is this correct? False\n",
      "Your answer for T = 5772 is 1. Is this correct? False\n"
     ]
    }
   ],
   "source": [
    "#write your function below\n",
    "\n",
    "#replace 1 with the function call below\n",
    "y1 = 1\n",
    "y2 = 1\n",
    "\n",
    "#check your answer\n",
    "print(f\"Your answer for T = 288 is {int(round(y1))}. Is this correct?\", int(round(y1))==390)\n",
    "print(f\"Your answer for T = 5772 is {int(round(y2))}. Is this correct?\", int(round(y2))==62934437)"
   ]
  }
 ],
 "metadata": {
  "kernelspec": {
   "display_name": "Python [conda env:geo] *",
   "language": "python",
   "name": "conda-env-geo-py"
  },
  "language_info": {
   "codemirror_mode": {
    "name": "ipython",
    "version": 3
   },
   "file_extension": ".py",
   "mimetype": "text/x-python",
   "name": "python",
   "nbconvert_exporter": "python",
   "pygments_lexer": "ipython3",
   "version": "3.11.10"
  }
 },
 "nbformat": 4,
 "nbformat_minor": 5
}
